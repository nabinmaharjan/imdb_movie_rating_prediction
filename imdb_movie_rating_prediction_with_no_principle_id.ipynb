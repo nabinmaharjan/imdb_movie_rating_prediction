{
 "cells": [
  {
   "cell_type": "markdown",
   "metadata": {},
   "source": [
    "# Data Exploration\n",
    "## 1. Load the data\n",
    "1. We load the data from different dataset files for investigation. \n",
    "2. We load the data using pandas dataframe. \n",
    "3. We set the datatypes of all the fields to object such that pandas avoid datatype checking for fast loading."
   ]
  },
  {
   "cell_type": "code",
   "execution_count": 1,
   "metadata": {
    "collapsed": true
   },
   "outputs": [],
   "source": [
    "import pandas as pd\n",
    "import os.path\n",
    "file_template = \"./data/orig/{0}/data.tsv\"\n",
    "data_files = [\"title.akas.tsv\",\"title.basics.tsv\",\"title.crew.tsv\",\"title.episode.tsv\",\"title.principals.tsv\",\"title.ratings.tsv\",\n",
    "              \"name.basics.tsv\"]"
   ]
  },
  {
   "cell_type": "markdown",
   "metadata": {},
   "source": [
    "### 1.1. Look at title.akas.tsv\n",
    "\n",
    "1. \\N most frequent value for **language**, **types** and **attributes** columns\n",
    "2. By grouping the data by **titleId**, we can get the count of different versions of movies\n",
    "3. The high frequency/count of movie versions might indicate that a movie is a very popular movie and thus, is useful for movie prediction\n",
    "4. We only retain **titleId** and **count_movie_versions** for our feature engineering later"
   ]
  },
  {
   "cell_type": "code",
   "execution_count": 7,
   "metadata": {
    "collapsed": false
   },
   "outputs": [
    {
     "data": {
      "text/html": [
       "<div>\n",
       "<table border=\"1\" class=\"dataframe\">\n",
       "  <thead>\n",
       "    <tr style=\"text-align: right;\">\n",
       "      <th></th>\n",
       "      <th>titleId</th>\n",
       "      <th>ordering</th>\n",
       "      <th>title</th>\n",
       "      <th>region</th>\n",
       "      <th>language</th>\n",
       "      <th>types</th>\n",
       "      <th>attributes</th>\n",
       "      <th>isOriginalTitle</th>\n",
       "    </tr>\n",
       "  </thead>\n",
       "  <tbody>\n",
       "    <tr>\n",
       "      <th>count</th>\n",
       "      <td>3772562</td>\n",
       "      <td>3772562</td>\n",
       "      <td>3772562</td>\n",
       "      <td>3772505</td>\n",
       "      <td>3772562</td>\n",
       "      <td>3772562</td>\n",
       "      <td>3772562</td>\n",
       "      <td>3772562</td>\n",
       "    </tr>\n",
       "    <tr>\n",
       "      <th>unique</th>\n",
       "      <td>2104393</td>\n",
       "      <td>197</td>\n",
       "      <td>2480238</td>\n",
       "      <td>245</td>\n",
       "      <td>95</td>\n",
       "      <td>16</td>\n",
       "      <td>189</td>\n",
       "      <td>3</td>\n",
       "    </tr>\n",
       "    <tr>\n",
       "      <th>top</th>\n",
       "      <td>tt8185052</td>\n",
       "      <td>1</td>\n",
       "      <td>Episode #1.1</td>\n",
       "      <td>US</td>\n",
       "      <td>\\N</td>\n",
       "      <td>\\N</td>\n",
       "      <td>\\N</td>\n",
       "      <td>0</td>\n",
       "    </tr>\n",
       "    <tr>\n",
       "      <th>freq</th>\n",
       "      <td>197</td>\n",
       "      <td>2104393</td>\n",
       "      <td>2592</td>\n",
       "      <td>951775</td>\n",
       "      <td>3487279</td>\n",
       "      <td>2716661</td>\n",
       "      <td>3597019</td>\n",
       "      <td>3373342</td>\n",
       "    </tr>\n",
       "  </tbody>\n",
       "</table>\n",
       "</div>"
      ],
      "text/plain": [
       "          titleId ordering         title   region language    types  \\\n",
       "count     3772562  3772562       3772562  3772505  3772562  3772562   \n",
       "unique    2104393      197       2480238      245       95       16   \n",
       "top     tt8185052        1  Episode #1.1       US       \\N       \\N   \n",
       "freq          197  2104393          2592   951775  3487279  2716661   \n",
       "\n",
       "       attributes isOriginalTitle  \n",
       "count     3772562         3772562  \n",
       "unique        189               3  \n",
       "top            \\N               0  \n",
       "freq      3597019         3373342  "
      ]
     },
     "execution_count": 7,
     "metadata": {},
     "output_type": "execute_result"
    }
   ],
   "source": [
    "import pandas as pd\n",
    "import os.path\n",
    "\n",
    "file_path = os.path.abspath(file_template.format(data_files[0]))\n",
    "\n",
    "df_title_akas = pd.read_csv(file_path,sep=\"\\t\",quoting=3,dtype={\"titleId\":object,\"ordering\":object,\"title\":object,\"region\":object,\n",
    "                                                              \"language\":object,\"types\":object,\"attributes\":object,\"isOriginalTitle\":object})\n",
    "df_title_akas.describe()"
   ]
  },
  {
   "cell_type": "code",
   "execution_count": 8,
   "metadata": {
    "collapsed": false
   },
   "outputs": [
    {
     "data": {
      "text/html": [
       "<div>\n",
       "<table border=\"1\" class=\"dataframe\">\n",
       "  <thead>\n",
       "    <tr style=\"text-align: right;\">\n",
       "      <th></th>\n",
       "      <th>titleId</th>\n",
       "      <th>ordering</th>\n",
       "      <th>title</th>\n",
       "      <th>region</th>\n",
       "      <th>language</th>\n",
       "      <th>types</th>\n",
       "      <th>attributes</th>\n",
       "      <th>isOriginalTitle</th>\n",
       "    </tr>\n",
       "  </thead>\n",
       "  <tbody>\n",
       "    <tr>\n",
       "      <th>0</th>\n",
       "      <td>tt0000001</td>\n",
       "      <td>1</td>\n",
       "      <td>Carmencita - spanyol tánc</td>\n",
       "      <td>HU</td>\n",
       "      <td>\\N</td>\n",
       "      <td>imdbDisplay</td>\n",
       "      <td>\\N</td>\n",
       "      <td>0</td>\n",
       "    </tr>\n",
       "    <tr>\n",
       "      <th>1</th>\n",
       "      <td>tt0000001</td>\n",
       "      <td>2</td>\n",
       "      <td>Καρμενσίτα</td>\n",
       "      <td>GR</td>\n",
       "      <td>\\N</td>\n",
       "      <td>\\N</td>\n",
       "      <td>\\N</td>\n",
       "      <td>0</td>\n",
       "    </tr>\n",
       "    <tr>\n",
       "      <th>2</th>\n",
       "      <td>tt0000001</td>\n",
       "      <td>3</td>\n",
       "      <td>Карменсита</td>\n",
       "      <td>RU</td>\n",
       "      <td>\\N</td>\n",
       "      <td>\\N</td>\n",
       "      <td>\\N</td>\n",
       "      <td>0</td>\n",
       "    </tr>\n",
       "    <tr>\n",
       "      <th>3</th>\n",
       "      <td>tt0000001</td>\n",
       "      <td>4</td>\n",
       "      <td>Carmencita</td>\n",
       "      <td>US</td>\n",
       "      <td>\\N</td>\n",
       "      <td>\\N</td>\n",
       "      <td>\\N</td>\n",
       "      <td>0</td>\n",
       "    </tr>\n",
       "    <tr>\n",
       "      <th>4</th>\n",
       "      <td>tt0000001</td>\n",
       "      <td>5</td>\n",
       "      <td>Carmencita</td>\n",
       "      <td>\\N</td>\n",
       "      <td>\\N</td>\n",
       "      <td>original</td>\n",
       "      <td>\\N</td>\n",
       "      <td>1</td>\n",
       "    </tr>\n",
       "  </tbody>\n",
       "</table>\n",
       "</div>"
      ],
      "text/plain": [
       "     titleId ordering                      title region language        types  \\\n",
       "0  tt0000001        1  Carmencita - spanyol tánc     HU       \\N  imdbDisplay   \n",
       "1  tt0000001        2                 Καρμενσίτα     GR       \\N           \\N   \n",
       "2  tt0000001        3                 Карменсита     RU       \\N           \\N   \n",
       "3  tt0000001        4                 Carmencita     US       \\N           \\N   \n",
       "4  tt0000001        5                 Carmencita     \\N       \\N     original   \n",
       "\n",
       "  attributes isOriginalTitle  \n",
       "0         \\N               0  \n",
       "1         \\N               0  \n",
       "2         \\N               0  \n",
       "3         \\N               0  \n",
       "4         \\N               1  "
      ]
     },
     "execution_count": 8,
     "metadata": {},
     "output_type": "execute_result"
    }
   ],
   "source": [
    "df_title_akas.head(5)"
   ]
  },
  {
   "cell_type": "code",
   "execution_count": 9,
   "metadata": {
    "collapsed": false
   },
   "outputs": [
    {
     "name": "stdout",
     "output_type": "stream",
     "text": [
      "# of rows:2104393\n"
     ]
    },
    {
     "data": {
      "text/html": [
       "<div>\n",
       "<table border=\"1\" class=\"dataframe\">\n",
       "  <thead>\n",
       "    <tr style=\"text-align: right;\">\n",
       "      <th></th>\n",
       "      <th>titleId</th>\n",
       "      <th>count_movie_versions</th>\n",
       "    </tr>\n",
       "  </thead>\n",
       "  <tbody>\n",
       "    <tr>\n",
       "      <th>0</th>\n",
       "      <td>tt0000001</td>\n",
       "      <td>5</td>\n",
       "    </tr>\n",
       "    <tr>\n",
       "      <th>1</th>\n",
       "      <td>tt0000002</td>\n",
       "      <td>6</td>\n",
       "    </tr>\n",
       "    <tr>\n",
       "      <th>2</th>\n",
       "      <td>tt0000003</td>\n",
       "      <td>6</td>\n",
       "    </tr>\n",
       "    <tr>\n",
       "      <th>3</th>\n",
       "      <td>tt0000004</td>\n",
       "      <td>6</td>\n",
       "    </tr>\n",
       "    <tr>\n",
       "      <th>4</th>\n",
       "      <td>tt0000005</td>\n",
       "      <td>9</td>\n",
       "    </tr>\n",
       "  </tbody>\n",
       "</table>\n",
       "</div>"
      ],
      "text/plain": [
       "     titleId  count_movie_versions\n",
       "0  tt0000001                     5\n",
       "1  tt0000002                     6\n",
       "2  tt0000003                     6\n",
       "3  tt0000004                     6\n",
       "4  tt0000005                     9"
      ]
     },
     "execution_count": 9,
     "metadata": {},
     "output_type": "execute_result"
    }
   ],
   "source": [
    "# get the count of ordering by movie_title\n",
    "df_title_akas = df_title_akas.groupby('titleId', as_index=False)['ordering'].count()\n",
    "# rename ordering to count_movie_versions\n",
    "column_renames = {'titleId': 'titleId', 'ordering': 'count_movie_versions'}\n",
    "df_title_akas.rename(columns=column_renames, inplace=True)\n",
    "print(\"# of rows:{0}\".format(df_title_akas['titleId'].count()))\n",
    "df_title_akas.head(5)"
   ]
  },
  {
   "cell_type": "markdown",
   "metadata": {},
   "source": [
    "### 1.2. Look at title.basics.tsv\n",
    "\n",
    "1. \\N is most frequent value for **startYear**, **endYear**, **runtimeMinutes** columns\n",
    "2. **titleType**, **isAdult**, **runtimeMinutes** and **genres** might be useful features\n",
    "3. **startYear** might also be an indicative feature as movie making process is constantly evolving over time. For example, some old classic movies might not resonate well with the youth of today. We don't explore this feature for now.\n",
    "4. more number of movies (unique = 5810674) in title.basics.tsv than the number of movies (unique = 2104393) in title_akas"
   ]
  },
  {
   "cell_type": "code",
   "execution_count": 10,
   "metadata": {
    "collapsed": false
   },
   "outputs": [
    {
     "data": {
      "text/html": [
       "<div>\n",
       "<table border=\"1\" class=\"dataframe\">\n",
       "  <thead>\n",
       "    <tr style=\"text-align: right;\">\n",
       "      <th></th>\n",
       "      <th>tconst</th>\n",
       "      <th>titleType</th>\n",
       "      <th>primaryTitle</th>\n",
       "      <th>originalTitle</th>\n",
       "      <th>isAdult</th>\n",
       "      <th>startYear</th>\n",
       "      <th>endYear</th>\n",
       "      <th>runtimeMinutes</th>\n",
       "      <th>genres</th>\n",
       "    </tr>\n",
       "  </thead>\n",
       "  <tbody>\n",
       "    <tr>\n",
       "      <th>count</th>\n",
       "      <td>5810674</td>\n",
       "      <td>5810674</td>\n",
       "      <td>5810667</td>\n",
       "      <td>5810667</td>\n",
       "      <td>5810674</td>\n",
       "      <td>5810674</td>\n",
       "      <td>5810674</td>\n",
       "      <td>5810674</td>\n",
       "      <td>5810674</td>\n",
       "    </tr>\n",
       "    <tr>\n",
       "      <th>unique</th>\n",
       "      <td>5810674</td>\n",
       "      <td>10</td>\n",
       "      <td>2982928</td>\n",
       "      <td>2997703</td>\n",
       "      <td>2</td>\n",
       "      <td>146</td>\n",
       "      <td>92</td>\n",
       "      <td>809</td>\n",
       "      <td>2226</td>\n",
       "    </tr>\n",
       "    <tr>\n",
       "      <th>top</th>\n",
       "      <td>tt9095510</td>\n",
       "      <td>tvEpisode</td>\n",
       "      <td>Episode #1.1</td>\n",
       "      <td>Episode #1.1</td>\n",
       "      <td>0</td>\n",
       "      <td>\\N</td>\n",
       "      <td>\\N</td>\n",
       "      <td>\\N</td>\n",
       "      <td>Drama</td>\n",
       "    </tr>\n",
       "    <tr>\n",
       "      <th>freq</th>\n",
       "      <td>1</td>\n",
       "      <td>4021878</td>\n",
       "      <td>31578</td>\n",
       "      <td>31584</td>\n",
       "      <td>5634957</td>\n",
       "      <td>332955</td>\n",
       "      <td>5762439</td>\n",
       "      <td>4060074</td>\n",
       "      <td>509779</td>\n",
       "    </tr>\n",
       "  </tbody>\n",
       "</table>\n",
       "</div>"
      ],
      "text/plain": [
       "           tconst  titleType  primaryTitle originalTitle  isAdult startYear  \\\n",
       "count     5810674    5810674       5810667       5810667  5810674   5810674   \n",
       "unique    5810674         10       2982928       2997703        2       146   \n",
       "top     tt9095510  tvEpisode  Episode #1.1  Episode #1.1        0        \\N   \n",
       "freq            1    4021878         31578         31584  5634957    332955   \n",
       "\n",
       "        endYear runtimeMinutes   genres  \n",
       "count   5810674        5810674  5810674  \n",
       "unique       92            809     2226  \n",
       "top          \\N             \\N    Drama  \n",
       "freq    5762439        4060074   509779  "
      ]
     },
     "execution_count": 10,
     "metadata": {},
     "output_type": "execute_result"
    }
   ],
   "source": [
    "file_path = os.path.abspath(file_template.format(data_files[1]))\n",
    "\n",
    "df_title_basics = pd.read_csv(file_path,sep=\"\\t\",quoting=3,dtype={\"tconst\":object,\"titleType\":object,\"primaryTitle\":object,\"originalTitle\":object,\n",
    "                                                              \"isAdult\":object,\"startYear\":object,\"endYear\":object,\"runtimeMinutes\":object,\"genres\":object})\n",
    "df_title_basics.describe()"
   ]
  },
  {
   "cell_type": "code",
   "execution_count": 11,
   "metadata": {
    "collapsed": false
   },
   "outputs": [
    {
     "data": {
      "text/html": [
       "<div>\n",
       "<table border=\"1\" class=\"dataframe\">\n",
       "  <thead>\n",
       "    <tr style=\"text-align: right;\">\n",
       "      <th></th>\n",
       "      <th>tconst</th>\n",
       "      <th>titleType</th>\n",
       "      <th>primaryTitle</th>\n",
       "      <th>originalTitle</th>\n",
       "      <th>isAdult</th>\n",
       "      <th>startYear</th>\n",
       "      <th>endYear</th>\n",
       "      <th>runtimeMinutes</th>\n",
       "      <th>genres</th>\n",
       "    </tr>\n",
       "  </thead>\n",
       "  <tbody>\n",
       "    <tr>\n",
       "      <th>0</th>\n",
       "      <td>tt0000001</td>\n",
       "      <td>short</td>\n",
       "      <td>Carmencita</td>\n",
       "      <td>Carmencita</td>\n",
       "      <td>0</td>\n",
       "      <td>1894</td>\n",
       "      <td>\\N</td>\n",
       "      <td>1</td>\n",
       "      <td>Documentary,Short</td>\n",
       "    </tr>\n",
       "    <tr>\n",
       "      <th>1</th>\n",
       "      <td>tt0000002</td>\n",
       "      <td>short</td>\n",
       "      <td>Le clown et ses chiens</td>\n",
       "      <td>Le clown et ses chiens</td>\n",
       "      <td>0</td>\n",
       "      <td>1892</td>\n",
       "      <td>\\N</td>\n",
       "      <td>5</td>\n",
       "      <td>Animation,Short</td>\n",
       "    </tr>\n",
       "    <tr>\n",
       "      <th>2</th>\n",
       "      <td>tt0000003</td>\n",
       "      <td>short</td>\n",
       "      <td>Pauvre Pierrot</td>\n",
       "      <td>Pauvre Pierrot</td>\n",
       "      <td>0</td>\n",
       "      <td>1892</td>\n",
       "      <td>\\N</td>\n",
       "      <td>4</td>\n",
       "      <td>Animation,Comedy,Romance</td>\n",
       "    </tr>\n",
       "    <tr>\n",
       "      <th>3</th>\n",
       "      <td>tt0000004</td>\n",
       "      <td>short</td>\n",
       "      <td>Un bon bock</td>\n",
       "      <td>Un bon bock</td>\n",
       "      <td>0</td>\n",
       "      <td>1892</td>\n",
       "      <td>\\N</td>\n",
       "      <td>\\N</td>\n",
       "      <td>Animation,Short</td>\n",
       "    </tr>\n",
       "    <tr>\n",
       "      <th>4</th>\n",
       "      <td>tt0000005</td>\n",
       "      <td>short</td>\n",
       "      <td>Blacksmith Scene</td>\n",
       "      <td>Blacksmith Scene</td>\n",
       "      <td>0</td>\n",
       "      <td>1893</td>\n",
       "      <td>\\N</td>\n",
       "      <td>1</td>\n",
       "      <td>Comedy,Short</td>\n",
       "    </tr>\n",
       "  </tbody>\n",
       "</table>\n",
       "</div>"
      ],
      "text/plain": [
       "      tconst titleType            primaryTitle           originalTitle  \\\n",
       "0  tt0000001     short              Carmencita              Carmencita   \n",
       "1  tt0000002     short  Le clown et ses chiens  Le clown et ses chiens   \n",
       "2  tt0000003     short          Pauvre Pierrot          Pauvre Pierrot   \n",
       "3  tt0000004     short             Un bon bock             Un bon bock   \n",
       "4  tt0000005     short        Blacksmith Scene        Blacksmith Scene   \n",
       "\n",
       "  isAdult startYear endYear runtimeMinutes                    genres  \n",
       "0       0      1894      \\N              1         Documentary,Short  \n",
       "1       0      1892      \\N              5           Animation,Short  \n",
       "2       0      1892      \\N              4  Animation,Comedy,Romance  \n",
       "3       0      1892      \\N             \\N           Animation,Short  \n",
       "4       0      1893      \\N              1              Comedy,Short  "
      ]
     },
     "execution_count": 11,
     "metadata": {},
     "output_type": "execute_result"
    }
   ],
   "source": [
    "df_title_basics.head(5)"
   ]
  },
  {
   "cell_type": "code",
   "execution_count": 13,
   "metadata": {
    "collapsed": false
   },
   "outputs": [
    {
     "data": {
      "text/html": [
       "<div>\n",
       "<table border=\"1\" class=\"dataframe\">\n",
       "  <thead>\n",
       "    <tr style=\"text-align: right;\">\n",
       "      <th></th>\n",
       "      <th>tconst</th>\n",
       "      <th>titleType</th>\n",
       "      <th>isAdult</th>\n",
       "      <th>runtimeMinutes</th>\n",
       "      <th>genres</th>\n",
       "    </tr>\n",
       "  </thead>\n",
       "  <tbody>\n",
       "    <tr>\n",
       "      <th>0</th>\n",
       "      <td>tt0000001</td>\n",
       "      <td>short</td>\n",
       "      <td>0</td>\n",
       "      <td>1</td>\n",
       "      <td>Documentary,Short</td>\n",
       "    </tr>\n",
       "    <tr>\n",
       "      <th>1</th>\n",
       "      <td>tt0000002</td>\n",
       "      <td>short</td>\n",
       "      <td>0</td>\n",
       "      <td>5</td>\n",
       "      <td>Animation,Short</td>\n",
       "    </tr>\n",
       "    <tr>\n",
       "      <th>2</th>\n",
       "      <td>tt0000003</td>\n",
       "      <td>short</td>\n",
       "      <td>0</td>\n",
       "      <td>4</td>\n",
       "      <td>Animation,Comedy,Romance</td>\n",
       "    </tr>\n",
       "    <tr>\n",
       "      <th>3</th>\n",
       "      <td>tt0000004</td>\n",
       "      <td>short</td>\n",
       "      <td>0</td>\n",
       "      <td>\\N</td>\n",
       "      <td>Animation,Short</td>\n",
       "    </tr>\n",
       "    <tr>\n",
       "      <th>4</th>\n",
       "      <td>tt0000005</td>\n",
       "      <td>short</td>\n",
       "      <td>0</td>\n",
       "      <td>1</td>\n",
       "      <td>Comedy,Short</td>\n",
       "    </tr>\n",
       "  </tbody>\n",
       "</table>\n",
       "</div>"
      ],
      "text/plain": [
       "      tconst titleType isAdult runtimeMinutes                    genres\n",
       "0  tt0000001     short       0              1         Documentary,Short\n",
       "1  tt0000002     short       0              5           Animation,Short\n",
       "2  tt0000003     short       0              4  Animation,Comedy,Romance\n",
       "3  tt0000004     short       0             \\N           Animation,Short\n",
       "4  tt0000005     short       0              1              Comedy,Short"
      ]
     },
     "execution_count": 13,
     "metadata": {},
     "output_type": "execute_result"
    }
   ],
   "source": [
    "df_title_basics = df_title_basics[['tconst','titleType','isAdult','runtimeMinutes','genres']]\n",
    "df_title_basics.head(5)"
   ]
  },
  {
   "cell_type": "raw",
   "metadata": {},
   "source": []
  },
  {
   "cell_type": "markdown",
   "metadata": {},
   "source": [
    "### 1.3. Look at title.crew.tsv\n",
    "\n",
    "1.  \\N most frequent values for **directors**, **writers** columns\n",
    "2. **5810674** number of unique movie titles same as number of unique movie titles in  **df_title_basics**\n",
    "3. good directors and good writers are good indicators of highly rated movies. e.g. Tarantino, Steven Spielberg are very successful directors."
   ]
  },
  {
   "cell_type": "code",
   "execution_count": 14,
   "metadata": {
    "collapsed": false
   },
   "outputs": [
    {
     "data": {
      "text/html": [
       "<div>\n",
       "<table border=\"1\" class=\"dataframe\">\n",
       "  <thead>\n",
       "    <tr style=\"text-align: right;\">\n",
       "      <th></th>\n",
       "      <th>tconst</th>\n",
       "      <th>directors</th>\n",
       "      <th>writers</th>\n",
       "    </tr>\n",
       "  </thead>\n",
       "  <tbody>\n",
       "    <tr>\n",
       "      <th>count</th>\n",
       "      <td>5810674</td>\n",
       "      <td>5810674</td>\n",
       "      <td>5810674</td>\n",
       "    </tr>\n",
       "    <tr>\n",
       "      <th>unique</th>\n",
       "      <td>5810674</td>\n",
       "      <td>672200</td>\n",
       "      <td>948391</td>\n",
       "    </tr>\n",
       "    <tr>\n",
       "      <th>top</th>\n",
       "      <td>tt9095510</td>\n",
       "      <td>\\N</td>\n",
       "      <td>\\N</td>\n",
       "    </tr>\n",
       "    <tr>\n",
       "      <th>freq</th>\n",
       "      <td>1</td>\n",
       "      <td>2436856</td>\n",
       "      <td>2869024</td>\n",
       "    </tr>\n",
       "  </tbody>\n",
       "</table>\n",
       "</div>"
      ],
      "text/plain": [
       "           tconst directors  writers\n",
       "count     5810674   5810674  5810674\n",
       "unique    5810674    672200   948391\n",
       "top     tt9095510        \\N       \\N\n",
       "freq            1   2436856  2869024"
      ]
     },
     "execution_count": 14,
     "metadata": {},
     "output_type": "execute_result"
    }
   ],
   "source": [
    "file_path = os.path.abspath(file_template.format(data_files[2]))\n",
    "df_title_crews = pd.read_csv(file_path, sep=\"\\t\", quoting=3,\n",
    "                                 dtype={\"tconst\": object, \"directors\": object, \"writers\": object})\n",
    "df_title_crews.describe()"
   ]
  },
  {
   "cell_type": "markdown",
   "metadata": {},
   "source": [
    "### 1.4. Look at title.episode.tsv\n",
    "\n",
    "1. fields here might be useful for predicting the rating of episode type movies but not for other type of movies\n",
    "2. we discard the information from this table for now. \n",
    "3. Might be worthwhile to look into in case we want to improve the performance on episode type movie rating prediction"
   ]
  },
  {
   "cell_type": "code",
   "execution_count": 16,
   "metadata": {
    "collapsed": false
   },
   "outputs": [
    {
     "data": {
      "text/html": [
       "<div>\n",
       "<table border=\"1\" class=\"dataframe\">\n",
       "  <thead>\n",
       "    <tr style=\"text-align: right;\">\n",
       "      <th></th>\n",
       "      <th>tconst</th>\n",
       "      <th>parentTconst</th>\n",
       "      <th>seasonNumber</th>\n",
       "      <th>episodeNumber</th>\n",
       "    </tr>\n",
       "  </thead>\n",
       "  <tbody>\n",
       "    <tr>\n",
       "      <th>count</th>\n",
       "      <td>4021677</td>\n",
       "      <td>4021677</td>\n",
       "      <td>4021677</td>\n",
       "      <td>4021677</td>\n",
       "    </tr>\n",
       "    <tr>\n",
       "      <th>unique</th>\n",
       "      <td>4021677</td>\n",
       "      <td>120612</td>\n",
       "      <td>194</td>\n",
       "      <td>15421</td>\n",
       "    </tr>\n",
       "    <tr>\n",
       "      <th>top</th>\n",
       "      <td>tt9095510</td>\n",
       "      <td>tt0058796</td>\n",
       "      <td>1</td>\n",
       "      <td>\\N</td>\n",
       "    </tr>\n",
       "    <tr>\n",
       "      <th>freq</th>\n",
       "      <td>1</td>\n",
       "      <td>10739</td>\n",
       "      <td>1873725</td>\n",
       "      <td>881230</td>\n",
       "    </tr>\n",
       "  </tbody>\n",
       "</table>\n",
       "</div>"
      ],
      "text/plain": [
       "           tconst parentTconst seasonNumber episodeNumber\n",
       "count     4021677      4021677      4021677       4021677\n",
       "unique    4021677       120612          194         15421\n",
       "top     tt9095510    tt0058796            1            \\N\n",
       "freq            1        10739      1873725        881230"
      ]
     },
     "execution_count": 16,
     "metadata": {},
     "output_type": "execute_result"
    }
   ],
   "source": [
    "file_path = os.path.abspath(file_template.format(data_files[3]))\n",
    "df_title_episode = pd.read_csv(file_path, sep=\"\\t\", quoting=3,\n",
    "                                 dtype={\"tconst\": object, \"parentTconst\": object, \"seasonNumber\": object, \"episodeNumber\": object})\n",
    "df_title_episode.describe()"
   ]
  },
  {
   "cell_type": "code",
   "execution_count": 17,
   "metadata": {
    "collapsed": true
   },
   "outputs": [],
   "source": [
    "del df_title_episode"
   ]
  },
  {
   "cell_type": "markdown",
   "metadata": {},
   "source": [
    "### 1.5. Look at title.principals.tsv\n",
    "\n",
    "1. \\N are most frequent values for **job** and **characters** columns\n",
    "2. **characters** may be useful feature for movies where characters are more famous. e.g. Sherlock Holmes, Spiderman, Ironman etc. Half of data have \\N values for **characters** column.\n",
    "3. More than 3/4th data have \\N valaues for **job** column \n",
    "4. We ignore **characters** and **job** columns\n",
    "5. A derived column **principal_cast_count** for a movie shows the scale/canvas of the movie. Usually, these movies have a lot of hype and might be highly rated. e.g. Avengers movie etc. We can derive **principal_cast_count** if we group the data by **tconst** and count the number of rows in each group\n",
    "6. Different people have different favorite actor, producer or director. And, peoply also consider cast when making a decision to  watch a movie. They might give high rating if their favorite actor performance is great. Successful actors or people have greater fan following. A success of a cast might be indirectly measured by the count of movies they are involved in. So, such counts can also be usful features. e.g. count of movies a cast, say, 'nm0005690' is involved as a **director** etc. We can derive such counts by grouping the data by **('nconst','category')**"
   ]
  },
  {
   "cell_type": "code",
   "execution_count": 18,
   "metadata": {
    "collapsed": false
   },
   "outputs": [
    {
     "data": {
      "text/html": [
       "<div>\n",
       "<table border=\"1\" class=\"dataframe\">\n",
       "  <thead>\n",
       "    <tr style=\"text-align: right;\">\n",
       "      <th></th>\n",
       "      <th>tconst</th>\n",
       "      <th>ordering</th>\n",
       "      <th>nconst</th>\n",
       "      <th>category</th>\n",
       "      <th>job</th>\n",
       "      <th>characters</th>\n",
       "    </tr>\n",
       "  </thead>\n",
       "  <tbody>\n",
       "    <tr>\n",
       "      <th>count</th>\n",
       "      <td>33355563</td>\n",
       "      <td>33355563</td>\n",
       "      <td>33355563</td>\n",
       "      <td>33355563</td>\n",
       "      <td>33355563</td>\n",
       "      <td>33355563</td>\n",
       "    </tr>\n",
       "    <tr>\n",
       "      <th>unique</th>\n",
       "      <td>5217172</td>\n",
       "      <td>10</td>\n",
       "      <td>3688208</td>\n",
       "      <td>12</td>\n",
       "      <td>31180</td>\n",
       "      <td>2117921</td>\n",
       "    </tr>\n",
       "    <tr>\n",
       "      <th>top</th>\n",
       "      <td>tt9095510</td>\n",
       "      <td>1</td>\n",
       "      <td>nm0914844</td>\n",
       "      <td>actor</td>\n",
       "      <td>\\N</td>\n",
       "      <td>\\N</td>\n",
       "    </tr>\n",
       "    <tr>\n",
       "      <th>freq</th>\n",
       "      <td>10</td>\n",
       "      <td>5217172</td>\n",
       "      <td>12960</td>\n",
       "      <td>7881176</td>\n",
       "      <td>27849510</td>\n",
       "      <td>16247111</td>\n",
       "    </tr>\n",
       "  </tbody>\n",
       "</table>\n",
       "</div>"
      ],
      "text/plain": [
       "           tconst  ordering     nconst  category       job characters\n",
       "count    33355563  33355563   33355563  33355563  33355563   33355563\n",
       "unique    5217172        10    3688208        12     31180    2117921\n",
       "top     tt9095510         1  nm0914844     actor        \\N         \\N\n",
       "freq           10   5217172      12960   7881176  27849510   16247111"
      ]
     },
     "execution_count": 18,
     "metadata": {},
     "output_type": "execute_result"
    }
   ],
   "source": [
    "file_path = os.path.abspath(file_template.format(data_files[4]))\n",
    "\n",
    "df_title_principals = pd.read_csv(file_path,sep=\"\\t\",quoting=3,dtype={\"tconst\":object,\"ordering\":object,\"nconst\":object\n",
    "                                                                  ,\"category\":object,\"job\":object,\"characters\":object})\n",
    "df_title_principals.describe()"
   ]
  },
  {
   "cell_type": "code",
   "execution_count": 19,
   "metadata": {
    "collapsed": false
   },
   "outputs": [
    {
     "data": {
      "text/html": [
       "<div>\n",
       "<table border=\"1\" class=\"dataframe\">\n",
       "  <thead>\n",
       "    <tr style=\"text-align: right;\">\n",
       "      <th></th>\n",
       "      <th>tconst</th>\n",
       "      <th>ordering</th>\n",
       "      <th>nconst</th>\n",
       "      <th>category</th>\n",
       "      <th>job</th>\n",
       "      <th>characters</th>\n",
       "    </tr>\n",
       "  </thead>\n",
       "  <tbody>\n",
       "    <tr>\n",
       "      <th>0</th>\n",
       "      <td>tt0000001</td>\n",
       "      <td>1</td>\n",
       "      <td>nm1588970</td>\n",
       "      <td>self</td>\n",
       "      <td>\\N</td>\n",
       "      <td>[\"Herself\"]</td>\n",
       "    </tr>\n",
       "    <tr>\n",
       "      <th>1</th>\n",
       "      <td>tt0000001</td>\n",
       "      <td>2</td>\n",
       "      <td>nm0005690</td>\n",
       "      <td>director</td>\n",
       "      <td>\\N</td>\n",
       "      <td>\\N</td>\n",
       "    </tr>\n",
       "    <tr>\n",
       "      <th>2</th>\n",
       "      <td>tt0000001</td>\n",
       "      <td>3</td>\n",
       "      <td>nm0374658</td>\n",
       "      <td>cinematographer</td>\n",
       "      <td>director of photography</td>\n",
       "      <td>\\N</td>\n",
       "    </tr>\n",
       "    <tr>\n",
       "      <th>3</th>\n",
       "      <td>tt0000002</td>\n",
       "      <td>1</td>\n",
       "      <td>nm0721526</td>\n",
       "      <td>director</td>\n",
       "      <td>\\N</td>\n",
       "      <td>\\N</td>\n",
       "    </tr>\n",
       "    <tr>\n",
       "      <th>4</th>\n",
       "      <td>tt0000002</td>\n",
       "      <td>2</td>\n",
       "      <td>nm1335271</td>\n",
       "      <td>composer</td>\n",
       "      <td>\\N</td>\n",
       "      <td>\\N</td>\n",
       "    </tr>\n",
       "  </tbody>\n",
       "</table>\n",
       "</div>"
      ],
      "text/plain": [
       "      tconst ordering     nconst         category                      job  \\\n",
       "0  tt0000001        1  nm1588970             self                       \\N   \n",
       "1  tt0000001        2  nm0005690         director                       \\N   \n",
       "2  tt0000001        3  nm0374658  cinematographer  director of photography   \n",
       "3  tt0000002        1  nm0721526         director                       \\N   \n",
       "4  tt0000002        2  nm1335271         composer                       \\N   \n",
       "\n",
       "    characters  \n",
       "0  [\"Herself\"]  \n",
       "1           \\N  \n",
       "2           \\N  \n",
       "3           \\N  \n",
       "4           \\N  "
      ]
     },
     "execution_count": 19,
     "metadata": {},
     "output_type": "execute_result"
    }
   ],
   "source": [
    "df_title_principals.head(5)"
   ]
  },
  {
   "cell_type": "code",
   "execution_count": 21,
   "metadata": {
    "collapsed": false
   },
   "outputs": [],
   "source": [
    "df_title_principals = df_title_principals[['tconst','ordering','nconst','category']]"
   ]
  },
  {
   "cell_type": "code",
   "execution_count": 22,
   "metadata": {
    "collapsed": false
   },
   "outputs": [
    {
     "data": {
      "text/html": [
       "<div>\n",
       "<table border=\"1\" class=\"dataframe\">\n",
       "  <thead>\n",
       "    <tr style=\"text-align: right;\">\n",
       "      <th></th>\n",
       "      <th>tconst</th>\n",
       "      <th>ordering</th>\n",
       "      <th>nconst</th>\n",
       "      <th>category</th>\n",
       "    </tr>\n",
       "  </thead>\n",
       "  <tbody>\n",
       "    <tr>\n",
       "      <th>0</th>\n",
       "      <td>tt0000001</td>\n",
       "      <td>1</td>\n",
       "      <td>nm1588970</td>\n",
       "      <td>self</td>\n",
       "    </tr>\n",
       "    <tr>\n",
       "      <th>1</th>\n",
       "      <td>tt0000001</td>\n",
       "      <td>2</td>\n",
       "      <td>nm0005690</td>\n",
       "      <td>director</td>\n",
       "    </tr>\n",
       "    <tr>\n",
       "      <th>2</th>\n",
       "      <td>tt0000001</td>\n",
       "      <td>3</td>\n",
       "      <td>nm0374658</td>\n",
       "      <td>cinematographer</td>\n",
       "    </tr>\n",
       "    <tr>\n",
       "      <th>3</th>\n",
       "      <td>tt0000002</td>\n",
       "      <td>1</td>\n",
       "      <td>nm0721526</td>\n",
       "      <td>director</td>\n",
       "    </tr>\n",
       "    <tr>\n",
       "      <th>4</th>\n",
       "      <td>tt0000002</td>\n",
       "      <td>2</td>\n",
       "      <td>nm1335271</td>\n",
       "      <td>composer</td>\n",
       "    </tr>\n",
       "  </tbody>\n",
       "</table>\n",
       "</div>"
      ],
      "text/plain": [
       "      tconst ordering     nconst         category\n",
       "0  tt0000001        1  nm1588970             self\n",
       "1  tt0000001        2  nm0005690         director\n",
       "2  tt0000001        3  nm0374658  cinematographer\n",
       "3  tt0000002        1  nm0721526         director\n",
       "4  tt0000002        2  nm1335271         composer"
      ]
     },
     "execution_count": 22,
     "metadata": {},
     "output_type": "execute_result"
    }
   ],
   "source": [
    "df_title_principals.head(5)"
   ]
  },
  {
   "cell_type": "markdown",
   "metadata": {},
   "source": [
    "### 1.6. Look at title.ratings.tsv\n",
    "\n",
    "1. movie ratings for only 927239 movies which is 6% of the number of movies in title.basics.tsv\n",
    "2. numVotes depicts the degree/amount of confidence for the movie rating. "
   ]
  },
  {
   "cell_type": "code",
   "execution_count": 23,
   "metadata": {
    "collapsed": false
   },
   "outputs": [
    {
     "data": {
      "text/html": [
       "<div>\n",
       "<table border=\"1\" class=\"dataframe\">\n",
       "  <thead>\n",
       "    <tr style=\"text-align: right;\">\n",
       "      <th></th>\n",
       "      <th>tconst</th>\n",
       "      <th>averageRating</th>\n",
       "      <th>numVotes</th>\n",
       "    </tr>\n",
       "  </thead>\n",
       "  <tbody>\n",
       "    <tr>\n",
       "      <th>count</th>\n",
       "      <td>927239</td>\n",
       "      <td>927239</td>\n",
       "      <td>927239</td>\n",
       "    </tr>\n",
       "    <tr>\n",
       "      <th>unique</th>\n",
       "      <td>927239</td>\n",
       "      <td>91</td>\n",
       "      <td>16877</td>\n",
       "    </tr>\n",
       "    <tr>\n",
       "      <th>top</th>\n",
       "      <td>tt4422710</td>\n",
       "      <td>7.2</td>\n",
       "      <td>5</td>\n",
       "    </tr>\n",
       "    <tr>\n",
       "      <th>freq</th>\n",
       "      <td>1</td>\n",
       "      <td>34196</td>\n",
       "      <td>68477</td>\n",
       "    </tr>\n",
       "  </tbody>\n",
       "</table>\n",
       "</div>"
      ],
      "text/plain": [
       "           tconst averageRating numVotes\n",
       "count      927239        927239   927239\n",
       "unique     927239            91    16877\n",
       "top     tt4422710           7.2        5\n",
       "freq            1         34196    68477"
      ]
     },
     "execution_count": 23,
     "metadata": {},
     "output_type": "execute_result"
    }
   ],
   "source": [
    "file_path = os.path.abspath(file_template.format(data_files[5]))\n",
    "\n",
    "df_title_ratings = pd.read_csv(file_path,sep=\"\\t\",quoting=3,dtype={\"tconst\":object,\"averageRating\":object,\"numVotes\":object})\n",
    "df_title_ratings.describe()"
   ]
  },
  {
   "cell_type": "code",
   "execution_count": 24,
   "metadata": {
    "collapsed": true
   },
   "outputs": [],
   "source": [
    "df_title_ratings = df_title_ratings[['tconst','averageRating']]"
   ]
  },
  {
   "cell_type": "code",
   "execution_count": 25,
   "metadata": {
    "collapsed": false
   },
   "outputs": [
    {
     "data": {
      "text/html": [
       "<div>\n",
       "<table border=\"1\" class=\"dataframe\">\n",
       "  <thead>\n",
       "    <tr style=\"text-align: right;\">\n",
       "      <th></th>\n",
       "      <th>tconst</th>\n",
       "      <th>averageRating</th>\n",
       "    </tr>\n",
       "  </thead>\n",
       "  <tbody>\n",
       "    <tr>\n",
       "      <th>0</th>\n",
       "      <td>tt0000001</td>\n",
       "      <td>5.8</td>\n",
       "    </tr>\n",
       "    <tr>\n",
       "      <th>1</th>\n",
       "      <td>tt0000002</td>\n",
       "      <td>6.3</td>\n",
       "    </tr>\n",
       "    <tr>\n",
       "      <th>2</th>\n",
       "      <td>tt0000003</td>\n",
       "      <td>6.6</td>\n",
       "    </tr>\n",
       "    <tr>\n",
       "      <th>3</th>\n",
       "      <td>tt0000004</td>\n",
       "      <td>6.4</td>\n",
       "    </tr>\n",
       "    <tr>\n",
       "      <th>4</th>\n",
       "      <td>tt0000005</td>\n",
       "      <td>6.2</td>\n",
       "    </tr>\n",
       "  </tbody>\n",
       "</table>\n",
       "</div>"
      ],
      "text/plain": [
       "      tconst averageRating\n",
       "0  tt0000001           5.8\n",
       "1  tt0000002           6.3\n",
       "2  tt0000003           6.6\n",
       "3  tt0000004           6.4\n",
       "4  tt0000005           6.2"
      ]
     },
     "execution_count": 25,
     "metadata": {},
     "output_type": "execute_result"
    }
   ],
   "source": [
    "df_title_ratings.head(5)"
   ]
  },
  {
   "cell_type": "markdown",
   "metadata": {},
   "source": [
    "### 1.7. Look at name.basics.tsv\n",
    "\n",
    "1. nconst is the identifier of principal cast\n",
    "2. we consider only **knownForTitles** and nconst from this data\n",
    "3. actor/cast with higher number of known movie titles indicates how successful/famous he/she is at her job category in the movies."
   ]
  },
  {
   "cell_type": "code",
   "execution_count": 26,
   "metadata": {
    "collapsed": false
   },
   "outputs": [
    {
     "data": {
      "text/html": [
       "<div>\n",
       "<table border=\"1\" class=\"dataframe\">\n",
       "  <thead>\n",
       "    <tr style=\"text-align: right;\">\n",
       "      <th></th>\n",
       "      <th>nconst</th>\n",
       "      <th>primaryName</th>\n",
       "      <th>birthYear</th>\n",
       "      <th>deathYear</th>\n",
       "      <th>primaryProfession</th>\n",
       "      <th>knownForTitles</th>\n",
       "    </tr>\n",
       "  </thead>\n",
       "  <tbody>\n",
       "    <tr>\n",
       "      <th>count</th>\n",
       "      <td>9277393</td>\n",
       "      <td>9277393</td>\n",
       "      <td>9277393</td>\n",
       "      <td>9277393</td>\n",
       "      <td>7574535</td>\n",
       "      <td>9277393</td>\n",
       "    </tr>\n",
       "    <tr>\n",
       "      <th>unique</th>\n",
       "      <td>9277393</td>\n",
       "      <td>7297390</td>\n",
       "      <td>473</td>\n",
       "      <td>417</td>\n",
       "      <td>18018</td>\n",
       "      <td>3957354</td>\n",
       "    </tr>\n",
       "    <tr>\n",
       "      <th>top</th>\n",
       "      <td>nm0795770</td>\n",
       "      <td>David Smith</td>\n",
       "      <td>\\N</td>\n",
       "      <td>\\N</td>\n",
       "      <td>actor</td>\n",
       "      <td>\\N</td>\n",
       "    </tr>\n",
       "    <tr>\n",
       "      <th>freq</th>\n",
       "      <td>1</td>\n",
       "      <td>301</td>\n",
       "      <td>8799296</td>\n",
       "      <td>9111337</td>\n",
       "      <td>1741188</td>\n",
       "      <td>1338710</td>\n",
       "    </tr>\n",
       "  </tbody>\n",
       "</table>\n",
       "</div>"
      ],
      "text/plain": [
       "           nconst  primaryName birthYear deathYear primaryProfession  \\\n",
       "count     9277393      9277393   9277393   9277393           7574535   \n",
       "unique    9277393      7297390       473       417             18018   \n",
       "top     nm0795770  David Smith        \\N        \\N             actor   \n",
       "freq            1          301   8799296   9111337           1741188   \n",
       "\n",
       "       knownForTitles  \n",
       "count         9277393  \n",
       "unique        3957354  \n",
       "top                \\N  \n",
       "freq          1338710  "
      ]
     },
     "execution_count": 26,
     "metadata": {},
     "output_type": "execute_result"
    }
   ],
   "source": [
    "file_path = os.path.abspath(file_template.format(data_files[6]))\n",
    "\n",
    "df_name_basics = pd.read_csv(file_path,sep=\"\\t\",quoting=3,dtype={\"nconst\":object,\"primaryName\":object,\"birthYear\":object\n",
    "                                                                  ,\"deathYear\":object,\"primaryProfession\":object,\"knownForTitles\":object})\n",
    "df_name_basics.describe()"
   ]
  },
  {
   "cell_type": "code",
   "execution_count": 27,
   "metadata": {
    "collapsed": false
   },
   "outputs": [
    {
     "data": {
      "text/html": [
       "<div>\n",
       "<table border=\"1\" class=\"dataframe\">\n",
       "  <thead>\n",
       "    <tr style=\"text-align: right;\">\n",
       "      <th></th>\n",
       "      <th>nconst</th>\n",
       "      <th>knownForTitles</th>\n",
       "    </tr>\n",
       "  </thead>\n",
       "  <tbody>\n",
       "    <tr>\n",
       "      <th>0</th>\n",
       "      <td>nm0000001</td>\n",
       "      <td>tt0050419,tt0053137,tt0043044,tt0072308</td>\n",
       "    </tr>\n",
       "    <tr>\n",
       "      <th>1</th>\n",
       "      <td>nm0000002</td>\n",
       "      <td>tt0038355,tt0071877,tt0117057,tt0037382</td>\n",
       "    </tr>\n",
       "    <tr>\n",
       "      <th>2</th>\n",
       "      <td>nm0000003</td>\n",
       "      <td>tt0059956,tt0049189,tt0054452,tt0057345</td>\n",
       "    </tr>\n",
       "    <tr>\n",
       "      <th>3</th>\n",
       "      <td>nm0000004</td>\n",
       "      <td>tt0077975,tt0078723,tt0080455,tt0072562</td>\n",
       "    </tr>\n",
       "    <tr>\n",
       "      <th>4</th>\n",
       "      <td>nm0000005</td>\n",
       "      <td>tt0050976,tt0050986,tt0069467,tt0083922</td>\n",
       "    </tr>\n",
       "  </tbody>\n",
       "</table>\n",
       "</div>"
      ],
      "text/plain": [
       "      nconst                           knownForTitles\n",
       "0  nm0000001  tt0050419,tt0053137,tt0043044,tt0072308\n",
       "1  nm0000002  tt0038355,tt0071877,tt0117057,tt0037382\n",
       "2  nm0000003  tt0059956,tt0049189,tt0054452,tt0057345\n",
       "3  nm0000004  tt0077975,tt0078723,tt0080455,tt0072562\n",
       "4  nm0000005  tt0050976,tt0050986,tt0069467,tt0083922"
      ]
     },
     "execution_count": 27,
     "metadata": {},
     "output_type": "execute_result"
    }
   ],
   "source": [
    "df_name_basics = df_name_basics[['nconst','knownForTitles']]\n",
    "df_name_basics.head(5)"
   ]
  },
  {
   "cell_type": "markdown",
   "metadata": {},
   "source": [
    "## 2. Creating labeled dataset\n",
    "1. We first merge data from **df_title_basics** and **df_title_ratings** by joining on movie title id **tconst**. 927239 rows merged\n",
    "2. Then we left join merged dataframe with df_title_akas data on movie title id. This operation might result in some missing values in the columns of df_title_akas, e.g. 282219 missing values in count_movie_versions  \n",
    "3. Replace missing values with -1"
   ]
  },
  {
   "cell_type": "code",
   "execution_count": 28,
   "metadata": {
    "collapsed": false
   },
   "outputs": [
    {
     "name": "stdout",
     "output_type": "stream",
     "text": [
      "tconst            927239\n",
      "titleType         927239\n",
      "isAdult           927239\n",
      "runtimeMinutes    927239\n",
      "genres            927239\n",
      "averageRating     927239\n",
      "dtype: int64\n"
     ]
    },
    {
     "data": {
      "text/html": [
       "<div>\n",
       "<table border=\"1\" class=\"dataframe\">\n",
       "  <thead>\n",
       "    <tr style=\"text-align: right;\">\n",
       "      <th></th>\n",
       "      <th>tconst</th>\n",
       "      <th>titleType</th>\n",
       "      <th>isAdult</th>\n",
       "      <th>runtimeMinutes</th>\n",
       "      <th>genres</th>\n",
       "      <th>averageRating</th>\n",
       "    </tr>\n",
       "  </thead>\n",
       "  <tbody>\n",
       "    <tr>\n",
       "      <th>0</th>\n",
       "      <td>tt0000001</td>\n",
       "      <td>short</td>\n",
       "      <td>0</td>\n",
       "      <td>1</td>\n",
       "      <td>Documentary,Short</td>\n",
       "      <td>5.8</td>\n",
       "    </tr>\n",
       "    <tr>\n",
       "      <th>1</th>\n",
       "      <td>tt0000002</td>\n",
       "      <td>short</td>\n",
       "      <td>0</td>\n",
       "      <td>5</td>\n",
       "      <td>Animation,Short</td>\n",
       "      <td>6.3</td>\n",
       "    </tr>\n",
       "    <tr>\n",
       "      <th>2</th>\n",
       "      <td>tt0000003</td>\n",
       "      <td>short</td>\n",
       "      <td>0</td>\n",
       "      <td>4</td>\n",
       "      <td>Animation,Comedy,Romance</td>\n",
       "      <td>6.6</td>\n",
       "    </tr>\n",
       "    <tr>\n",
       "      <th>3</th>\n",
       "      <td>tt0000004</td>\n",
       "      <td>short</td>\n",
       "      <td>0</td>\n",
       "      <td>\\N</td>\n",
       "      <td>Animation,Short</td>\n",
       "      <td>6.4</td>\n",
       "    </tr>\n",
       "    <tr>\n",
       "      <th>4</th>\n",
       "      <td>tt0000005</td>\n",
       "      <td>short</td>\n",
       "      <td>0</td>\n",
       "      <td>1</td>\n",
       "      <td>Comedy,Short</td>\n",
       "      <td>6.2</td>\n",
       "    </tr>\n",
       "  </tbody>\n",
       "</table>\n",
       "</div>"
      ],
      "text/plain": [
       "      tconst titleType isAdult runtimeMinutes                    genres  \\\n",
       "0  tt0000001     short       0              1         Documentary,Short   \n",
       "1  tt0000002     short       0              5           Animation,Short   \n",
       "2  tt0000003     short       0              4  Animation,Comedy,Romance   \n",
       "3  tt0000004     short       0             \\N           Animation,Short   \n",
       "4  tt0000005     short       0              1              Comedy,Short   \n",
       "\n",
       "  averageRating  \n",
       "0           5.8  \n",
       "1           6.3  \n",
       "2           6.6  \n",
       "3           6.4  \n",
       "4           6.2  "
      ]
     },
     "execution_count": 28,
     "metadata": {},
     "output_type": "execute_result"
    }
   ],
   "source": [
    "df_title_basics_ratings_merged = pd.merge(df_title_basics,df_title_ratings,how='inner',on='tconst')\n",
    "print(df_title_basics_ratings_merged.count())\n",
    "df_title_basics_ratings_merged.head(5)"
   ]
  },
  {
   "cell_type": "code",
   "execution_count": 29,
   "metadata": {
    "collapsed": false
   },
   "outputs": [
    {
     "name": "stdout",
     "output_type": "stream",
     "text": [
      "tconst                  927239\n",
      "titleType               927239\n",
      "isAdult                 927239\n",
      "runtimeMinutes          927239\n",
      "genres                  927239\n",
      "averageRating           927239\n",
      "titleId                 645020\n",
      "count_movie_versions    645020\n",
      "dtype: int64\n"
     ]
    },
    {
     "data": {
      "text/html": [
       "<div>\n",
       "<table border=\"1\" class=\"dataframe\">\n",
       "  <thead>\n",
       "    <tr style=\"text-align: right;\">\n",
       "      <th></th>\n",
       "      <th>tconst</th>\n",
       "      <th>titleType</th>\n",
       "      <th>isAdult</th>\n",
       "      <th>runtimeMinutes</th>\n",
       "      <th>genres</th>\n",
       "      <th>averageRating</th>\n",
       "      <th>titleId</th>\n",
       "      <th>count_movie_versions</th>\n",
       "    </tr>\n",
       "  </thead>\n",
       "  <tbody>\n",
       "    <tr>\n",
       "      <th>0</th>\n",
       "      <td>tt0000001</td>\n",
       "      <td>short</td>\n",
       "      <td>0</td>\n",
       "      <td>1</td>\n",
       "      <td>Documentary,Short</td>\n",
       "      <td>5.8</td>\n",
       "      <td>tt0000001</td>\n",
       "      <td>5.0</td>\n",
       "    </tr>\n",
       "    <tr>\n",
       "      <th>1</th>\n",
       "      <td>tt0000002</td>\n",
       "      <td>short</td>\n",
       "      <td>0</td>\n",
       "      <td>5</td>\n",
       "      <td>Animation,Short</td>\n",
       "      <td>6.3</td>\n",
       "      <td>tt0000002</td>\n",
       "      <td>6.0</td>\n",
       "    </tr>\n",
       "    <tr>\n",
       "      <th>2</th>\n",
       "      <td>tt0000003</td>\n",
       "      <td>short</td>\n",
       "      <td>0</td>\n",
       "      <td>4</td>\n",
       "      <td>Animation,Comedy,Romance</td>\n",
       "      <td>6.6</td>\n",
       "      <td>tt0000003</td>\n",
       "      <td>6.0</td>\n",
       "    </tr>\n",
       "    <tr>\n",
       "      <th>3</th>\n",
       "      <td>tt0000004</td>\n",
       "      <td>short</td>\n",
       "      <td>0</td>\n",
       "      <td>\\N</td>\n",
       "      <td>Animation,Short</td>\n",
       "      <td>6.4</td>\n",
       "      <td>tt0000004</td>\n",
       "      <td>6.0</td>\n",
       "    </tr>\n",
       "    <tr>\n",
       "      <th>4</th>\n",
       "      <td>tt0000005</td>\n",
       "      <td>short</td>\n",
       "      <td>0</td>\n",
       "      <td>1</td>\n",
       "      <td>Comedy,Short</td>\n",
       "      <td>6.2</td>\n",
       "      <td>tt0000005</td>\n",
       "      <td>9.0</td>\n",
       "    </tr>\n",
       "  </tbody>\n",
       "</table>\n",
       "</div>"
      ],
      "text/plain": [
       "      tconst titleType isAdult runtimeMinutes                    genres  \\\n",
       "0  tt0000001     short       0              1         Documentary,Short   \n",
       "1  tt0000002     short       0              5           Animation,Short   \n",
       "2  tt0000003     short       0              4  Animation,Comedy,Romance   \n",
       "3  tt0000004     short       0             \\N           Animation,Short   \n",
       "4  tt0000005     short       0              1              Comedy,Short   \n",
       "\n",
       "  averageRating    titleId  count_movie_versions  \n",
       "0           5.8  tt0000001                   5.0  \n",
       "1           6.3  tt0000002                   6.0  \n",
       "2           6.6  tt0000003                   6.0  \n",
       "3           6.4  tt0000004                   6.0  \n",
       "4           6.2  tt0000005                   9.0  "
      ]
     },
     "execution_count": 29,
     "metadata": {},
     "output_type": "execute_result"
    }
   ],
   "source": [
    "#merge title_akas with left join\n",
    "df_title_basics_ratings_akas_merged = pd.merge(df_title_basics_ratings_merged,df_title_akas,how='left',left_on='tconst',right_on='titleId')\n",
    "print(df_title_basics_ratings_akas_merged.count())\n",
    "df_title_basics_ratings_akas_merged.head(5)"
   ]
  },
  {
   "cell_type": "code",
   "execution_count": 30,
   "metadata": {
    "collapsed": false
   },
   "outputs": [
    {
     "data": {
      "text/plain": [
       "tconst                       0\n",
       "titleType                    0\n",
       "isAdult                      0\n",
       "runtimeMinutes               0\n",
       "genres                       0\n",
       "averageRating                0\n",
       "titleId                 282219\n",
       "count_movie_versions    282219\n",
       "dtype: int64"
      ]
     },
     "execution_count": 30,
     "metadata": {},
     "output_type": "execute_result"
    }
   ],
   "source": [
    "df_title_basics_ratings_akas_merged.isnull().sum()\n",
    "df_title_basics_ratings_akas_merged.fillna(-1, inplace=True)"
   ]
  },
  {
   "cell_type": "markdown",
   "metadata": {},
   "source": [
    "1. Now, we merge df_title_crews to this merged dataframe with left outer join on **tconst**\n",
    "2. no missing values generated by this operation for columns from df_title_crews"
   ]
  },
  {
   "cell_type": "code",
   "execution_count": 31,
   "metadata": {
    "collapsed": false
   },
   "outputs": [
    {
     "name": "stdout",
     "output_type": "stream",
     "text": [
      "tconst                  927239\n",
      "titleType               927239\n",
      "isAdult                 927239\n",
      "runtimeMinutes          927239\n",
      "genres                  927239\n",
      "averageRating           927239\n",
      "titleId                 645020\n",
      "count_movie_versions    645020\n",
      "directors               927239\n",
      "writers                 927239\n",
      "dtype: int64\n",
      "columns with missing values\n"
     ]
    },
    {
     "data": {
      "text/plain": [
       "tconst                       0\n",
       "titleType                    0\n",
       "isAdult                      0\n",
       "runtimeMinutes               0\n",
       "genres                       0\n",
       "averageRating                0\n",
       "titleId                 282219\n",
       "count_movie_versions    282219\n",
       "directors                    0\n",
       "writers                      0\n",
       "dtype: int64"
      ]
     },
     "execution_count": 31,
     "metadata": {},
     "output_type": "execute_result"
    }
   ],
   "source": [
    "df_title_basics_ratings_akas_crews_merged = pd.merge(df_title_basics_ratings_akas_merged,df_title_crews,how='left',on='tconst')\n",
    "print(df_title_basics_ratings_akas_crews_merged.count())\n",
    "print(\"columns with missing values\")\n",
    "df_title_basics_ratings_akas_crews_merged.isnull().sum()"
   ]
  },
  {
   "cell_type": "markdown",
   "metadata": {},
   "source": [
    "1. We left join df_title_principals with df_name_basics on 'nconst' column to get a comprehensive information about each cast. n_unique(df_title_principals)>n_unique(df_name_basics)\n",
    "2. 15552 missing values for **knownForTitles** column"
   ]
  },
  {
   "cell_type": "code",
   "execution_count": 32,
   "metadata": {
    "collapsed": false
   },
   "outputs": [
    {
     "name": "stdout",
     "output_type": "stream",
     "text": [
      "tconst            33355563\n",
      "ordering          33355563\n",
      "nconst            33355563\n",
      "category          33355563\n",
      "knownForTitles    33340011\n",
      "dtype: int64\n"
     ]
    },
    {
     "data": {
      "text/plain": [
       "tconst                0\n",
       "ordering              0\n",
       "nconst                0\n",
       "category              0\n",
       "knownForTitles    15552\n",
       "dtype: int64"
      ]
     },
     "execution_count": 32,
     "metadata": {},
     "output_type": "execute_result"
    }
   ],
   "source": [
    "df_principals_name_basics_merged = pd.merge(df_title_principals,df_name_basics,how='left',on='nconst')\n",
    "print(df_principals_name_basics_merged.count())\n",
    "df_principals_name_basics_merged.isnull().sum()"
   ]
  },
  {
   "cell_type": "code",
   "execution_count": 40,
   "metadata": {
    "collapsed": false
   },
   "outputs": [
    {
     "data": {
      "text/html": [
       "<div>\n",
       "<table border=\"1\" class=\"dataframe\">\n",
       "  <thead>\n",
       "    <tr style=\"text-align: right;\">\n",
       "      <th></th>\n",
       "      <th>tconst</th>\n",
       "      <th>nconst</th>\n",
       "      <th>category</th>\n",
       "      <th>knownForTitles</th>\n",
       "    </tr>\n",
       "  </thead>\n",
       "  <tbody>\n",
       "    <tr>\n",
       "      <th>0</th>\n",
       "      <td>tt0000001</td>\n",
       "      <td>nm1588970</td>\n",
       "      <td>self</td>\n",
       "      <td>tt0057728,tt0000001</td>\n",
       "    </tr>\n",
       "    <tr>\n",
       "      <th>1</th>\n",
       "      <td>tt0000001</td>\n",
       "      <td>nm0005690</td>\n",
       "      <td>director</td>\n",
       "      <td>tt1496763,tt6687694,tt0219560,tt1428455</td>\n",
       "    </tr>\n",
       "    <tr>\n",
       "      <th>2</th>\n",
       "      <td>tt0000001</td>\n",
       "      <td>nm0374658</td>\n",
       "      <td>cinematographer</td>\n",
       "      <td>tt0285863,tt0241715,tt0241393,tt0229665</td>\n",
       "    </tr>\n",
       "    <tr>\n",
       "      <th>3</th>\n",
       "      <td>tt0000002</td>\n",
       "      <td>nm0721526</td>\n",
       "      <td>director</td>\n",
       "      <td>tt2184231,tt0000003,tt2184201,tt0413219</td>\n",
       "    </tr>\n",
       "    <tr>\n",
       "      <th>4</th>\n",
       "      <td>tt0000002</td>\n",
       "      <td>nm1335271</td>\n",
       "      <td>composer</td>\n",
       "      <td>tt0000004,tt0000003,tt2184231,tt0000002</td>\n",
       "    </tr>\n",
       "  </tbody>\n",
       "</table>\n",
       "</div>"
      ],
      "text/plain": [
       "      tconst     nconst         category  \\\n",
       "0  tt0000001  nm1588970             self   \n",
       "1  tt0000001  nm0005690         director   \n",
       "2  tt0000001  nm0374658  cinematographer   \n",
       "3  tt0000002  nm0721526         director   \n",
       "4  tt0000002  nm1335271         composer   \n",
       "\n",
       "                            knownForTitles  \n",
       "0                      tt0057728,tt0000001  \n",
       "1  tt1496763,tt6687694,tt0219560,tt1428455  \n",
       "2  tt0285863,tt0241715,tt0241393,tt0229665  \n",
       "3  tt2184231,tt0000003,tt2184201,tt0413219  \n",
       "4  tt0000004,tt0000003,tt2184231,tt0000002  "
      ]
     },
     "execution_count": 40,
     "metadata": {},
     "output_type": "execute_result"
    }
   ],
   "source": [
    "df_principals_name_basics_merged = df_principals_name_basics_merged[['tconst','nconst','category','knownForTitles']]\n",
    "df_principals_name_basics_merged.head(5)"
   ]
  },
  {
   "cell_type": "markdown",
   "metadata": {},
   "source": [
    "**Releae memory hold by no longer required dataframes**"
   ]
  },
  {
   "cell_type": "code",
   "execution_count": null,
   "metadata": {
    "collapsed": true
   },
   "outputs": [],
   "source": [
    "import gc\n",
    "del df_title_akas\n",
    "del df_title_basics\n",
    "del df_title_ratings\n",
    "del df_name_basics\n",
    "del df_title_principals\n",
    "del df_title_crews\n",
    "del df_title_basics_ratings_akas_merged\n",
    "del df_title_basics_ratings_merged\n",
    "gc.collect()"
   ]
  },
  {
   "cell_type": "markdown",
   "metadata": {},
   "source": [
    "1. Retain only principal casts in **df_principals_name_basics_merged** who are associated with movie titles with rating information\n",
    "2. For this, we get a set of title movies from **df_title_basics_ratings_akas_crews_merged** and retain rows whose **tconst** is in the set"
   ]
  },
  {
   "cell_type": "code",
   "execution_count": 33,
   "metadata": {
    "collapsed": true
   },
   "outputs": [],
   "source": [
    "selected_tconst_list = df_title_basics_ratings_akas_crews_merged['tconst'].values\n",
    "df_principals_name_basics_merged = df_principals_name_basics_merged[df_principals_name_basics_merged['tconst'].isin(selected_tconst_list)]"
   ]
  },
  {
   "cell_type": "code",
   "execution_count": 34,
   "metadata": {
    "collapsed": false
   },
   "outputs": [
    {
     "name": "stdout",
     "output_type": "stream",
     "text": [
      "tconst            7766073\n",
      "ordering          7766073\n",
      "nconst            7766073\n",
      "category          7766073\n",
      "knownForTitles    7763336\n",
      "dtype: int64\n",
      "914273\n"
     ]
    }
   ],
   "source": [
    "print(df_principals_name_basics_merged.count())\n",
    "print(df_principals_name_basics_merged['tconst'].nunique())"
   ]
  },
  {
   "cell_type": "markdown",
   "metadata": {},
   "source": [
    "1. we have 914273 unique movie titles in df_principals_name_basics_merged but 927239 unique titles in df_title_basics_ratings_akas_crews_merged\n",
    "2. so we weed out movie information missing principle cast information"
   ]
  },
  {
   "cell_type": "code",
   "execution_count": 35,
   "metadata": {
    "collapsed": false
   },
   "outputs": [
    {
     "name": "stdout",
     "output_type": "stream",
     "text": [
      "tconst                  914273\n",
      "titleType               914273\n",
      "isAdult                 914273\n",
      "runtimeMinutes          914273\n",
      "genres                  914273\n",
      "averageRating           914273\n",
      "titleId                 640225\n",
      "count_movie_versions    640225\n",
      "directors               914273\n",
      "writers                 914273\n",
      "dtype: int64\n",
      "914273\n"
     ]
    }
   ],
   "source": [
    "selected_tconst_list = df_principals_name_basics_merged['tconst'].values\n",
    "df_title_basics_ratings_akas_crews_merged = df_title_basics_ratings_akas_crews_merged[df_title_basics_ratings_akas_crews_merged['tconst'].isin(selected_tconst_list)]\n",
    "print(df_title_basics_ratings_akas_crews_merged.count())\n",
    "print(df_title_basics_ratings_akas_crews_merged['tconst'].nunique())"
   ]
  },
  {
   "cell_type": "markdown",
   "metadata": {},
   "source": [
    "1. derive **principal_cast_count** column\n",
    "2. merge **df_principle_cast_count df** with **df_title_basics_ratings_akas_crews_merged**"
   ]
  },
  {
   "cell_type": "code",
   "execution_count": 36,
   "metadata": {
    "collapsed": false
   },
   "outputs": [
    {
     "data": {
      "text/html": [
       "<div>\n",
       "<table border=\"1\" class=\"dataframe\">\n",
       "  <thead>\n",
       "    <tr style=\"text-align: right;\">\n",
       "      <th></th>\n",
       "      <th>tconst</th>\n",
       "      <th>principal_cast_count</th>\n",
       "    </tr>\n",
       "  </thead>\n",
       "  <tbody>\n",
       "    <tr>\n",
       "      <th>0</th>\n",
       "      <td>tt0000001</td>\n",
       "      <td>3</td>\n",
       "    </tr>\n",
       "    <tr>\n",
       "      <th>1</th>\n",
       "      <td>tt0000002</td>\n",
       "      <td>2</td>\n",
       "    </tr>\n",
       "    <tr>\n",
       "      <th>2</th>\n",
       "      <td>tt0000003</td>\n",
       "      <td>4</td>\n",
       "    </tr>\n",
       "    <tr>\n",
       "      <th>3</th>\n",
       "      <td>tt0000004</td>\n",
       "      <td>2</td>\n",
       "    </tr>\n",
       "    <tr>\n",
       "      <th>4</th>\n",
       "      <td>tt0000005</td>\n",
       "      <td>4</td>\n",
       "    </tr>\n",
       "  </tbody>\n",
       "</table>\n",
       "</div>"
      ],
      "text/plain": [
       "      tconst  principal_cast_count\n",
       "0  tt0000001                     3\n",
       "1  tt0000002                     2\n",
       "2  tt0000003                     4\n",
       "3  tt0000004                     2\n",
       "4  tt0000005                     4"
      ]
     },
     "execution_count": 36,
     "metadata": {},
     "output_type": "execute_result"
    }
   ],
   "source": [
    "df_principle_cast_count = df_principals_name_basics_merged.groupby('tconst',as_index=False)['nconst'].count()\n",
    "# rename nconst to principal_cast_count\n",
    "column_renames = {'tconst':'tconst','nconst':'principal_cast_count'}\n",
    "df_principle_cast_count = df_principle_cast_count.rename(columns=column_renames)\n",
    "df_principle_cast_count.head(5)"
   ]
  },
  {
   "cell_type": "code",
   "execution_count": 37,
   "metadata": {
    "collapsed": false
   },
   "outputs": [
    {
     "name": "stdout",
     "output_type": "stream",
     "text": [
      "914273\n"
     ]
    },
    {
     "data": {
      "text/html": [
       "<div>\n",
       "<table border=\"1\" class=\"dataframe\">\n",
       "  <thead>\n",
       "    <tr style=\"text-align: right;\">\n",
       "      <th></th>\n",
       "      <th>tconst</th>\n",
       "      <th>titleType</th>\n",
       "      <th>isAdult</th>\n",
       "      <th>runtimeMinutes</th>\n",
       "      <th>genres</th>\n",
       "      <th>averageRating</th>\n",
       "      <th>titleId</th>\n",
       "      <th>count_movie_versions</th>\n",
       "      <th>directors</th>\n",
       "      <th>writers</th>\n",
       "      <th>principal_cast_count</th>\n",
       "    </tr>\n",
       "  </thead>\n",
       "  <tbody>\n",
       "    <tr>\n",
       "      <th>0</th>\n",
       "      <td>tt0000001</td>\n",
       "      <td>short</td>\n",
       "      <td>0</td>\n",
       "      <td>1</td>\n",
       "      <td>Documentary,Short</td>\n",
       "      <td>5.8</td>\n",
       "      <td>tt0000001</td>\n",
       "      <td>5.0</td>\n",
       "      <td>nm0005690</td>\n",
       "      <td>\\N</td>\n",
       "      <td>3</td>\n",
       "    </tr>\n",
       "    <tr>\n",
       "      <th>1</th>\n",
       "      <td>tt0000002</td>\n",
       "      <td>short</td>\n",
       "      <td>0</td>\n",
       "      <td>5</td>\n",
       "      <td>Animation,Short</td>\n",
       "      <td>6.3</td>\n",
       "      <td>tt0000002</td>\n",
       "      <td>6.0</td>\n",
       "      <td>nm0721526</td>\n",
       "      <td>\\N</td>\n",
       "      <td>2</td>\n",
       "    </tr>\n",
       "    <tr>\n",
       "      <th>2</th>\n",
       "      <td>tt0000003</td>\n",
       "      <td>short</td>\n",
       "      <td>0</td>\n",
       "      <td>4</td>\n",
       "      <td>Animation,Comedy,Romance</td>\n",
       "      <td>6.6</td>\n",
       "      <td>tt0000003</td>\n",
       "      <td>6.0</td>\n",
       "      <td>nm0721526</td>\n",
       "      <td>\\N</td>\n",
       "      <td>4</td>\n",
       "    </tr>\n",
       "    <tr>\n",
       "      <th>3</th>\n",
       "      <td>tt0000004</td>\n",
       "      <td>short</td>\n",
       "      <td>0</td>\n",
       "      <td>\\N</td>\n",
       "      <td>Animation,Short</td>\n",
       "      <td>6.4</td>\n",
       "      <td>tt0000004</td>\n",
       "      <td>6.0</td>\n",
       "      <td>nm0721526</td>\n",
       "      <td>\\N</td>\n",
       "      <td>2</td>\n",
       "    </tr>\n",
       "    <tr>\n",
       "      <th>4</th>\n",
       "      <td>tt0000005</td>\n",
       "      <td>short</td>\n",
       "      <td>0</td>\n",
       "      <td>1</td>\n",
       "      <td>Comedy,Short</td>\n",
       "      <td>6.2</td>\n",
       "      <td>tt0000005</td>\n",
       "      <td>9.0</td>\n",
       "      <td>nm0005690</td>\n",
       "      <td>\\N</td>\n",
       "      <td>4</td>\n",
       "    </tr>\n",
       "  </tbody>\n",
       "</table>\n",
       "</div>"
      ],
      "text/plain": [
       "      tconst titleType isAdult runtimeMinutes                    genres  \\\n",
       "0  tt0000001     short       0              1         Documentary,Short   \n",
       "1  tt0000002     short       0              5           Animation,Short   \n",
       "2  tt0000003     short       0              4  Animation,Comedy,Romance   \n",
       "3  tt0000004     short       0             \\N           Animation,Short   \n",
       "4  tt0000005     short       0              1              Comedy,Short   \n",
       "\n",
       "  averageRating    titleId  count_movie_versions  directors writers  \\\n",
       "0           5.8  tt0000001                   5.0  nm0005690      \\N   \n",
       "1           6.3  tt0000002                   6.0  nm0721526      \\N   \n",
       "2           6.6  tt0000003                   6.0  nm0721526      \\N   \n",
       "3           6.4  tt0000004                   6.0  nm0721526      \\N   \n",
       "4           6.2  tt0000005                   9.0  nm0005690      \\N   \n",
       "\n",
       "   principal_cast_count  \n",
       "0                     3  \n",
       "1                     2  \n",
       "2                     4  \n",
       "3                     2  \n",
       "4                     4  "
      ]
     },
     "execution_count": 37,
     "metadata": {},
     "output_type": "execute_result"
    }
   ],
   "source": [
    "df_title_basics_ratings_akas_crews_principle_cast_count_merged = pd.merge(df_title_basics_ratings_akas_crews_merged,df_principle_cast_count,how='inner',on='tconst')\n",
    "print(df_title_basics_ratings_akas_crews_principle_cast_count_merged['tconst'].nunique())\n",
    "df_title_basics_ratings_akas_crews_principle_cast_count_merged.head(5)"
   ]
  },
  {
   "cell_type": "markdown",
   "metadata": {},
   "source": [
    "1. get the count of movie principal casts involved per movie category and save it to a file"
   ]
  },
  {
   "cell_type": "code",
   "execution_count": 38,
   "metadata": {
    "collapsed": false
   },
   "outputs": [
    {
     "name": "stdout",
     "output_type": "stream",
     "text": [
      "1696956\n"
     ]
    },
    {
     "data": {
      "text/html": [
       "<div>\n",
       "<table border=\"1\" class=\"dataframe\">\n",
       "  <thead>\n",
       "    <tr style=\"text-align: right;\">\n",
       "      <th></th>\n",
       "      <th>nconst</th>\n",
       "      <th>category</th>\n",
       "      <th>count_movies</th>\n",
       "    </tr>\n",
       "  </thead>\n",
       "  <tbody>\n",
       "    <tr>\n",
       "      <th>0</th>\n",
       "      <td>nm0000001</td>\n",
       "      <td>actor</td>\n",
       "      <td>48</td>\n",
       "    </tr>\n",
       "    <tr>\n",
       "      <th>1</th>\n",
       "      <td>nm0000001</td>\n",
       "      <td>archive_footage</td>\n",
       "      <td>44</td>\n",
       "    </tr>\n",
       "    <tr>\n",
       "      <th>2</th>\n",
       "      <td>nm0000001</td>\n",
       "      <td>self</td>\n",
       "      <td>50</td>\n",
       "    </tr>\n",
       "    <tr>\n",
       "      <th>3</th>\n",
       "      <td>nm0000002</td>\n",
       "      <td>actress</td>\n",
       "      <td>63</td>\n",
       "    </tr>\n",
       "    <tr>\n",
       "      <th>4</th>\n",
       "      <td>nm0000002</td>\n",
       "      <td>archive_footage</td>\n",
       "      <td>42</td>\n",
       "    </tr>\n",
       "  </tbody>\n",
       "</table>\n",
       "</div>"
      ],
      "text/plain": [
       "      nconst         category  count_movies\n",
       "0  nm0000001            actor            48\n",
       "1  nm0000001  archive_footage            44\n",
       "2  nm0000001             self            50\n",
       "3  nm0000002          actress            63\n",
       "4  nm0000002  archive_footage            42"
      ]
     },
     "execution_count": 38,
     "metadata": {},
     "output_type": "execute_result"
    }
   ],
   "source": [
    "df_principles_movie_category_count = df_principals_name_basics_merged.groupby(['nconst','category'],as_index=False)['tconst'].count()\n",
    "\n",
    "# rename tconst column to count_movies\n",
    "column_renames = {'nconst': 'nconst', 'category': 'category', 'tconst': 'count_movies'}\n",
    "df_principles_movie_category_count.rename(columns=column_renames,inplace=True)\n",
    "\n",
    "# save to the file\n",
    "filename = \"principles_movie_category_count.tsv\"\n",
    "df_principles_movie_category_count.to_csv(filename,sep=\"\\t\",encoding=\"utf-8\",index=False)\n",
    "\n",
    "print(df_principles_movie_category_count['count_movies'].count())\n",
    "df_principles_movie_category_count.head(5)"
   ]
  },
  {
   "cell_type": "markdown",
   "metadata": {},
   "source": [
    "1. extract a list of principle cast information for a given movie.\n",
    "2. The information is space-separated, where each principal cast is represented by nconst|category|countOfKnownTitles information where nconst = > principle id, category =>category of involvement, and, countOfKnownTitles => number of movies a principle is known for"
   ]
  },
  {
   "cell_type": "code",
   "execution_count": 53,
   "metadata": {
    "collapsed": false
   },
   "outputs": [
    {
     "data": {
      "text/html": [
       "<div>\n",
       "<table border=\"1\" class=\"dataframe\">\n",
       "  <thead>\n",
       "    <tr style=\"text-align: right;\">\n",
       "      <th></th>\n",
       "      <th>tconst</th>\n",
       "      <th>titleType</th>\n",
       "      <th>isAdult</th>\n",
       "      <th>runtimeMinutes</th>\n",
       "      <th>genres</th>\n",
       "      <th>averageRating</th>\n",
       "      <th>titleId</th>\n",
       "      <th>count_movie_versions</th>\n",
       "      <th>directors</th>\n",
       "      <th>writers</th>\n",
       "      <th>principal_cast_count</th>\n",
       "    </tr>\n",
       "  </thead>\n",
       "  <tbody>\n",
       "    <tr>\n",
       "      <th>0</th>\n",
       "      <td>tt0000001</td>\n",
       "      <td>short</td>\n",
       "      <td>0</td>\n",
       "      <td>1</td>\n",
       "      <td>Documentary,Short</td>\n",
       "      <td>5.8</td>\n",
       "      <td>tt0000001</td>\n",
       "      <td>5.0</td>\n",
       "      <td>nm0005690</td>\n",
       "      <td>\\N</td>\n",
       "      <td>3</td>\n",
       "    </tr>\n",
       "    <tr>\n",
       "      <th>1</th>\n",
       "      <td>tt0000002</td>\n",
       "      <td>short</td>\n",
       "      <td>0</td>\n",
       "      <td>5</td>\n",
       "      <td>Animation,Short</td>\n",
       "      <td>6.3</td>\n",
       "      <td>tt0000002</td>\n",
       "      <td>6.0</td>\n",
       "      <td>nm0721526</td>\n",
       "      <td>\\N</td>\n",
       "      <td>2</td>\n",
       "    </tr>\n",
       "    <tr>\n",
       "      <th>2</th>\n",
       "      <td>tt0000003</td>\n",
       "      <td>short</td>\n",
       "      <td>0</td>\n",
       "      <td>4</td>\n",
       "      <td>Animation,Comedy,Romance</td>\n",
       "      <td>6.6</td>\n",
       "      <td>tt0000003</td>\n",
       "      <td>6.0</td>\n",
       "      <td>nm0721526</td>\n",
       "      <td>\\N</td>\n",
       "      <td>4</td>\n",
       "    </tr>\n",
       "    <tr>\n",
       "      <th>3</th>\n",
       "      <td>tt0000004</td>\n",
       "      <td>short</td>\n",
       "      <td>0</td>\n",
       "      <td>-1</td>\n",
       "      <td>Animation,Short</td>\n",
       "      <td>6.4</td>\n",
       "      <td>tt0000004</td>\n",
       "      <td>6.0</td>\n",
       "      <td>nm0721526</td>\n",
       "      <td>\\N</td>\n",
       "      <td>2</td>\n",
       "    </tr>\n",
       "    <tr>\n",
       "      <th>4</th>\n",
       "      <td>tt0000005</td>\n",
       "      <td>short</td>\n",
       "      <td>0</td>\n",
       "      <td>1</td>\n",
       "      <td>Comedy,Short</td>\n",
       "      <td>6.2</td>\n",
       "      <td>tt0000005</td>\n",
       "      <td>9.0</td>\n",
       "      <td>nm0005690</td>\n",
       "      <td>\\N</td>\n",
       "      <td>4</td>\n",
       "    </tr>\n",
       "  </tbody>\n",
       "</table>\n",
       "</div>"
      ],
      "text/plain": [
       "      tconst titleType isAdult runtimeMinutes                    genres  \\\n",
       "0  tt0000001     short       0              1         Documentary,Short   \n",
       "1  tt0000002     short       0              5           Animation,Short   \n",
       "2  tt0000003     short       0              4  Animation,Comedy,Romance   \n",
       "3  tt0000004     short       0             -1           Animation,Short   \n",
       "4  tt0000005     short       0              1              Comedy,Short   \n",
       "\n",
       "  averageRating    titleId  count_movie_versions  directors writers  \\\n",
       "0           5.8  tt0000001                   5.0  nm0005690      \\N   \n",
       "1           6.3  tt0000002                   6.0  nm0721526      \\N   \n",
       "2           6.6  tt0000003                   6.0  nm0721526      \\N   \n",
       "3           6.4  tt0000004                   6.0  nm0721526      \\N   \n",
       "4           6.2  tt0000005                   9.0  nm0005690      \\N   \n",
       "\n",
       "   principal_cast_count  \n",
       "0                     3  \n",
       "1                     2  \n",
       "2                     4  \n",
       "3                     2  \n",
       "4                     4  "
      ]
     },
     "execution_count": 53,
     "metadata": {},
     "output_type": "execute_result"
    }
   ],
   "source": [
    "# replace \"\\N\" in runtimeMinutes with -1\n",
    "df_title_basics_ratings_akas_crews_principle_cast_count_merged.loc[df_title_basics_ratings_akas_crews_principle_cast_count_merged['runtimeMinutes']=='\\\\N', 'runtimeMinutes']=-1\n",
    "df_title_basics_ratings_akas_crews_principle_cast_count_merged.head(5)"
   ]
  },
  {
   "cell_type": "code",
   "execution_count": 51,
   "metadata": {
    "collapsed": false
   },
   "outputs": [
    {
     "data": {
      "text/plain": [
       "tconst                  0\n",
       "titleType               0\n",
       "isAdult                 0\n",
       "runtimeMinutes          0\n",
       "genres                  0\n",
       "averageRating           0\n",
       "titleId                 0\n",
       "count_movie_versions    0\n",
       "directors               0\n",
       "writers                 0\n",
       "principal_cast_count    0\n",
       "dtype: int64"
      ]
     },
     "execution_count": 51,
     "metadata": {},
     "output_type": "execute_result"
    }
   ],
   "source": [
    "df_title_basics_ratings_akas_crews_principle_cast_count_merged.fillna(-1,inplace=True)\n",
    "df_title_basics_ratings_akas_crews_principle_cast_count_merged.isnull().sum()"
   ]
  },
  {
   "cell_type": "code",
   "execution_count": 46,
   "metadata": {
    "collapsed": false
   },
   "outputs": [
    {
     "data": {
      "text/html": [
       "<div>\n",
       "<table border=\"1\" class=\"dataframe\">\n",
       "  <thead>\n",
       "    <tr style=\"text-align: right;\">\n",
       "      <th></th>\n",
       "      <th>nconst_category_countOfKnownTitles</th>\n",
       "      <th>tconst</th>\n",
       "    </tr>\n",
       "  </thead>\n",
       "  <tbody>\n",
       "    <tr>\n",
       "      <th>0</th>\n",
       "      <td>nm1588970|self|2 nm0005690|director|4 nm037465...</td>\n",
       "      <td>tt0000001</td>\n",
       "    </tr>\n",
       "    <tr>\n",
       "      <th>1</th>\n",
       "      <td>nm0721526|director|4 nm1335271|composer|4</td>\n",
       "      <td>tt0000002</td>\n",
       "    </tr>\n",
       "    <tr>\n",
       "      <th>2</th>\n",
       "      <td>nm0721526|director|4 nm5442194|producer|1 nm13...</td>\n",
       "      <td>tt0000003</td>\n",
       "    </tr>\n",
       "    <tr>\n",
       "      <th>3</th>\n",
       "      <td>nm0721526|director|4 nm1335271|composer|4</td>\n",
       "      <td>tt0000004</td>\n",
       "    </tr>\n",
       "    <tr>\n",
       "      <th>4</th>\n",
       "      <td>nm0443482|actor|1 nm0653042|actor|1 nm0005690|...</td>\n",
       "      <td>tt0000005</td>\n",
       "    </tr>\n",
       "  </tbody>\n",
       "</table>\n",
       "</div>"
      ],
      "text/plain": [
       "                  nconst_category_countOfKnownTitles     tconst\n",
       "0  nm1588970|self|2 nm0005690|director|4 nm037465...  tt0000001\n",
       "1          nm0721526|director|4 nm1335271|composer|4  tt0000002\n",
       "2  nm0721526|director|4 nm5442194|producer|1 nm13...  tt0000003\n",
       "3          nm0721526|director|4 nm1335271|composer|4  tt0000004\n",
       "4  nm0443482|actor|1 nm0653042|actor|1 nm0005690|...  tt0000005"
      ]
     },
     "execution_count": 46,
     "metadata": {},
     "output_type": "execute_result"
    }
   ],
   "source": [
    "df_principals_groups = df_principals_name_basics_merged.groupby('tconst')\n",
    "title_principal_data = {'tconst': [],'nconst_category_countOfKnownTitles': []}\n",
    "for group_name, group in df_principals_groups:\n",
    "    title_principal_data['tconst'].append(group_name)\n",
    "    value = ''\n",
    "    for nconst, category, knownForTitles in zip(group['nconst'], group['category'], group['knownForTitles']):\n",
    "        titleCount = 0\n",
    "        # the value should not be NaN\n",
    "        if knownForTitles != \"\\\\N\" and isinstance(knownForTitles, str):\n",
    "            titleCount = len(knownForTitles.split(\",\"))\n",
    "        value = value + \" {0}|{1}|{2}\".format(nconst, category, titleCount)\n",
    "    value = value.strip()\n",
    "    title_principal_data['nconst_category_countOfKnownTitles'].append(value)\n",
    "df_title_principal_preprocessed =  pd.DataFrame(title_principal_data)  \n",
    "df_title_principal_preprocessed.head(5)"
   ]
  },
  {
   "cell_type": "code",
   "execution_count": 54,
   "metadata": {
    "collapsed": false
   },
   "outputs": [
    {
     "name": "stdout",
     "output_type": "stream",
     "text": [
      "nconst_category_countOfKnownTitles    0\n",
      "tconst                                0\n",
      "dtype: int64\n"
     ]
    },
    {
     "data": {
      "text/plain": [
       "nconst_category_countOfKnownTitles    914273\n",
       "tconst                                914273\n",
       "dtype: int64"
      ]
     },
     "execution_count": 54,
     "metadata": {},
     "output_type": "execute_result"
    }
   ],
   "source": [
    "print(df_title_principal_preprocessed.isnull().sum())\n",
    "df_title_principal_preprocessed.count()"
   ]
  },
  {
   "cell_type": "markdown",
   "metadata": {},
   "source": [
    "1. merge **df_title_principal_preprocessed** with **df_title_basics_ratings_akas_crews_principle_cast_indiv_counts_merged** with inner join on **tconst** to create final df **df_title_basics_ratings_akas_crews_principle_cast_indiv_counts_merged**\n",
    "2. this df contains columns which can be used as features for our prediction task, and each movie has rating information\n",
    "2. save **df_title_basics_ratings_akas_crews_principle_cast_indiv_counts_merged** to a file"
   ]
  },
  {
   "cell_type": "code",
   "execution_count": 55,
   "metadata": {
    "collapsed": false
   },
   "outputs": [
    {
     "name": "stdout",
     "output_type": "stream",
     "text": [
      "tconst                                914273\n",
      "titleType                             914273\n",
      "isAdult                               914273\n",
      "runtimeMinutes                        914273\n",
      "genres                                914273\n",
      "averageRating                         914273\n",
      "titleId                               914273\n",
      "count_movie_versions                  914273\n",
      "directors                             914273\n",
      "writers                               914273\n",
      "principal_cast_count                  914273\n",
      "nconst_category_countOfKnownTitles    914273\n",
      "dtype: int64\n"
     ]
    },
    {
     "data": {
      "text/html": [
       "<div>\n",
       "<table border=\"1\" class=\"dataframe\">\n",
       "  <thead>\n",
       "    <tr style=\"text-align: right;\">\n",
       "      <th></th>\n",
       "      <th>tconst</th>\n",
       "      <th>titleType</th>\n",
       "      <th>isAdult</th>\n",
       "      <th>runtimeMinutes</th>\n",
       "      <th>genres</th>\n",
       "      <th>averageRating</th>\n",
       "      <th>titleId</th>\n",
       "      <th>count_movie_versions</th>\n",
       "      <th>directors</th>\n",
       "      <th>writers</th>\n",
       "      <th>principal_cast_count</th>\n",
       "      <th>nconst_category_countOfKnownTitles</th>\n",
       "    </tr>\n",
       "  </thead>\n",
       "  <tbody>\n",
       "    <tr>\n",
       "      <th>0</th>\n",
       "      <td>tt0000001</td>\n",
       "      <td>short</td>\n",
       "      <td>0</td>\n",
       "      <td>1</td>\n",
       "      <td>Documentary,Short</td>\n",
       "      <td>5.8</td>\n",
       "      <td>tt0000001</td>\n",
       "      <td>5.0</td>\n",
       "      <td>nm0005690</td>\n",
       "      <td>\\N</td>\n",
       "      <td>3</td>\n",
       "      <td>nm1588970|self|2 nm0005690|director|4 nm037465...</td>\n",
       "    </tr>\n",
       "    <tr>\n",
       "      <th>1</th>\n",
       "      <td>tt0000002</td>\n",
       "      <td>short</td>\n",
       "      <td>0</td>\n",
       "      <td>5</td>\n",
       "      <td>Animation,Short</td>\n",
       "      <td>6.3</td>\n",
       "      <td>tt0000002</td>\n",
       "      <td>6.0</td>\n",
       "      <td>nm0721526</td>\n",
       "      <td>\\N</td>\n",
       "      <td>2</td>\n",
       "      <td>nm0721526|director|4 nm1335271|composer|4</td>\n",
       "    </tr>\n",
       "    <tr>\n",
       "      <th>2</th>\n",
       "      <td>tt0000003</td>\n",
       "      <td>short</td>\n",
       "      <td>0</td>\n",
       "      <td>4</td>\n",
       "      <td>Animation,Comedy,Romance</td>\n",
       "      <td>6.6</td>\n",
       "      <td>tt0000003</td>\n",
       "      <td>6.0</td>\n",
       "      <td>nm0721526</td>\n",
       "      <td>\\N</td>\n",
       "      <td>4</td>\n",
       "      <td>nm0721526|director|4 nm5442194|producer|1 nm13...</td>\n",
       "    </tr>\n",
       "    <tr>\n",
       "      <th>3</th>\n",
       "      <td>tt0000004</td>\n",
       "      <td>short</td>\n",
       "      <td>0</td>\n",
       "      <td>-1</td>\n",
       "      <td>Animation,Short</td>\n",
       "      <td>6.4</td>\n",
       "      <td>tt0000004</td>\n",
       "      <td>6.0</td>\n",
       "      <td>nm0721526</td>\n",
       "      <td>\\N</td>\n",
       "      <td>2</td>\n",
       "      <td>nm0721526|director|4 nm1335271|composer|4</td>\n",
       "    </tr>\n",
       "    <tr>\n",
       "      <th>4</th>\n",
       "      <td>tt0000005</td>\n",
       "      <td>short</td>\n",
       "      <td>0</td>\n",
       "      <td>1</td>\n",
       "      <td>Comedy,Short</td>\n",
       "      <td>6.2</td>\n",
       "      <td>tt0000005</td>\n",
       "      <td>9.0</td>\n",
       "      <td>nm0005690</td>\n",
       "      <td>\\N</td>\n",
       "      <td>4</td>\n",
       "      <td>nm0443482|actor|1 nm0653042|actor|1 nm0005690|...</td>\n",
       "    </tr>\n",
       "  </tbody>\n",
       "</table>\n",
       "</div>"
      ],
      "text/plain": [
       "      tconst titleType isAdult runtimeMinutes                    genres  \\\n",
       "0  tt0000001     short       0              1         Documentary,Short   \n",
       "1  tt0000002     short       0              5           Animation,Short   \n",
       "2  tt0000003     short       0              4  Animation,Comedy,Romance   \n",
       "3  tt0000004     short       0             -1           Animation,Short   \n",
       "4  tt0000005     short       0              1              Comedy,Short   \n",
       "\n",
       "  averageRating    titleId  count_movie_versions  directors writers  \\\n",
       "0           5.8  tt0000001                   5.0  nm0005690      \\N   \n",
       "1           6.3  tt0000002                   6.0  nm0721526      \\N   \n",
       "2           6.6  tt0000003                   6.0  nm0721526      \\N   \n",
       "3           6.4  tt0000004                   6.0  nm0721526      \\N   \n",
       "4           6.2  tt0000005                   9.0  nm0005690      \\N   \n",
       "\n",
       "   principal_cast_count                 nconst_category_countOfKnownTitles  \n",
       "0                     3  nm1588970|self|2 nm0005690|director|4 nm037465...  \n",
       "1                     2          nm0721526|director|4 nm1335271|composer|4  \n",
       "2                     4  nm0721526|director|4 nm5442194|producer|1 nm13...  \n",
       "3                     2          nm0721526|director|4 nm1335271|composer|4  \n",
       "4                     4  nm0443482|actor|1 nm0653042|actor|1 nm0005690|...  "
      ]
     },
     "execution_count": 55,
     "metadata": {},
     "output_type": "execute_result"
    }
   ],
   "source": [
    "df_title_basics_ratings_akas_crews_principle_cast_indiv_counts_merged = pd.merge(df_title_basics_ratings_akas_crews_principle_cast_count_merged, df_title_principal_preprocessed, how='inner', on='tconst')\n",
    "print(df_title_basics_ratings_akas_crews_principle_cast_indiv_counts_merged.count())\n",
    "df_title_basics_ratings_akas_crews_principle_cast_indiv_counts_merged.head(5)"
   ]
  },
  {
   "cell_type": "code",
   "execution_count": 56,
   "metadata": {
    "collapsed": true
   },
   "outputs": [],
   "source": [
    "filename = \"df_title_basics_ratings_akas_crews_principle_cast_indiv_counts_merged.tsv\"\n",
    "df_title_basics_ratings_akas_crews_principle_cast_indiv_counts_merged = df_title_basics_ratings_akas_crews_principle_cast_indiv_counts_merged[\n",
    "    ['tconst','titleType','isAdult','runtimeMinutes','genres','count_movie_versions','directors','writers','principal_cast_count','nconst_category_countOfKnownTitles','averageRating']\n",
    "]\n",
    "df_title_basics_ratings_akas_crews_principle_cast_indiv_counts_merged.to_csv(filename, sep=\"\\t\", encoding=\"utf-8\", index=False)"
   ]
  },
  {
   "cell_type": "markdown",
   "metadata": {},
   "source": [
    "## 2.1 Handling **\\N** and **missing values** in the data\n",
    "1. We simply discard values of \\N in **writers**, **genres**, and **directors** columns\n",
    "2. Missing NaN values (represented now by -1) in **countOfKnownTitles** are filled with 0\n",
    "3. Missing Nan values (represented by -1) in **count_movie_versions** are replaced by **the median value of count_movie_versions**\n",
    "4. \\N values in **runtimeMinutes** are replaced by **median values of the movie type** a given movie belongs to "
   ]
  },
  {
   "cell_type": "code",
   "execution_count": 58,
   "metadata": {
    "collapsed": false
   },
   "outputs": [
    {
     "data": {
      "text/plain": [
       "tconst                                 object\n",
       "titleType                              object\n",
       "isAdult                                 int64\n",
       "runtimeMinutes                          int64\n",
       "genres                                 object\n",
       "count_movie_versions                  float64\n",
       "directors                              object\n",
       "writers                                object\n",
       "principal_cast_count                    int64\n",
       "nconst_category_countOfKnownTitles     object\n",
       "averageRating                         float64\n",
       "dtype: object"
      ]
     },
     "execution_count": 58,
     "metadata": {},
     "output_type": "execute_result"
    }
   ],
   "source": [
    "filename = \"df_title_basics_ratings_akas_crews_principle_cast_indiv_counts_merged.tsv\"\n",
    "df_title_basics_ratings_akas_crews_principle_cast_indiv_counts_merged = pd.read_csv(filename,sep=\"\\t\",quoting=3)\n",
    "df_title_basics_ratings_akas_crews_principle_cast_indiv_counts_merged.dtypes"
   ]
  },
  {
   "cell_type": "markdown",
   "metadata": {},
   "source": [
    "### 2.1.1 Handling \\N values in runtimeMinutes\n",
    "1. Extract rows where **runtimeMinutes**!=-1\n",
    "2. Get tge median **runtimMinutes** for each of the movie types. We will use this dictionary to handle \\N values in runtimeMinutes"
   ]
  },
  {
   "cell_type": "code",
   "execution_count": 62,
   "metadata": {
    "collapsed": false
   },
   "outputs": [
    {
     "name": "stdout",
     "output_type": "stream",
     "text": [
      "\\n mean:titleType\n",
      "movie            94.043421\n",
      "short            13.979423\n",
      "tvEpisode        38.012826\n",
      "tvMiniSeries    141.888594\n",
      "tvMovie          85.601092\n",
      "tvSeries         50.738101\n",
      "tvShort          20.350185\n",
      "tvSpecial       101.696851\n",
      "video            60.174253\n",
      "videoGame        78.109375\n",
      "Name: runtimeMinutes, dtype: float64\n",
      "\\n median:titleType\n",
      "movie           91\n",
      "short           12\n",
      "tvEpisode       31\n",
      "tvMiniSeries    60\n",
      "tvMovie         89\n",
      "tvSeries        30\n",
      "tvShort         22\n",
      "tvSpecial       79\n",
      "video           60\n",
      "videoGame       59\n",
      "Name: runtimeMinutes, dtype: int64\n"
     ]
    }
   ],
   "source": [
    "df_runtimeMinutes=df_title_basics_ratings_akas_crews_principle_cast_indiv_counts_merged[df_title_basics_ratings_akas_crews_principle_cast_indiv_counts_merged['runtimeMinutes']!=-1]\n",
    "print(\"\\\\n mean:{0}\".format(df_runtimeMinutes.groupby('titleType')['runtimeMinutes'].mean()))\n",
    "print(\"\\\\n median:{0}\".format(df_runtimeMinutes.groupby('titleType')['runtimeMinutes'].median()))"
   ]
  },
  {
   "cell_type": "markdown",
   "metadata": {},
   "source": [
    "### 2.1.2 Handling missing values in count_movie_versions"
   ]
  },
  {
   "cell_type": "code",
   "execution_count": 63,
   "metadata": {
    "collapsed": false
   },
   "outputs": [
    {
     "data": {
      "text/plain": [
       "1.0"
      ]
     },
     "execution_count": 63,
     "metadata": {},
     "output_type": "execute_result"
    }
   ],
   "source": [
    "df_title_basics_ratings_akas_crews_principle_cast_indiv_counts_merged[df_title_basics_ratings_akas_crews_principle_cast_indiv_counts_merged['count_movie_versions']!=-1]['count_movie_versions'].median()"
   ]
  },
  {
   "cell_type": "code",
   "execution_count": 73,
   "metadata": {
    "collapsed": false
   },
   "outputs": [
    {
     "data": {
      "text/plain": [
       "1279"
      ]
     },
     "execution_count": 73,
     "metadata": {},
     "output_type": "execute_result"
    }
   ],
   "source": [
    "import gc\n",
    "#del df_runtimeMinutes\n",
    "#del df_title_principal_preprocessed\n",
    "#del df_principals_name_basics_merged\n",
    "#del df_principle_cast_count\n",
    "#del df_title_basics_ratings_akas_crews_principle_cast_count_merged\n",
    "#del df_title_basics_ratings_akas_crews_merged\n",
    "gc.collect()"
   ]
  },
  {
   "cell_type": "markdown",
   "metadata": {},
   "source": [
    "## 2.2 Splitting labeled dataset in training, validation and test dataset"
   ]
  },
  {
   "cell_type": "markdown",
   "metadata": {},
   "source": [
    "1. We will randomly create a subset of labeled dataset with 100K examples (about 10% of total labeled dataset).\n",
    "2. Then, we call **split_dataset** function to split this subset of labeled data randomly into training, validation, and test set and save them to output_folder. \n",
    "2. **training_pct** is pct of data to be used for training. We set  **training_pct**  = 60%\n",
    "3. **validation_pct** is pct of data set aside for validation. We set **validation_pct** = 20%"
   ]
  },
  {
   "cell_type": "code",
   "execution_count": 74,
   "metadata": {
    "collapsed": true
   },
   "outputs": [],
   "source": [
    "import numpy as np\n",
    "import sklearn.utils\n",
    "import math"
   ]
  },
  {
   "cell_type": "code",
   "execution_count": 78,
   "metadata": {
    "collapsed": true
   },
   "outputs": [],
   "source": [
    "def split_dataset(filename, training_pct, validation_pct, output_folder=\".\"):\n",
    "    data = pd.read_csv(filename, sep=\"\\t\", quoting=3)\n",
    "    print(\"data dtpyes:\")\n",
    "    print(data.dtypes)\n",
    "    # shuffle\n",
    "    np.random.seed(0)\n",
    "    data = sklearn.utils.shuffle(data)\n",
    "    \n",
    "    max_data_count = 100000\n",
    "    #select only top 100K examples\n",
    "    data = data.iloc[0:max_data_count,:]\n",
    "    print(\"total examples:{0}\".format(len(data)))\n",
    "    \n",
    "    # reset the index to the default indices\n",
    "    # don't add index as the column into the data\n",
    "    data.reset_index(drop=True, inplace=True)\n",
    "\n",
    "    # split the data\n",
    "    n = len(data)\n",
    "    train_max_index = math.floor(training_pct*n)\n",
    "    train_data = data.iloc[:train_max_index,:]\n",
    "    print(\"# of train_data: {0}\".format(len(train_data)))\n",
    "    \n",
    "    validation_max_index = math.floor(validation_pct*n)+train_max_index\n",
    "    validation_data = data.iloc[train_max_index:validation_max_index,:]\n",
    "    print(\"# of validation_data: {0}\".format(len(validation_data)))\n",
    "    \n",
    "    test_data = data.iloc[validation_max_index:,:]\n",
    "    print(\"# of test_data: {0}\".format(len(test_data)))\n",
    "    \n",
    "    #save the datasets\n",
    "    train_data.to_csv(\"{0}/train_data.tsv\".format(output_folder), sep=\"\\t\", encoding=\"utf-8\", index=False)\n",
    "    validation_data.to_csv(\"{0}/validation_data.tsv\".format(output_folder), sep=\"\\t\", encoding=\"utf-8\", index=False)\n",
    "    test_data.to_csv(\"{0}/test_data.tsv\".format(output_folder), sep=\"\\t\", encoding=\"utf-8\", index=False)"
   ]
  },
  {
   "cell_type": "code",
   "execution_count": 79,
   "metadata": {
    "collapsed": false
   },
   "outputs": [
    {
     "name": "stdout",
     "output_type": "stream",
     "text": [
      "data dtpyes:\n",
      "tconst                                 object\n",
      "titleType                              object\n",
      "isAdult                                 int64\n",
      "runtimeMinutes                          int64\n",
      "genres                                 object\n",
      "count_movie_versions                  float64\n",
      "directors                              object\n",
      "writers                                object\n",
      "principal_cast_count                    int64\n",
      "nconst_category_countOfKnownTitles     object\n",
      "averageRating                         float64\n",
      "dtype: object\n",
      "total examples:100000\n",
      "# of train_data: 60000\n",
      "# of validation_data: 20000\n",
      "# of test_data: 20000\n"
     ]
    }
   ],
   "source": [
    "training_pct = 0.6\n",
    "validation_pct = 0.2\n",
    "filename = 'df_title_basics_ratings_akas_crews_principle_cast_indiv_counts_merged.tsv'\n",
    "split_dataset(filename, training_pct, validation_pct)"
   ]
  },
  {
   "cell_type": "markdown",
   "metadata": {},
   "source": [
    "### 2.2.1 Loading training, validation and test dataset \n",
    "1. Earlier, we split the data in training (60K), validation(20K) and test(20K) dataset \n",
    "2. Now we load these data to train our prediction model"
   ]
  },
  {
   "cell_type": "code",
   "execution_count": 1,
   "metadata": {
    "collapsed": false
   },
   "outputs": [
    {
     "name": "stdout",
     "output_type": "stream",
     "text": [
      "training data:60000\n",
      "validation data:20000\n",
      "test data:20000\n"
     ]
    }
   ],
   "source": [
    "import pandas as pd\n",
    "import numpy as np\n",
    "\n",
    "'''\n",
    "load labeled dataset from the given filename\n",
    "'''\n",
    "\n",
    "\n",
    "def load_labeled_dataset(filename):\n",
    "    data = pd.read_csv(filename, sep=\"\\t\", quoting=3)\n",
    "    n_cols = len(data.columns)\n",
    "    X = data.iloc[:, 1:n_cols-1]\n",
    "    Y = data.iloc[:, n_cols-1]\n",
    "    return X, Y\n",
    "\n",
    "# load the labeled_datasets\n",
    "df_train_X, df_train_Y = load_labeled_dataset(\"train_data.tsv\")\n",
    "df_validation_X, df_validation_Y = load_labeled_dataset(\"validation_data.tsv\")\n",
    "df_test_X, df_test_Y = load_labeled_dataset(\"test_data.tsv\")\n",
    "\n",
    "print(\"training data:{0}\".format(len(df_train_X)))\n",
    "print(\"validation data:{0}\".format(len(df_validation_X)))\n",
    "print(\"test data:{0}\".format(len(df_test_X)))\n",
    "#print(df_train_Y)"
   ]
  },
  {
   "cell_type": "markdown",
   "metadata": {},
   "source": [
    "### 2.2.2 Load/initialize different dictionaries or hashes\n",
    "1. create **principal_movie_cat_count_map** which is a dictionary of count of movies principle casts played in differet job categories\n",
    "2. initialize **titleType_runtime_minutes_median_map**\n",
    "3. initialize the value of **count_movie_version_median**"
   ]
  },
  {
   "cell_type": "code",
   "execution_count": 2,
   "metadata": {
    "collapsed": false
   },
   "outputs": [
    {
     "name": "stdout",
     "output_type": "stream",
     "text": [
      "1454079\n"
     ]
    }
   ],
   "source": [
    "'''\n",
    "load the load_principal_cast_movie_cat_count data\n",
    "'''\n",
    "\n",
    "def load_principal_cast_movie_cat_count(filename):\n",
    "    principal_movie_cat_count_map={}\n",
    "    with open(filename,'r') as f:\n",
    "        lines = f.readlines()\n",
    "        #skip the header row\n",
    "        for i in range(1,len(lines)):\n",
    "            line = lines[i].strip()\n",
    "            fields = line.split(\"\\t\")\n",
    "            if len(fields)!=3:\n",
    "                print(\"bad data row: {0} at line number {1}\".format(line,i+1))\n",
    "                continue\n",
    "            principal_id = fields[0]\n",
    "            if principal_id not in principal_movie_cat_count_map:\n",
    "                principal_movie_cat_count_map[principal_id] = {}\n",
    "            category = fields[1]\n",
    "            count_movies = int(fields[2])\n",
    "            if 'total' not in principal_movie_cat_count_map[principal_id]:\n",
    "                principal_movie_cat_count_map[principal_id]['total']=0\n",
    "            principal_movie_cat_count_map[principal_id]['total'] = principal_movie_cat_count_map[principal_id]['total'] + count_movies\n",
    "            principal_movie_cat_count_map[principal_id][category] = count_movies\n",
    "    return principal_movie_cat_count_map\n",
    "\n",
    "principles_movie_category_count_filename = \"principles_movie_category_count.tsv\"\n",
    "principal_movie_cat_count_map = load_principal_cast_movie_cat_count(principles_movie_category_count_filename)\n",
    "print(len(principal_movie_cat_count_map))"
   ]
  },
  {
   "cell_type": "code",
   "execution_count": 3,
   "metadata": {
    "collapsed": true
   },
   "outputs": [],
   "source": [
    "# map to handle \\N in runTimeMinutes\n",
    "# median statistics obtained from data exploratory analysis of rated movies\n",
    "# see data_exploration notebook in src/data/analysis/\n",
    "titleType_runtime_minutes_median_map = {\n",
    "    'movie':91,\n",
    "    'short':12,\n",
    "    'tvEpisodes':31,\n",
    "    'tvMiniSeries':60,\n",
    "    'tvMovie':89,\n",
    "    'tvSeries':30,\n",
    "    'tvShort':22,\n",
    "    'tvSpecial':79,\n",
    "    'video':60,\n",
    "    'videoGame':59\n",
    "}\n",
    "\n",
    "# use median value to replace \\N in count_movie_versions\n",
    "#  median value is  1 in the movie rating dataset\n",
    "count_movie_version_median = 1"
   ]
  },
  {
   "cell_type": "markdown",
   "metadata": {},
   "source": [
    "### 2.2.3 Feature Extraction/Transformation\n",
    "1. We create **transform_to_features** method to extract features from the training examples using **DictVectorizer**\n",
    "2. We use **features_map** obtained from training examples to transform validation and test data to their corresponding feature representations. For this operation, we create another method called **transform_to_features_for_prediction**\n"
   ]
  },
  {
   "cell_type": "code",
   "execution_count": 4,
   "metadata": {
    "collapsed": true
   },
   "outputs": [],
   "source": [
    "from sklearn.feature_extraction import DictVectorizer\n",
    "from scipy.sparse import coo_matrix"
   ]
  },
  {
   "cell_type": "code",
   "execution_count": 5,
   "metadata": {
    "collapsed": false
   },
   "outputs": [
    {
     "name": "stdout",
     "output_type": "stream",
     "text": [
      "['actor_10_countKnownTitles', 'actor_10_movie_cnt', 'actor_10_total_movie_cnt', 'actor_1_countKnownTitles', 'actor_1_movie_cnt', 'actor_1_total_movie_cnt', 'actor_2_countKnownTitles', 'actor_2_movie_cnt', 'actor_2_total_movie_cnt', 'actor_3_countKnownTitles', 'actor_3_movie_cnt', 'actor_3_total_movie_cnt', 'actor_4_countKnownTitles', 'actor_4_movie_cnt', 'actor_4_total_movie_cnt', 'actor_5_countKnownTitles', 'actor_5_movie_cnt', 'actor_5_total_movie_cnt', 'actor_6_countKnownTitles', 'actor_6_movie_cnt', 'actor_6_total_movie_cnt', 'actor_7_countKnownTitles', 'actor_7_movie_cnt', 'actor_7_total_movie_cnt', 'actor_8_countKnownTitles', 'actor_8_movie_cnt', 'actor_8_total_movie_cnt', 'actor_9_countKnownTitles', 'actor_9_movie_cnt', 'actor_9_total_movie_cnt', 'archive_footage_10_countKnownTitles', 'archive_footage_10_movie_cnt', 'archive_footage_10_total_movie_cnt', 'archive_footage_1_countKnownTitles', 'archive_footage_1_movie_cnt', 'archive_footage_1_total_movie_cnt', 'archive_footage_2_countKnownTitles', 'archive_footage_2_movie_cnt', 'archive_footage_2_total_movie_cnt', 'archive_footage_3_countKnownTitles', 'archive_footage_3_movie_cnt', 'archive_footage_3_total_movie_cnt', 'archive_footage_4_countKnownTitles', 'archive_footage_4_movie_cnt', 'archive_footage_4_total_movie_cnt', 'archive_footage_5_countKnownTitles', 'archive_footage_5_movie_cnt', 'archive_footage_5_total_movie_cnt', 'archive_footage_6_countKnownTitles', 'archive_footage_6_movie_cnt', 'archive_footage_6_total_movie_cnt', 'archive_footage_7_countKnownTitles', 'archive_footage_7_movie_cnt', 'archive_footage_7_total_movie_cnt', 'archive_footage_8_countKnownTitles', 'archive_footage_8_movie_cnt', 'archive_footage_8_total_movie_cnt', 'archive_footage_9_countKnownTitles', 'archive_footage_9_movie_cnt', 'archive_footage_9_total_movie_cnt', 'archive_sound_1_countKnownTitles', 'archive_sound_1_movie_cnt', 'archive_sound_1_total_movie_cnt', 'archive_sound_2_countKnownTitles', 'archive_sound_2_movie_cnt', 'archive_sound_2_total_movie_cnt', 'archive_sound_3_countKnownTitles', 'archive_sound_3_movie_cnt', 'archive_sound_3_total_movie_cnt', 'archive_sound_4_countKnownTitles', 'archive_sound_4_movie_cnt', 'archive_sound_4_total_movie_cnt', 'archive_sound_5_countKnownTitles', 'archive_sound_5_movie_cnt', 'archive_sound_5_total_movie_cnt', 'archive_sound_6_countKnownTitles', 'archive_sound_6_movie_cnt', 'archive_sound_6_total_movie_cnt', 'archive_sound_7_countKnownTitles', 'archive_sound_7_movie_cnt', 'archive_sound_7_total_movie_cnt', 'archive_sound_8_countKnownTitles', 'archive_sound_8_movie_cnt', 'archive_sound_8_total_movie_cnt', 'cinematographer_1_countKnownTitles', 'cinematographer_1_movie_cnt', 'cinematographer_1_total_movie_cnt', 'cinematographer_2_countKnownTitles', 'cinematographer_2_movie_cnt', 'cinematographer_2_total_movie_cnt', 'cinematographer_3_countKnownTitles', 'cinematographer_3_movie_cnt', 'cinematographer_3_total_movie_cnt', 'cinematographer_4_countKnownTitles', 'cinematographer_4_movie_cnt', 'cinematographer_4_total_movie_cnt', 'cinematographer_5_countKnownTitles', 'cinematographer_5_movie_cnt', 'cinematographer_5_total_movie_cnt', 'cinematographer_6_countKnownTitles', 'cinematographer_6_movie_cnt', 'cinematographer_6_total_movie_cnt', 'cinematographer_7_countKnownTitles', 'cinematographer_7_movie_cnt', 'cinematographer_7_total_movie_cnt', 'cinematographer_8_countKnownTitles', 'cinematographer_8_movie_cnt', 'cinematographer_8_total_movie_cnt', 'composer_1_countKnownTitles', 'composer_1_movie_cnt', 'composer_1_total_movie_cnt', 'composer_2_countKnownTitles', 'composer_2_movie_cnt', 'composer_2_total_movie_cnt', 'composer_3_countKnownTitles', 'composer_3_movie_cnt', 'composer_3_total_movie_cnt', 'composer_4_countKnownTitles', 'composer_4_movie_cnt', 'composer_4_total_movie_cnt', 'composer_5_countKnownTitles', 'composer_5_movie_cnt', 'composer_5_total_movie_cnt', 'composer_6_countKnownTitles', 'composer_6_movie_cnt', 'composer_6_total_movie_cnt', 'composer_7_countKnownTitles', 'composer_7_movie_cnt', 'composer_7_total_movie_cnt', 'composer_8_countKnownTitles', 'composer_8_movie_cnt', 'composer_8_total_movie_cnt', 'composer_9_countKnownTitles', 'composer_9_movie_cnt', 'composer_9_total_movie_cnt', 'count_movie_versions', 'director_100_movie_cnt', 'director_100_total_movie_cnt', 'director_101_movie_cnt', 'director_101_total_movie_cnt', 'director_102_movie_cnt', 'director_102_total_movie_cnt', 'director_103_movie_cnt', 'director_103_total_movie_cnt', 'director_104_movie_cnt', 'director_104_total_movie_cnt', 'director_105_movie_cnt', 'director_105_total_movie_cnt', 'director_106_movie_cnt', 'director_106_total_movie_cnt', 'director_107_movie_cnt', 'director_107_total_movie_cnt', 'director_108_movie_cnt', 'director_108_total_movie_cnt', 'director_109_movie_cnt', 'director_109_total_movie_cnt', 'director_10_countKnownTitles', 'director_10_movie_cnt', 'director_10_total_movie_cnt', 'director_110_movie_cnt', 'director_110_total_movie_cnt', 'director_111_movie_cnt', 'director_111_total_movie_cnt', 'director_112_movie_cnt', 'director_112_total_movie_cnt', 'director_113_movie_cnt', 'director_113_total_movie_cnt', 'director_114_movie_cnt', 'director_114_total_movie_cnt', 'director_115_movie_cnt', 'director_115_total_movie_cnt', 'director_116_movie_cnt', 'director_116_total_movie_cnt', 'director_117_movie_cnt', 'director_117_total_movie_cnt', 'director_118_movie_cnt', 'director_118_total_movie_cnt', 'director_119_movie_cnt', 'director_119_total_movie_cnt', 'director_11_countKnownTitles', 'director_11_movie_cnt', 'director_11_total_movie_cnt', 'director_120_movie_cnt', 'director_120_total_movie_cnt', 'director_121_movie_cnt', 'director_121_total_movie_cnt', 'director_122_movie_cnt', 'director_122_total_movie_cnt', 'director_123_movie_cnt', 'director_123_total_movie_cnt', 'director_124_movie_cnt', 'director_124_total_movie_cnt', 'director_125_movie_cnt', 'director_125_total_movie_cnt', 'director_126_movie_cnt', 'director_126_total_movie_cnt', 'director_127_movie_cnt', 'director_127_total_movie_cnt', 'director_128_movie_cnt', 'director_128_total_movie_cnt', 'director_129_movie_cnt', 'director_129_total_movie_cnt', 'director_12_countKnownTitles', 'director_12_movie_cnt', 'director_12_total_movie_cnt', 'director_130_movie_cnt', 'director_130_total_movie_cnt', 'director_131_movie_cnt', 'director_131_total_movie_cnt', 'director_132_movie_cnt', 'director_132_total_movie_cnt', 'director_133_movie_cnt', 'director_133_total_movie_cnt', 'director_134_movie_cnt', 'director_134_total_movie_cnt', 'director_135_movie_cnt', 'director_135_total_movie_cnt', 'director_136_movie_cnt', 'director_136_total_movie_cnt', 'director_137_movie_cnt', 'director_137_total_movie_cnt', 'director_138_movie_cnt', 'director_138_total_movie_cnt', 'director_139_movie_cnt', 'director_139_total_movie_cnt', 'director_13_countKnownTitles', 'director_13_movie_cnt', 'director_13_total_movie_cnt', 'director_140_movie_cnt', 'director_140_total_movie_cnt', 'director_141_movie_cnt', 'director_141_total_movie_cnt', 'director_142_movie_cnt', 'director_142_total_movie_cnt', 'director_143_movie_cnt', 'director_143_total_movie_cnt', 'director_144_movie_cnt', 'director_144_total_movie_cnt', 'director_145_movie_cnt', 'director_145_total_movie_cnt', 'director_146_movie_cnt', 'director_146_total_movie_cnt', 'director_147_movie_cnt', 'director_147_total_movie_cnt', 'director_148_movie_cnt', 'director_148_total_movie_cnt', 'director_149_movie_cnt', 'director_149_total_movie_cnt', 'director_14_countKnownTitles', 'director_14_movie_cnt', 'director_14_total_movie_cnt', 'director_150_movie_cnt', 'director_150_total_movie_cnt', 'director_151_movie_cnt', 'director_151_total_movie_cnt', 'director_152_movie_cnt', 'director_152_total_movie_cnt', 'director_153_movie_cnt', 'director_153_total_movie_cnt', 'director_154_movie_cnt', 'director_154_total_movie_cnt', 'director_155_movie_cnt', 'director_155_total_movie_cnt', 'director_156_movie_cnt', 'director_156_total_movie_cnt', 'director_157_movie_cnt', 'director_157_total_movie_cnt', 'director_158_movie_cnt', 'director_158_total_movie_cnt', 'director_159_movie_cnt', 'director_159_total_movie_cnt', 'director_15_countKnownTitles', 'director_15_movie_cnt', 'director_15_total_movie_cnt', 'director_160_movie_cnt', 'director_160_total_movie_cnt', 'director_161_movie_cnt', 'director_161_total_movie_cnt', 'director_162_movie_cnt', 'director_162_total_movie_cnt', 'director_163_movie_cnt', 'director_163_total_movie_cnt', 'director_164_movie_cnt', 'director_164_total_movie_cnt', 'director_165_movie_cnt', 'director_165_total_movie_cnt', 'director_166_movie_cnt', 'director_166_total_movie_cnt', 'director_167_movie_cnt', 'director_167_total_movie_cnt', 'director_168_movie_cnt', 'director_168_total_movie_cnt', 'director_169_movie_cnt', 'director_169_total_movie_cnt', 'director_16_countKnownTitles', 'director_16_movie_cnt', 'director_16_total_movie_cnt', 'director_170_movie_cnt', 'director_170_total_movie_cnt', 'director_171_movie_cnt', 'director_171_total_movie_cnt', 'director_172_movie_cnt', 'director_172_total_movie_cnt', 'director_173_movie_cnt', 'director_173_total_movie_cnt', 'director_174_movie_cnt', 'director_174_total_movie_cnt', 'director_175_movie_cnt', 'director_175_total_movie_cnt', 'director_176_movie_cnt', 'director_176_total_movie_cnt', 'director_177_movie_cnt', 'director_177_total_movie_cnt', 'director_178_movie_cnt', 'director_178_total_movie_cnt', 'director_179_movie_cnt', 'director_179_total_movie_cnt', 'director_17_countKnownTitles', 'director_17_movie_cnt', 'director_17_total_movie_cnt', 'director_180_movie_cnt', 'director_180_total_movie_cnt', 'director_181_movie_cnt', 'director_181_total_movie_cnt', 'director_182_movie_cnt', 'director_182_total_movie_cnt', 'director_183_movie_cnt', 'director_183_total_movie_cnt', 'director_184_movie_cnt', 'director_184_total_movie_cnt', 'director_185_movie_cnt', 'director_185_total_movie_cnt', 'director_186_movie_cnt', 'director_186_total_movie_cnt', 'director_187_movie_cnt', 'director_187_total_movie_cnt', 'director_188_movie_cnt', 'director_188_total_movie_cnt', 'director_189_movie_cnt', 'director_189_total_movie_cnt', 'director_18_countKnownTitles', 'director_18_movie_cnt', 'director_18_total_movie_cnt', 'director_190_movie_cnt', 'director_190_total_movie_cnt', 'director_191_movie_cnt', 'director_191_total_movie_cnt', 'director_192_movie_cnt', 'director_192_total_movie_cnt', 'director_193_movie_cnt', 'director_193_total_movie_cnt', 'director_194_movie_cnt', 'director_194_total_movie_cnt', 'director_195_movie_cnt', 'director_195_total_movie_cnt', 'director_196_movie_cnt', 'director_196_total_movie_cnt', 'director_197_movie_cnt', 'director_197_total_movie_cnt', 'director_198_movie_cnt', 'director_198_total_movie_cnt', 'director_199_movie_cnt', 'director_199_total_movie_cnt', 'director_19_countKnownTitles', 'director_19_movie_cnt', 'director_19_total_movie_cnt', 'director_1_countKnownTitles', 'director_1_movie_cnt', 'director_1_total_movie_cnt', 'director_200_movie_cnt', 'director_200_total_movie_cnt', 'director_201_movie_cnt', 'director_201_total_movie_cnt', 'director_202_movie_cnt', 'director_202_total_movie_cnt', 'director_203_movie_cnt', 'director_203_total_movie_cnt', 'director_204_movie_cnt', 'director_204_total_movie_cnt', 'director_205_movie_cnt', 'director_205_total_movie_cnt', 'director_206_movie_cnt', 'director_206_total_movie_cnt', 'director_207_movie_cnt', 'director_207_total_movie_cnt', 'director_208_movie_cnt', 'director_208_total_movie_cnt', 'director_209_movie_cnt', 'director_209_total_movie_cnt', 'director_20_countKnownTitles', 'director_20_movie_cnt', 'director_20_total_movie_cnt', 'director_210_movie_cnt', 'director_210_total_movie_cnt', 'director_211_movie_cnt', 'director_211_total_movie_cnt', 'director_212_movie_cnt', 'director_212_total_movie_cnt', 'director_213_movie_cnt', 'director_213_total_movie_cnt', 'director_214_movie_cnt', 'director_214_total_movie_cnt', 'director_215_movie_cnt', 'director_215_total_movie_cnt', 'director_216_movie_cnt', 'director_216_total_movie_cnt', 'director_217_movie_cnt', 'director_217_total_movie_cnt', 'director_218_movie_cnt', 'director_218_total_movie_cnt', 'director_219_movie_cnt', 'director_219_total_movie_cnt', 'director_21_countKnownTitles', 'director_21_movie_cnt', 'director_21_total_movie_cnt', 'director_220_movie_cnt', 'director_220_total_movie_cnt', 'director_221_movie_cnt', 'director_221_total_movie_cnt', 'director_222_movie_cnt', 'director_222_total_movie_cnt', 'director_223_movie_cnt', 'director_223_total_movie_cnt', 'director_224_movie_cnt', 'director_224_total_movie_cnt', 'director_225_movie_cnt', 'director_225_total_movie_cnt', 'director_226_movie_cnt', 'director_226_total_movie_cnt', 'director_227_movie_cnt', 'director_227_total_movie_cnt', 'director_228_movie_cnt', 'director_228_total_movie_cnt', 'director_229_movie_cnt', 'director_229_total_movie_cnt', 'director_22_countKnownTitles', 'director_22_movie_cnt', 'director_22_total_movie_cnt', 'director_230_movie_cnt', 'director_230_total_movie_cnt', 'director_231_movie_cnt', 'director_231_total_movie_cnt', 'director_232_movie_cnt', 'director_232_total_movie_cnt', 'director_233_movie_cnt', 'director_233_total_movie_cnt', 'director_234_movie_cnt', 'director_234_total_movie_cnt', 'director_235_movie_cnt', 'director_235_total_movie_cnt', 'director_236_movie_cnt', 'director_236_total_movie_cnt', 'director_237_movie_cnt', 'director_237_total_movie_cnt', 'director_238_movie_cnt', 'director_238_total_movie_cnt', 'director_239_movie_cnt', 'director_239_total_movie_cnt', 'director_23_countKnownTitles', 'director_23_movie_cnt', 'director_23_total_movie_cnt', 'director_240_movie_cnt', 'director_240_total_movie_cnt', 'director_241_movie_cnt', 'director_241_total_movie_cnt', 'director_242_movie_cnt', 'director_242_total_movie_cnt', 'director_243_movie_cnt', 'director_243_total_movie_cnt', 'director_244_movie_cnt', 'director_244_total_movie_cnt', 'director_245_movie_cnt', 'director_245_total_movie_cnt', 'director_246_movie_cnt', 'director_246_total_movie_cnt', 'director_247_movie_cnt', 'director_247_total_movie_cnt', 'director_248_movie_cnt', 'director_248_total_movie_cnt', 'director_249_movie_cnt', 'director_249_total_movie_cnt', 'director_24_movie_cnt', 'director_24_total_movie_cnt', 'director_250_movie_cnt', 'director_250_total_movie_cnt', 'director_251_movie_cnt', 'director_251_total_movie_cnt', 'director_252_movie_cnt', 'director_252_total_movie_cnt', 'director_253_movie_cnt', 'director_253_total_movie_cnt', 'director_254_movie_cnt', 'director_254_total_movie_cnt', 'director_255_movie_cnt', 'director_255_total_movie_cnt', 'director_256_movie_cnt', 'director_256_total_movie_cnt', 'director_257_movie_cnt', 'director_257_total_movie_cnt', 'director_258_movie_cnt', 'director_258_total_movie_cnt', 'director_259_movie_cnt', 'director_259_total_movie_cnt', 'director_25_movie_cnt', 'director_25_total_movie_cnt', 'director_260_movie_cnt', 'director_260_total_movie_cnt', 'director_261_movie_cnt', 'director_261_total_movie_cnt', 'director_262_movie_cnt', 'director_262_total_movie_cnt', 'director_263_movie_cnt', 'director_263_total_movie_cnt', 'director_264_movie_cnt', 'director_264_total_movie_cnt', 'director_265_movie_cnt', 'director_265_total_movie_cnt', 'director_266_movie_cnt', 'director_266_total_movie_cnt', 'director_267_movie_cnt', 'director_267_total_movie_cnt', 'director_268_movie_cnt', 'director_268_total_movie_cnt', 'director_269_movie_cnt', 'director_269_total_movie_cnt', 'director_26_movie_cnt', 'director_26_total_movie_cnt', 'director_270_movie_cnt', 'director_270_total_movie_cnt', 'director_271_movie_cnt', 'director_271_total_movie_cnt', 'director_272_movie_cnt', 'director_272_total_movie_cnt', 'director_273_movie_cnt', 'director_273_total_movie_cnt', 'director_274_movie_cnt', 'director_274_total_movie_cnt', 'director_275_movie_cnt', 'director_275_total_movie_cnt', 'director_276_movie_cnt', 'director_276_total_movie_cnt', 'director_277_movie_cnt', 'director_277_total_movie_cnt', 'director_278_movie_cnt', 'director_278_total_movie_cnt', 'director_279_movie_cnt', 'director_279_total_movie_cnt', 'director_27_movie_cnt', 'director_27_total_movie_cnt', 'director_280_movie_cnt', 'director_280_total_movie_cnt', 'director_28_movie_cnt', 'director_28_total_movie_cnt', 'director_29_countKnownTitles', 'director_29_movie_cnt', 'director_29_total_movie_cnt', 'director_2_countKnownTitles', 'director_2_movie_cnt', 'director_2_total_movie_cnt', 'director_30_countKnownTitles', 'director_30_movie_cnt', 'director_30_total_movie_cnt', 'director_31_countKnownTitles', 'director_31_movie_cnt', 'director_31_total_movie_cnt', 'director_32_countKnownTitles', 'director_32_movie_cnt', 'director_32_total_movie_cnt', 'director_33_countKnownTitles', 'director_33_movie_cnt', 'director_33_total_movie_cnt', 'director_34_countKnownTitles', 'director_34_movie_cnt', 'director_34_total_movie_cnt', 'director_35_movie_cnt', 'director_35_total_movie_cnt', 'director_36_movie_cnt', 'director_36_total_movie_cnt', 'director_37_movie_cnt', 'director_37_total_movie_cnt', 'director_38_movie_cnt', 'director_38_total_movie_cnt', 'director_39_movie_cnt', 'director_39_total_movie_cnt', 'director_3_countKnownTitles', 'director_3_movie_cnt', 'director_3_total_movie_cnt', 'director_40_movie_cnt', 'director_40_total_movie_cnt', 'director_41_movie_cnt', 'director_41_total_movie_cnt', 'director_42_movie_cnt', 'director_42_total_movie_cnt', 'director_43_movie_cnt', 'director_43_total_movie_cnt', 'director_44_movie_cnt', 'director_44_total_movie_cnt', 'director_45_movie_cnt', 'director_45_total_movie_cnt', 'director_46_movie_cnt', 'director_46_total_movie_cnt', 'director_47_movie_cnt', 'director_47_total_movie_cnt', 'director_48_movie_cnt', 'director_48_total_movie_cnt', 'director_49_movie_cnt', 'director_49_total_movie_cnt', 'director_4_countKnownTitles', 'director_4_movie_cnt', 'director_4_total_movie_cnt', 'director_50_movie_cnt', 'director_50_total_movie_cnt', 'director_51_movie_cnt', 'director_51_total_movie_cnt', 'director_52_movie_cnt', 'director_52_total_movie_cnt', 'director_53_movie_cnt', 'director_53_total_movie_cnt', 'director_54_movie_cnt', 'director_54_total_movie_cnt', 'director_55_movie_cnt', 'director_55_total_movie_cnt', 'director_56_movie_cnt', 'director_56_total_movie_cnt', 'director_57_movie_cnt', 'director_57_total_movie_cnt', 'director_58_movie_cnt', 'director_58_total_movie_cnt', 'director_59_movie_cnt', 'director_59_total_movie_cnt', 'director_5_countKnownTitles', 'director_5_movie_cnt', 'director_5_total_movie_cnt', 'director_60_movie_cnt', 'director_60_total_movie_cnt', 'director_61_movie_cnt', 'director_61_total_movie_cnt', 'director_62_movie_cnt', 'director_62_total_movie_cnt', 'director_63_movie_cnt', 'director_63_total_movie_cnt', 'director_64_movie_cnt', 'director_64_total_movie_cnt', 'director_65_movie_cnt', 'director_65_total_movie_cnt', 'director_66_movie_cnt', 'director_66_total_movie_cnt', 'director_67_movie_cnt', 'director_67_total_movie_cnt', 'director_68_movie_cnt', 'director_68_total_movie_cnt', 'director_69_movie_cnt', 'director_69_total_movie_cnt', 'director_6_countKnownTitles', 'director_6_movie_cnt', 'director_6_total_movie_cnt', 'director_70_movie_cnt', 'director_70_total_movie_cnt', 'director_71_movie_cnt', 'director_71_total_movie_cnt', 'director_72_movie_cnt', 'director_72_total_movie_cnt', 'director_73_movie_cnt', 'director_73_total_movie_cnt', 'director_74_movie_cnt', 'director_74_total_movie_cnt', 'director_75_movie_cnt', 'director_75_total_movie_cnt', 'director_76_movie_cnt', 'director_76_total_movie_cnt', 'director_77_movie_cnt', 'director_77_total_movie_cnt', 'director_78_movie_cnt', 'director_78_total_movie_cnt', 'director_79_movie_cnt', 'director_79_total_movie_cnt', 'director_7_countKnownTitles', 'director_7_movie_cnt', 'director_7_total_movie_cnt', 'director_80_movie_cnt', 'director_80_total_movie_cnt', 'director_81_movie_cnt', 'director_81_total_movie_cnt', 'director_82_movie_cnt', 'director_82_total_movie_cnt', 'director_83_movie_cnt', 'director_83_total_movie_cnt', 'director_84_movie_cnt', 'director_84_total_movie_cnt', 'director_85_movie_cnt', 'director_85_total_movie_cnt', 'director_86_movie_cnt', 'director_86_total_movie_cnt', 'director_87_movie_cnt', 'director_87_total_movie_cnt', 'director_88_movie_cnt', 'director_88_total_movie_cnt', 'director_89_movie_cnt', 'director_89_total_movie_cnt', 'director_8_countKnownTitles', 'director_8_movie_cnt', 'director_8_total_movie_cnt', 'director_90_movie_cnt', 'director_90_total_movie_cnt', 'director_91_movie_cnt', 'director_91_total_movie_cnt', 'director_92_movie_cnt', 'director_92_total_movie_cnt', 'director_93_movie_cnt', 'director_93_total_movie_cnt', 'director_94_movie_cnt', 'director_94_total_movie_cnt', 'director_95_movie_cnt', 'director_95_total_movie_cnt', 'director_96_movie_cnt', 'director_96_total_movie_cnt', 'director_97_movie_cnt', 'director_97_total_movie_cnt', 'director_98_movie_cnt', 'director_98_total_movie_cnt', 'director_99_movie_cnt', 'director_99_total_movie_cnt', 'director_9_countKnownTitles', 'director_9_movie_cnt', 'director_9_total_movie_cnt', 'editor_1_countKnownTitles', 'editor_1_movie_cnt', 'editor_1_total_movie_cnt', 'editor_2_countKnownTitles', 'editor_2_movie_cnt', 'editor_2_total_movie_cnt', 'editor_3_countKnownTitles', 'editor_3_movie_cnt', 'editor_3_total_movie_cnt', 'editor_4_countKnownTitles', 'editor_4_movie_cnt', 'editor_4_total_movie_cnt', 'editor_5_countKnownTitles', 'editor_5_movie_cnt', 'editor_5_total_movie_cnt', 'editor_6_countKnownTitles', 'editor_6_movie_cnt', 'editor_6_total_movie_cnt', 'editor_7_countKnownTitles', 'editor_7_movie_cnt', 'editor_7_total_movie_cnt', 'editor_8_countKnownTitles', 'editor_8_movie_cnt', 'editor_8_total_movie_cnt', 'editor_9_countKnownTitles', 'editor_9_movie_cnt', 'editor_9_total_movie_cnt', 'genres=Action', 'genres=Adult', 'genres=Adventure', 'genres=Animation', 'genres=Biography', 'genres=Comedy', 'genres=Crime', 'genres=Documentary', 'genres=Drama', 'genres=Family', 'genres=Fantasy', 'genres=Film-Noir', 'genres=Game-Show', 'genres=History', 'genres=Horror', 'genres=Music', 'genres=Musical', 'genres=Mystery', 'genres=News', 'genres=Reality-TV', 'genres=Romance', 'genres=Sci-Fi', 'genres=Short', 'genres=Sport', 'genres=Talk-Show', 'genres=Thriller', 'genres=War', 'genres=Western', 'isAdult', 'principal_cast_count', 'producer_1_countKnownTitles', 'producer_1_movie_cnt', 'producer_1_total_movie_cnt', 'producer_2_countKnownTitles', 'producer_2_movie_cnt', 'producer_2_total_movie_cnt', 'producer_3_countKnownTitles', 'producer_3_movie_cnt', 'producer_3_total_movie_cnt', 'producer_4_countKnownTitles', 'producer_4_movie_cnt', 'producer_4_total_movie_cnt', 'producer_5_countKnownTitles', 'producer_5_movie_cnt', 'producer_5_total_movie_cnt', 'producer_6_countKnownTitles', 'producer_6_movie_cnt', 'producer_6_total_movie_cnt', 'producer_7_countKnownTitles', 'producer_7_movie_cnt', 'producer_7_total_movie_cnt', 'producer_8_countKnownTitles', 'producer_8_movie_cnt', 'producer_8_total_movie_cnt', 'production_designer_1_countKnownTitles', 'production_designer_1_movie_cnt', 'production_designer_1_total_movie_cnt', 'production_designer_2_countKnownTitles', 'production_designer_2_movie_cnt', 'production_designer_2_total_movie_cnt', 'production_designer_3_countKnownTitles', 'production_designer_3_movie_cnt', 'production_designer_3_total_movie_cnt', 'production_designer_4_countKnownTitles', 'production_designer_4_movie_cnt', 'production_designer_4_total_movie_cnt', 'production_designer_5_countKnownTitles', 'production_designer_5_movie_cnt', 'production_designer_5_total_movie_cnt', 'runtimeMinutes', 'self_10_countKnownTitles', 'self_10_movie_cnt', 'self_10_total_movie_cnt', 'self_1_countKnownTitles', 'self_1_movie_cnt', 'self_1_total_movie_cnt', 'self_2_countKnownTitles', 'self_2_movie_cnt', 'self_2_total_movie_cnt', 'self_3_countKnownTitles', 'self_3_movie_cnt', 'self_3_total_movie_cnt', 'self_4_countKnownTitles', 'self_4_movie_cnt', 'self_4_total_movie_cnt', 'self_5_countKnownTitles', 'self_5_movie_cnt', 'self_5_total_movie_cnt', 'self_6_countKnownTitles', 'self_6_movie_cnt', 'self_6_total_movie_cnt', 'self_7_countKnownTitles', 'self_7_movie_cnt', 'self_7_total_movie_cnt', 'self_8_countKnownTitles', 'self_8_movie_cnt', 'self_8_total_movie_cnt', 'self_9_countKnownTitles', 'self_9_movie_cnt', 'self_9_total_movie_cnt', 'titleType=movie', 'titleType=short', 'titleType=tvEpisode', 'titleType=tvMiniSeries', 'titleType=tvMovie', 'titleType=tvSeries', 'titleType=tvShort', 'titleType=tvSpecial', 'titleType=video', 'titleType=videoGame', 'writer_100_movie_cnt', 'writer_100_total_movie_cnt', 'writer_101_movie_cnt', 'writer_101_total_movie_cnt', 'writer_102_movie_cnt', 'writer_102_total_movie_cnt', 'writer_103_movie_cnt', 'writer_103_total_movie_cnt', 'writer_104_movie_cnt', 'writer_104_total_movie_cnt', 'writer_105_movie_cnt', 'writer_105_total_movie_cnt', 'writer_106_movie_cnt', 'writer_106_total_movie_cnt', 'writer_107_movie_cnt', 'writer_107_total_movie_cnt', 'writer_108_movie_cnt', 'writer_108_total_movie_cnt', 'writer_109_movie_cnt', 'writer_109_total_movie_cnt', 'writer_10_countKnownTitles', 'writer_10_movie_cnt', 'writer_10_total_movie_cnt', 'writer_110_movie_cnt', 'writer_110_total_movie_cnt', 'writer_111_movie_cnt', 'writer_111_total_movie_cnt', 'writer_112_movie_cnt', 'writer_112_total_movie_cnt', 'writer_113_movie_cnt', 'writer_113_total_movie_cnt', 'writer_114_movie_cnt', 'writer_114_total_movie_cnt', 'writer_115_movie_cnt', 'writer_115_total_movie_cnt', 'writer_116_movie_cnt', 'writer_116_total_movie_cnt', 'writer_117_movie_cnt', 'writer_117_total_movie_cnt', 'writer_118_movie_cnt', 'writer_118_total_movie_cnt', 'writer_119_movie_cnt', 'writer_119_total_movie_cnt', 'writer_11_countKnownTitles', 'writer_11_movie_cnt', 'writer_11_total_movie_cnt', 'writer_120_movie_cnt', 'writer_120_total_movie_cnt', 'writer_121_movie_cnt', 'writer_121_total_movie_cnt', 'writer_122_movie_cnt', 'writer_122_total_movie_cnt', 'writer_123_movie_cnt', 'writer_123_total_movie_cnt', 'writer_124_movie_cnt', 'writer_124_total_movie_cnt', 'writer_125_movie_cnt', 'writer_125_total_movie_cnt', 'writer_126_movie_cnt', 'writer_126_total_movie_cnt', 'writer_127_movie_cnt', 'writer_127_total_movie_cnt', 'writer_128_movie_cnt', 'writer_128_total_movie_cnt', 'writer_129_movie_cnt', 'writer_129_total_movie_cnt', 'writer_12_countKnownTitles', 'writer_12_movie_cnt', 'writer_12_total_movie_cnt', 'writer_130_movie_cnt', 'writer_130_total_movie_cnt', 'writer_131_movie_cnt', 'writer_131_total_movie_cnt', 'writer_132_movie_cnt', 'writer_132_total_movie_cnt', 'writer_133_movie_cnt', 'writer_133_total_movie_cnt', 'writer_134_movie_cnt', 'writer_134_total_movie_cnt', 'writer_135_movie_cnt', 'writer_135_total_movie_cnt', 'writer_136_movie_cnt', 'writer_136_total_movie_cnt', 'writer_137_movie_cnt', 'writer_137_total_movie_cnt', 'writer_138_movie_cnt', 'writer_138_total_movie_cnt', 'writer_139_movie_cnt', 'writer_139_total_movie_cnt', 'writer_13_countKnownTitles', 'writer_13_movie_cnt', 'writer_13_total_movie_cnt', 'writer_140_movie_cnt', 'writer_140_total_movie_cnt', 'writer_141_movie_cnt', 'writer_141_total_movie_cnt', 'writer_142_movie_cnt', 'writer_142_total_movie_cnt', 'writer_143_movie_cnt', 'writer_143_total_movie_cnt', 'writer_144_movie_cnt', 'writer_144_total_movie_cnt', 'writer_145_movie_cnt', 'writer_145_total_movie_cnt', 'writer_146_movie_cnt', 'writer_146_total_movie_cnt', 'writer_147_movie_cnt', 'writer_147_total_movie_cnt', 'writer_148_movie_cnt', 'writer_148_total_movie_cnt', 'writer_149_movie_cnt', 'writer_149_total_movie_cnt', 'writer_14_countKnownTitles', 'writer_14_movie_cnt', 'writer_14_total_movie_cnt', 'writer_150_movie_cnt', 'writer_150_total_movie_cnt', 'writer_151_movie_cnt', 'writer_151_total_movie_cnt', 'writer_152_movie_cnt', 'writer_152_total_movie_cnt', 'writer_153_movie_cnt', 'writer_153_total_movie_cnt', 'writer_154_movie_cnt', 'writer_154_total_movie_cnt', 'writer_155_movie_cnt', 'writer_155_total_movie_cnt', 'writer_156_movie_cnt', 'writer_156_total_movie_cnt', 'writer_157_movie_cnt', 'writer_157_total_movie_cnt', 'writer_158_movie_cnt', 'writer_158_total_movie_cnt', 'writer_159_movie_cnt', 'writer_159_total_movie_cnt', 'writer_15_countKnownTitles', 'writer_15_movie_cnt', 'writer_15_total_movie_cnt', 'writer_160_movie_cnt', 'writer_160_total_movie_cnt', 'writer_161_movie_cnt', 'writer_161_total_movie_cnt', 'writer_162_movie_cnt', 'writer_162_total_movie_cnt', 'writer_163_movie_cnt', 'writer_163_total_movie_cnt', 'writer_164_movie_cnt', 'writer_164_total_movie_cnt', 'writer_165_movie_cnt', 'writer_165_total_movie_cnt', 'writer_166_movie_cnt', 'writer_166_total_movie_cnt', 'writer_167_countKnownTitles', 'writer_167_movie_cnt', 'writer_167_total_movie_cnt', 'writer_168_countKnownTitles', 'writer_168_movie_cnt', 'writer_168_total_movie_cnt', 'writer_169_movie_cnt', 'writer_169_total_movie_cnt', 'writer_16_countKnownTitles', 'writer_16_movie_cnt', 'writer_16_total_movie_cnt', 'writer_170_movie_cnt', 'writer_170_total_movie_cnt', 'writer_171_countKnownTitles', 'writer_171_movie_cnt', 'writer_171_total_movie_cnt', 'writer_172_movie_cnt', 'writer_172_total_movie_cnt', 'writer_173_movie_cnt', 'writer_173_total_movie_cnt', 'writer_174_movie_cnt', 'writer_174_total_movie_cnt', 'writer_175_movie_cnt', 'writer_175_total_movie_cnt', 'writer_176_movie_cnt', 'writer_176_total_movie_cnt', 'writer_177_movie_cnt', 'writer_177_total_movie_cnt', 'writer_178_movie_cnt', 'writer_178_total_movie_cnt', 'writer_179_movie_cnt', 'writer_179_total_movie_cnt', 'writer_17_countKnownTitles', 'writer_17_movie_cnt', 'writer_17_total_movie_cnt', 'writer_180_movie_cnt', 'writer_180_total_movie_cnt', 'writer_181_movie_cnt', 'writer_181_total_movie_cnt', 'writer_182_movie_cnt', 'writer_182_total_movie_cnt', 'writer_183_movie_cnt', 'writer_183_total_movie_cnt', 'writer_184_movie_cnt', 'writer_184_total_movie_cnt', 'writer_185_movie_cnt', 'writer_185_total_movie_cnt', 'writer_186_movie_cnt', 'writer_186_total_movie_cnt', 'writer_187_movie_cnt', 'writer_187_total_movie_cnt', 'writer_188_movie_cnt', 'writer_188_total_movie_cnt', 'writer_189_movie_cnt', 'writer_189_total_movie_cnt', 'writer_18_countKnownTitles', 'writer_18_movie_cnt', 'writer_18_total_movie_cnt', 'writer_190_movie_cnt', 'writer_190_total_movie_cnt', 'writer_191_movie_cnt', 'writer_191_total_movie_cnt', 'writer_192_movie_cnt', 'writer_192_total_movie_cnt', 'writer_193_movie_cnt', 'writer_193_total_movie_cnt', 'writer_194_movie_cnt', 'writer_194_total_movie_cnt', 'writer_195_movie_cnt', 'writer_195_total_movie_cnt', 'writer_196_movie_cnt', 'writer_196_total_movie_cnt', 'writer_197_movie_cnt', 'writer_197_total_movie_cnt', 'writer_198_movie_cnt', 'writer_198_total_movie_cnt', 'writer_199_movie_cnt', 'writer_199_total_movie_cnt', 'writer_19_countKnownTitles', 'writer_19_movie_cnt', 'writer_19_total_movie_cnt', 'writer_1_countKnownTitles', 'writer_1_movie_cnt', 'writer_1_total_movie_cnt', 'writer_200_movie_cnt', 'writer_200_total_movie_cnt', 'writer_201_movie_cnt', 'writer_201_total_movie_cnt', 'writer_202_movie_cnt', 'writer_202_total_movie_cnt', 'writer_203_movie_cnt', 'writer_203_total_movie_cnt', 'writer_204_movie_cnt', 'writer_204_total_movie_cnt', 'writer_205_movie_cnt', 'writer_205_total_movie_cnt', 'writer_206_movie_cnt', 'writer_206_total_movie_cnt', 'writer_207_movie_cnt', 'writer_207_total_movie_cnt', 'writer_208_movie_cnt', 'writer_208_total_movie_cnt', 'writer_209_movie_cnt', 'writer_209_total_movie_cnt', 'writer_20_countKnownTitles', 'writer_20_movie_cnt', 'writer_20_total_movie_cnt', 'writer_210_movie_cnt', 'writer_210_total_movie_cnt', 'writer_211_movie_cnt', 'writer_211_total_movie_cnt', 'writer_212_movie_cnt', 'writer_212_total_movie_cnt', 'writer_213_movie_cnt', 'writer_213_total_movie_cnt', 'writer_214_movie_cnt', 'writer_214_total_movie_cnt', 'writer_215_movie_cnt', 'writer_215_total_movie_cnt', 'writer_216_movie_cnt', 'writer_216_total_movie_cnt', 'writer_217_movie_cnt', 'writer_217_total_movie_cnt', 'writer_218_movie_cnt', 'writer_218_total_movie_cnt', 'writer_219_countKnownTitles', 'writer_219_movie_cnt', 'writer_219_total_movie_cnt', 'writer_21_countKnownTitles', 'writer_21_movie_cnt', 'writer_21_total_movie_cnt', 'writer_220_movie_cnt', 'writer_220_total_movie_cnt', 'writer_221_countKnownTitles', 'writer_221_movie_cnt', 'writer_221_total_movie_cnt', 'writer_222_movie_cnt', 'writer_222_total_movie_cnt', 'writer_223_movie_cnt', 'writer_223_total_movie_cnt', 'writer_224_movie_cnt', 'writer_224_total_movie_cnt', 'writer_225_movie_cnt', 'writer_225_total_movie_cnt', 'writer_226_movie_cnt', 'writer_226_total_movie_cnt', 'writer_227_movie_cnt', 'writer_227_total_movie_cnt', 'writer_228_movie_cnt', 'writer_228_total_movie_cnt', 'writer_229_movie_cnt', 'writer_229_total_movie_cnt', 'writer_22_countKnownTitles', 'writer_22_movie_cnt', 'writer_22_total_movie_cnt', 'writer_230_movie_cnt', 'writer_230_total_movie_cnt', 'writer_231_movie_cnt', 'writer_231_total_movie_cnt', 'writer_232_movie_cnt', 'writer_232_total_movie_cnt', 'writer_233_movie_cnt', 'writer_233_total_movie_cnt', 'writer_234_movie_cnt', 'writer_234_total_movie_cnt', 'writer_235_movie_cnt', 'writer_235_total_movie_cnt', 'writer_236_movie_cnt', 'writer_236_total_movie_cnt', 'writer_237_movie_cnt', 'writer_237_total_movie_cnt', 'writer_238_movie_cnt', 'writer_238_total_movie_cnt', 'writer_239_movie_cnt', 'writer_239_total_movie_cnt', 'writer_23_countKnownTitles', 'writer_23_movie_cnt', 'writer_23_total_movie_cnt', 'writer_240_movie_cnt', 'writer_240_total_movie_cnt', 'writer_241_movie_cnt', 'writer_241_total_movie_cnt', 'writer_242_movie_cnt', 'writer_242_total_movie_cnt', 'writer_243_movie_cnt', 'writer_243_total_movie_cnt', 'writer_244_movie_cnt', 'writer_244_total_movie_cnt', 'writer_245_countKnownTitles', 'writer_245_movie_cnt', 'writer_245_total_movie_cnt', 'writer_246_movie_cnt', 'writer_246_total_movie_cnt', 'writer_247_movie_cnt', 'writer_247_total_movie_cnt', 'writer_248_movie_cnt', 'writer_248_total_movie_cnt', 'writer_249_movie_cnt', 'writer_249_total_movie_cnt', 'writer_24_countKnownTitles', 'writer_24_movie_cnt', 'writer_24_total_movie_cnt', 'writer_250_movie_cnt', 'writer_250_total_movie_cnt', 'writer_251_movie_cnt', 'writer_251_total_movie_cnt', 'writer_252_movie_cnt', 'writer_252_total_movie_cnt', 'writer_253_movie_cnt', 'writer_253_total_movie_cnt', 'writer_254_movie_cnt', 'writer_254_total_movie_cnt', 'writer_255_movie_cnt', 'writer_255_total_movie_cnt', 'writer_256_movie_cnt', 'writer_256_total_movie_cnt', 'writer_257_movie_cnt', 'writer_257_total_movie_cnt', 'writer_258_movie_cnt', 'writer_258_total_movie_cnt', 'writer_259_movie_cnt', 'writer_259_total_movie_cnt', 'writer_25_countKnownTitles', 'writer_25_movie_cnt', 'writer_25_total_movie_cnt', 'writer_260_movie_cnt', 'writer_260_total_movie_cnt', 'writer_261_movie_cnt', 'writer_261_total_movie_cnt', 'writer_262_movie_cnt', 'writer_262_total_movie_cnt', 'writer_263_movie_cnt', 'writer_263_total_movie_cnt', 'writer_264_movie_cnt', 'writer_264_total_movie_cnt', 'writer_265_movie_cnt', 'writer_265_total_movie_cnt', 'writer_266_movie_cnt', 'writer_266_total_movie_cnt', 'writer_267_movie_cnt', 'writer_267_total_movie_cnt', 'writer_268_movie_cnt', 'writer_268_total_movie_cnt', 'writer_269_movie_cnt', 'writer_269_total_movie_cnt', 'writer_26_countKnownTitles', 'writer_26_movie_cnt', 'writer_26_total_movie_cnt', 'writer_270_movie_cnt', 'writer_270_total_movie_cnt', 'writer_271_movie_cnt', 'writer_271_total_movie_cnt', 'writer_272_movie_cnt', 'writer_272_total_movie_cnt', 'writer_273_movie_cnt', 'writer_273_total_movie_cnt', 'writer_274_movie_cnt', 'writer_274_total_movie_cnt', 'writer_275_movie_cnt', 'writer_275_total_movie_cnt', 'writer_276_movie_cnt', 'writer_276_total_movie_cnt', 'writer_277_movie_cnt', 'writer_277_total_movie_cnt', 'writer_278_movie_cnt', 'writer_278_total_movie_cnt', 'writer_279_movie_cnt', 'writer_279_total_movie_cnt', 'writer_27_countKnownTitles', 'writer_27_movie_cnt', 'writer_27_total_movie_cnt', 'writer_280_movie_cnt', 'writer_280_total_movie_cnt', 'writer_281_movie_cnt', 'writer_281_total_movie_cnt', 'writer_282_movie_cnt', 'writer_282_total_movie_cnt', 'writer_283_movie_cnt', 'writer_283_total_movie_cnt', 'writer_284_movie_cnt', 'writer_284_total_movie_cnt', 'writer_285_movie_cnt', 'writer_285_total_movie_cnt', 'writer_286_movie_cnt', 'writer_286_total_movie_cnt', 'writer_287_movie_cnt', 'writer_287_total_movie_cnt', 'writer_288_movie_cnt', 'writer_288_total_movie_cnt', 'writer_289_movie_cnt', 'writer_289_total_movie_cnt', 'writer_28_countKnownTitles', 'writer_28_movie_cnt', 'writer_28_total_movie_cnt', 'writer_290_movie_cnt', 'writer_290_total_movie_cnt', 'writer_291_movie_cnt', 'writer_291_total_movie_cnt', 'writer_292_movie_cnt', 'writer_292_total_movie_cnt', 'writer_293_movie_cnt', 'writer_293_total_movie_cnt', 'writer_294_movie_cnt', 'writer_294_total_movie_cnt', 'writer_295_movie_cnt', 'writer_295_total_movie_cnt', 'writer_296_movie_cnt', 'writer_296_total_movie_cnt', 'writer_297_movie_cnt', 'writer_297_total_movie_cnt', 'writer_298_movie_cnt', 'writer_298_total_movie_cnt', 'writer_299_movie_cnt', 'writer_299_total_movie_cnt', 'writer_29_movie_cnt', 'writer_29_total_movie_cnt', 'writer_2_countKnownTitles', 'writer_2_movie_cnt', 'writer_2_total_movie_cnt', 'writer_300_movie_cnt', 'writer_300_total_movie_cnt', 'writer_301_movie_cnt', 'writer_301_total_movie_cnt', 'writer_302_movie_cnt', 'writer_302_total_movie_cnt', 'writer_303_movie_cnt', 'writer_303_total_movie_cnt', 'writer_304_movie_cnt', 'writer_304_total_movie_cnt', 'writer_305_movie_cnt', 'writer_305_total_movie_cnt', 'writer_306_movie_cnt', 'writer_306_total_movie_cnt', 'writer_307_movie_cnt', 'writer_307_total_movie_cnt', 'writer_308_movie_cnt', 'writer_308_total_movie_cnt', 'writer_309_movie_cnt', 'writer_309_total_movie_cnt', 'writer_30_movie_cnt', 'writer_30_total_movie_cnt', 'writer_310_movie_cnt', 'writer_310_total_movie_cnt', 'writer_311_movie_cnt', 'writer_311_total_movie_cnt', 'writer_312_movie_cnt', 'writer_312_total_movie_cnt', 'writer_313_movie_cnt', 'writer_313_total_movie_cnt', 'writer_314_movie_cnt', 'writer_314_total_movie_cnt', 'writer_315_movie_cnt', 'writer_315_total_movie_cnt', 'writer_316_movie_cnt', 'writer_316_total_movie_cnt', 'writer_317_movie_cnt', 'writer_317_total_movie_cnt', 'writer_318_movie_cnt', 'writer_318_total_movie_cnt', 'writer_319_movie_cnt', 'writer_319_total_movie_cnt', 'writer_31_movie_cnt', 'writer_31_total_movie_cnt', 'writer_320_movie_cnt', 'writer_320_total_movie_cnt', 'writer_321_movie_cnt', 'writer_321_total_movie_cnt', 'writer_322_movie_cnt', 'writer_322_total_movie_cnt', 'writer_323_movie_cnt', 'writer_323_total_movie_cnt', 'writer_324_movie_cnt', 'writer_324_total_movie_cnt', 'writer_325_movie_cnt', 'writer_325_total_movie_cnt', 'writer_326_movie_cnt', 'writer_326_total_movie_cnt', 'writer_327_movie_cnt', 'writer_327_total_movie_cnt', 'writer_328_movie_cnt', 'writer_328_total_movie_cnt', 'writer_329_movie_cnt', 'writer_329_total_movie_cnt', 'writer_32_movie_cnt', 'writer_32_total_movie_cnt', 'writer_330_movie_cnt', 'writer_330_total_movie_cnt', 'writer_331_movie_cnt', 'writer_331_total_movie_cnt', 'writer_332_movie_cnt', 'writer_332_total_movie_cnt', 'writer_333_movie_cnt', 'writer_333_total_movie_cnt', 'writer_334_movie_cnt', 'writer_334_total_movie_cnt', 'writer_335_movie_cnt', 'writer_335_total_movie_cnt', 'writer_336_movie_cnt', 'writer_336_total_movie_cnt', 'writer_337_movie_cnt', 'writer_337_total_movie_cnt', 'writer_338_movie_cnt', 'writer_338_total_movie_cnt', 'writer_339_movie_cnt', 'writer_339_total_movie_cnt', 'writer_33_movie_cnt', 'writer_33_total_movie_cnt', 'writer_340_movie_cnt', 'writer_340_total_movie_cnt', 'writer_341_movie_cnt', 'writer_341_total_movie_cnt', 'writer_342_movie_cnt', 'writer_342_total_movie_cnt', 'writer_343_movie_cnt', 'writer_343_total_movie_cnt', 'writer_344_movie_cnt', 'writer_344_total_movie_cnt', 'writer_345_movie_cnt', 'writer_345_total_movie_cnt', 'writer_346_movie_cnt', 'writer_346_total_movie_cnt', 'writer_347_movie_cnt', 'writer_347_total_movie_cnt', 'writer_348_movie_cnt', 'writer_348_total_movie_cnt', 'writer_349_movie_cnt', 'writer_349_total_movie_cnt', 'writer_34_movie_cnt', 'writer_34_total_movie_cnt', 'writer_350_movie_cnt', 'writer_350_total_movie_cnt', 'writer_351_movie_cnt', 'writer_351_total_movie_cnt', 'writer_352_movie_cnt', 'writer_352_total_movie_cnt', 'writer_353_movie_cnt', 'writer_353_total_movie_cnt', 'writer_354_movie_cnt', 'writer_354_total_movie_cnt', 'writer_355_movie_cnt', 'writer_355_total_movie_cnt', 'writer_356_movie_cnt', 'writer_356_total_movie_cnt', 'writer_357_movie_cnt', 'writer_357_total_movie_cnt', 'writer_358_movie_cnt', 'writer_358_total_movie_cnt', 'writer_359_movie_cnt', 'writer_359_total_movie_cnt', 'writer_35_movie_cnt', 'writer_35_total_movie_cnt', 'writer_360_movie_cnt', 'writer_360_total_movie_cnt', 'writer_361_movie_cnt', 'writer_361_total_movie_cnt', 'writer_362_movie_cnt', 'writer_362_total_movie_cnt', 'writer_363_movie_cnt', 'writer_363_total_movie_cnt', 'writer_364_movie_cnt', 'writer_364_total_movie_cnt', 'writer_365_movie_cnt', 'writer_365_total_movie_cnt', 'writer_366_movie_cnt', 'writer_366_total_movie_cnt', 'writer_367_movie_cnt', 'writer_367_total_movie_cnt', 'writer_368_movie_cnt', 'writer_368_total_movie_cnt', 'writer_369_movie_cnt', 'writer_369_total_movie_cnt', 'writer_36_countKnownTitles', 'writer_36_movie_cnt', 'writer_36_total_movie_cnt', 'writer_370_movie_cnt', 'writer_370_total_movie_cnt', 'writer_371_movie_cnt', 'writer_371_total_movie_cnt', 'writer_372_movie_cnt', 'writer_372_total_movie_cnt', 'writer_373_movie_cnt', 'writer_373_total_movie_cnt', 'writer_374_movie_cnt', 'writer_374_total_movie_cnt', 'writer_375_movie_cnt', 'writer_375_total_movie_cnt', 'writer_376_movie_cnt', 'writer_376_total_movie_cnt', 'writer_377_movie_cnt', 'writer_377_total_movie_cnt', 'writer_378_movie_cnt', 'writer_378_total_movie_cnt', 'writer_379_movie_cnt', 'writer_379_total_movie_cnt', 'writer_37_movie_cnt', 'writer_37_total_movie_cnt', 'writer_380_movie_cnt', 'writer_380_total_movie_cnt', 'writer_381_movie_cnt', 'writer_381_total_movie_cnt', 'writer_382_movie_cnt', 'writer_382_total_movie_cnt', 'writer_383_movie_cnt', 'writer_383_total_movie_cnt', 'writer_384_movie_cnt', 'writer_384_total_movie_cnt', 'writer_385_movie_cnt', 'writer_385_total_movie_cnt', 'writer_386_movie_cnt', 'writer_386_total_movie_cnt', 'writer_387_movie_cnt', 'writer_387_total_movie_cnt', 'writer_388_movie_cnt', 'writer_388_total_movie_cnt', 'writer_389_movie_cnt', 'writer_389_total_movie_cnt', 'writer_38_movie_cnt', 'writer_38_total_movie_cnt', 'writer_390_movie_cnt', 'writer_390_total_movie_cnt', 'writer_391_movie_cnt', 'writer_391_total_movie_cnt', 'writer_392_movie_cnt', 'writer_392_total_movie_cnt', 'writer_393_movie_cnt', 'writer_393_total_movie_cnt', 'writer_394_movie_cnt', 'writer_394_total_movie_cnt', 'writer_395_movie_cnt', 'writer_395_total_movie_cnt', 'writer_39_countKnownTitles', 'writer_39_movie_cnt', 'writer_39_total_movie_cnt', 'writer_3_countKnownTitles', 'writer_3_movie_cnt', 'writer_3_total_movie_cnt', 'writer_40_movie_cnt', 'writer_40_total_movie_cnt', 'writer_41_movie_cnt', 'writer_41_total_movie_cnt', 'writer_42_movie_cnt', 'writer_42_total_movie_cnt', 'writer_43_movie_cnt', 'writer_43_total_movie_cnt', 'writer_44_movie_cnt', 'writer_44_total_movie_cnt', 'writer_45_movie_cnt', 'writer_45_total_movie_cnt', 'writer_46_movie_cnt', 'writer_46_total_movie_cnt', 'writer_47_countKnownTitles', 'writer_47_movie_cnt', 'writer_47_total_movie_cnt', 'writer_48_movie_cnt', 'writer_48_total_movie_cnt', 'writer_49_movie_cnt', 'writer_49_total_movie_cnt', 'writer_4_countKnownTitles', 'writer_4_movie_cnt', 'writer_4_total_movie_cnt', 'writer_50_movie_cnt', 'writer_50_total_movie_cnt', 'writer_51_movie_cnt', 'writer_51_total_movie_cnt', 'writer_52_movie_cnt', 'writer_52_total_movie_cnt', 'writer_53_movie_cnt', 'writer_53_total_movie_cnt', 'writer_54_movie_cnt', 'writer_54_total_movie_cnt', 'writer_55_countKnownTitles', 'writer_55_movie_cnt', 'writer_55_total_movie_cnt', 'writer_56_countKnownTitles', 'writer_56_movie_cnt', 'writer_56_total_movie_cnt', 'writer_57_countKnownTitles', 'writer_57_movie_cnt', 'writer_57_total_movie_cnt', 'writer_58_movie_cnt', 'writer_58_total_movie_cnt', 'writer_59_movie_cnt', 'writer_59_total_movie_cnt', 'writer_5_countKnownTitles', 'writer_5_movie_cnt', 'writer_5_total_movie_cnt', 'writer_60_countKnownTitles', 'writer_60_movie_cnt', 'writer_60_total_movie_cnt', 'writer_61_movie_cnt', 'writer_61_total_movie_cnt', 'writer_62_movie_cnt', 'writer_62_total_movie_cnt', 'writer_63_movie_cnt', 'writer_63_total_movie_cnt', 'writer_64_countKnownTitles', 'writer_64_movie_cnt', 'writer_64_total_movie_cnt', 'writer_65_movie_cnt', 'writer_65_total_movie_cnt', 'writer_66_movie_cnt', 'writer_66_total_movie_cnt', 'writer_67_movie_cnt', 'writer_67_total_movie_cnt', 'writer_68_movie_cnt', 'writer_68_total_movie_cnt', 'writer_69_movie_cnt', 'writer_69_total_movie_cnt', 'writer_6_countKnownTitles', 'writer_6_movie_cnt', 'writer_6_total_movie_cnt', 'writer_70_movie_cnt', 'writer_70_total_movie_cnt', 'writer_71_movie_cnt', 'writer_71_total_movie_cnt', 'writer_72_movie_cnt', 'writer_72_total_movie_cnt', 'writer_73_movie_cnt', 'writer_73_total_movie_cnt', 'writer_74_movie_cnt', 'writer_74_total_movie_cnt', 'writer_75_movie_cnt', 'writer_75_total_movie_cnt', 'writer_76_movie_cnt', 'writer_76_total_movie_cnt', 'writer_77_movie_cnt', 'writer_77_total_movie_cnt', 'writer_78_movie_cnt', 'writer_78_total_movie_cnt', 'writer_79_movie_cnt', 'writer_79_total_movie_cnt', 'writer_7_countKnownTitles', 'writer_7_movie_cnt', 'writer_7_total_movie_cnt', 'writer_80_movie_cnt', 'writer_80_total_movie_cnt', 'writer_81_movie_cnt', 'writer_81_total_movie_cnt', 'writer_82_countKnownTitles', 'writer_82_movie_cnt', 'writer_82_total_movie_cnt', 'writer_83_movie_cnt', 'writer_83_total_movie_cnt', 'writer_84_movie_cnt', 'writer_84_total_movie_cnt', 'writer_85_movie_cnt', 'writer_85_total_movie_cnt', 'writer_86_movie_cnt', 'writer_86_total_movie_cnt', 'writer_87_movie_cnt', 'writer_87_total_movie_cnt', 'writer_88_movie_cnt', 'writer_88_total_movie_cnt', 'writer_89_movie_cnt', 'writer_89_total_movie_cnt', 'writer_8_countKnownTitles', 'writer_8_movie_cnt', 'writer_8_total_movie_cnt', 'writer_90_movie_cnt', 'writer_90_total_movie_cnt', 'writer_91_movie_cnt', 'writer_91_total_movie_cnt', 'writer_92_movie_cnt', 'writer_92_total_movie_cnt', 'writer_93_movie_cnt', 'writer_93_total_movie_cnt', 'writer_94_countKnownTitles', 'writer_94_movie_cnt', 'writer_94_total_movie_cnt', 'writer_95_movie_cnt', 'writer_95_total_movie_cnt', 'writer_96_movie_cnt', 'writer_96_total_movie_cnt', 'writer_97_movie_cnt', 'writer_97_total_movie_cnt', 'writer_98_movie_cnt', 'writer_98_total_movie_cnt', 'writer_99_movie_cnt', 'writer_99_total_movie_cnt', 'writer_9_countKnownTitles', 'writer_9_movie_cnt', 'writer_9_total_movie_cnt']\n",
      "1696\n"
     ]
    }
   ],
   "source": [
    "'''\n",
    "data: pandas dataframe containing the training examples\n",
    "returns the sparse feature matrix X and a list of feature names, ordered by their indices\n",
    "'''\n",
    "\n",
    "\n",
    "def transform_to_features(data, principal_movie_cat_count_map, titleType_runtime_minutes_median_map, count_movie_version_median):\n",
    "    data_new = []\n",
    "    include_principle_id_feature=False\n",
    "    for index, row in data.iterrows():\n",
    "        row_data = {}\n",
    "        titleType_value = row['titleType']\n",
    "        titleType = 'titleType={0}'.format(titleType_value)\n",
    "        row_data[titleType] = 1\n",
    "        row_data['isAdult'] = row['isAdult']\n",
    "\n",
    "        runtimeMinutes = row['runtimeMinutes']\n",
    "        if runtimeMinutes == -1:\n",
    "            if titleType_value in titleType_runtime_minutes_median_map:\n",
    "                runtimeMinutes = titleType_runtime_minutes_median_map[titleType_value]\n",
    "        row_data['runtimeMinutes'] = runtimeMinutes\n",
    "\n",
    "        # skip genres with values of \\N\n",
    "        if row['genres'] != \"\\\\N\":\n",
    "            genres = row['genres'].split(\",\")\n",
    "            for genre_val in genres:\n",
    "                genre = 'genres={0}'.format(genre_val)\n",
    "                row_data[genre] = 1\n",
    "\n",
    "        count_movie_versions = row['count_movie_versions']\n",
    "        if count_movie_versions == -1:\n",
    "            count_movie_versions = count_movie_version_median\n",
    "\n",
    "        row_data['count_movie_versions'] = count_movie_versions\n",
    "        row_data['principal_cast_count'] = row['principal_cast_count']\n",
    "\n",
    "        directors_list = []\n",
    "        if row['directors'] != \"\\\\N\":\n",
    "            directors = row['directors'].split(\",\")\n",
    "            for i in range(len(directors)):\n",
    "                director_val = directors[i]\n",
    "                directors_list.append(director_val)\n",
    "\n",
    "                director = 'director={0}'.format(director_val)\n",
    "                if include_principle_id_feature:\n",
    "                    row_data[director] = 1\n",
    "\n",
    "                # now also add the counts for director_1, director_2 fields\n",
    "                director_movie_count = 1\n",
    "                total_movie_count = 1\n",
    "                if director_val in principal_movie_cat_count_map:\n",
    "                    if 'director' in principal_movie_cat_count_map[director_val]:\n",
    "                        director_movie_count = principal_movie_cat_count_map[director_val]['director']\n",
    "                    total_movie_count = principal_movie_cat_count_map[director_val]['total']\n",
    "                director_movie_count_field = \"director_{0}_movie_cnt\".format(i + 1)\n",
    "                row_data[director_movie_count_field] = director_movie_count\n",
    "                # count of movies this director is involved in (not necessarily in a role of a director)\n",
    "                director_tot_movie_count_field = \"director_{0}_total_movie_cnt\".format(i + 1)\n",
    "                row_data[director_tot_movie_count_field] = total_movie_count\n",
    "\n",
    "        writers_list = []\n",
    "        if row['writers'] != \"\\\\N\":\n",
    "            writers = row['writers'].split(\",\")\n",
    "            for i in range(len(writers)):\n",
    "                writer_val = writers[i]\n",
    "                writers_list.append(writer_val)\n",
    "\n",
    "                writer = 'writer={0}'.format(writer_val)\n",
    "                if include_principle_id_feature:\n",
    "                    row_data[writer] = 1\n",
    "\n",
    "                # now also add the counts for writer_1, writer_2 fields\n",
    "                writer_movie_count = 1\n",
    "                total_movie_count = 1\n",
    "                if writer_val in principal_movie_cat_count_map:\n",
    "                    if 'writer' in principal_movie_cat_count_map[writer_val]:\n",
    "                        writer_movie_count = principal_movie_cat_count_map[writer_val]['writer']\n",
    "                    total_movie_count = principal_movie_cat_count_map[writer_val]['total']\n",
    "                writer_movie_count_field = \"writer_{0}_movie_cnt\".format(i + 1)\n",
    "                row_data[writer_movie_count_field] = writer_movie_count\n",
    "                # count of movies this writer is involved in (not necessarily in a role of a writer)\n",
    "                writer_tot_movie_count_field = \"writer_{0}_total_movie_cnt\".format(i + 1)\n",
    "                row_data[writer_tot_movie_count_field] = total_movie_count\n",
    "        directors_dict = {director: index for index, director in enumerate(directors_list)}\n",
    "        writers_dict = {writer: index for index, writer in enumerate(writers_list)}\n",
    "\n",
    "        # now get the counts of principle actors\n",
    "        nconst_category_countOfKnownTitles = row['nconst_category_countOfKnownTitles'].strip()\n",
    "        nconst_category_countOfKnownTitles = nconst_category_countOfKnownTitles.split(\" \")\n",
    "        cat_count_map = {}\n",
    "        for record in nconst_category_countOfKnownTitles:\n",
    "            fields = record.split(\"|\")\n",
    "            principal_id = fields[0]\n",
    "            category = fields[1]\n",
    "            countOfKnownTitles = int(fields[2])\n",
    "\n",
    "            # treat actor and actress category equally\n",
    "            if category in ['actor', 'actress']:\n",
    "                category = 'actor'\n",
    "\n",
    "            # number of movie titles the person/principle is known for\n",
    "            # knownTitles = \"{0}_countKnownTitles\".format(principal_id)\n",
    "            # row_data[knownTitles]=countOfKnownTitles\n",
    "\n",
    "            # check if it is already accounted for earlier\n",
    "            if category == 'director' and principal_id in directors_dict:\n",
    "                # number of movie titles the person/principle is known for\n",
    "                knownTitles = \"{0}_{1}_countKnownTitles\".format(category, directors_dict[principal_id] + 1)\n",
    "                row_data[knownTitles] = countOfKnownTitles\n",
    "                continue\n",
    "\n",
    "            if category == 'writer' and principal_id in writers_dict:\n",
    "                knownTitles = \"{0}_{1}_countKnownTitles\".format(category, writers_dict[principal_id] + 1)\n",
    "                row_data[knownTitles] = countOfKnownTitles\n",
    "                continue\n",
    "\n",
    "            principal = \"{0}={1}\".format(category, principal_id)\n",
    "            if include_principle_id_feature:\n",
    "                row_data[principal] = 1\n",
    "\n",
    "            # set the count for the director and writer categories to the length of their dictionaries\n",
    "            if len(directors_dict) > 0:\n",
    "                cat_count_map['director'] = len(directors_dict)\n",
    "\n",
    "            if len(writers_dict) > 0:\n",
    "                cat_count_map['writer'] = len(writers_dict)\n",
    "\n",
    "            # there can be multiple actors, directors etc.\n",
    "            # so, we enoode their positional information\n",
    "            # positional information can capture that actor appearing before anoter actor is more important\n",
    "            # by giving more weights if principle cast names are mentioned in order of leading actors\n",
    "            if category not in cat_count_map:\n",
    "                cat_count_map[category] = 0\n",
    "            cat_count_map[category] = cat_count_map[category] + 1\n",
    "            priniciple_cat_movie_count = 1\n",
    "            principle_total_movie_count = 1\n",
    "            if principal_id in principal_movie_cat_count_map:\n",
    "                if category in principal_movie_cat_count_map[principal_id]:\n",
    "                    priniciple_cat_movie_count = principal_movie_cat_count_map[principal_id][category]\n",
    "                principle_total_movie_count = principal_movie_cat_count_map[principal_id]['total']\n",
    "            principle_movie_count_field = \"{0}_{1}_movie_cnt\".format(category, cat_count_map[category])\n",
    "            row_data[principle_movie_count_field] = priniciple_cat_movie_count\n",
    "            # count of movies this writer is involved in (not necessarily in a role of a writer)\n",
    "            principle_tot_movie_count_field = \"{0}_{1}_total_movie_cnt\".format(category, cat_count_map[category])\n",
    "            row_data[principle_tot_movie_count_field] = principle_total_movie_count\n",
    "\n",
    "            knownTitles = \"{0}_{1}_countKnownTitles\".format(category, cat_count_map[category])\n",
    "            row_data[knownTitles] = countOfKnownTitles\n",
    "\n",
    "        data_new.append(row_data)\n",
    "\n",
    "    v = DictVectorizer(sparse=True)\n",
    "    X = v.fit_transform(data_new)\n",
    "    return X, v.get_feature_names()\n",
    "\n",
    "train_X, feature_list = transform_to_features(df_train_X, principal_movie_cat_count_map,titleType_runtime_minutes_median_map,count_movie_version_median)\n",
    "\n",
    "\n",
    "print(feature_list)\n",
    "print(len(feature_list))"
   ]
  },
  {
   "cell_type": "code",
   "execution_count": 8,
   "metadata": {
    "collapsed": false
   },
   "outputs": [],
   "source": [
    "import pickle\n",
    "\n",
    "# create feature_map, which we will used to genearate features for validation and test dataset\n",
    "feature_maps = {feature: index for index, feature in enumerate(feature_list)}\n",
    "\n",
    "#save feature_map for future \n",
    "map_filename = 'imdb_rating_feature_map.pkl'\n",
    "map_filename_output = open(map_filename, 'wb')\n",
    "pickle.dump(feature_maps, map_filename_output)"
   ]
  },
  {
   "cell_type": "code",
   "execution_count": 9,
   "metadata": {
    "collapsed": false
   },
   "outputs": [
    {
     "name": "stdout",
     "output_type": "stream",
     "text": [
      "nrows=20000,ncols=1696\n",
      "nrows=20000,ncols=1696\n"
     ]
    }
   ],
   "source": [
    "def transform_to_features_for_prediction(df, feature_maps,  principal_movie_cat_count_map, titleType_runtime_minutes_median_map, count_movie_version_median):\n",
    "    nrows = len(df)\n",
    "    ncols = len(feature_maps)\n",
    "    print(\"nrows={0},ncols={1}\".format(nrows,ncols))\n",
    "    row_ind = []\n",
    "    col_ind = []\n",
    "    data = []\n",
    "    row_index = 0\n",
    "    row_index = row_index + 0\n",
    "    include_principle_id_feature = False\n",
    "\n",
    "    for _, row in df.iterrows():\n",
    "        # print(row_index)\n",
    "        titleType_value = row['titleType']\n",
    "        titleType = 'titleType={0}'.format(titleType_value)\n",
    "\n",
    "        if titleType in feature_maps:\n",
    "            col_index = feature_maps[titleType]\n",
    "            row_ind.append(row_index)\n",
    "            col_ind.append(col_index)\n",
    "            data.append(1)\n",
    "\n",
    "        # row_data['isAdult']=row['isAdult']\n",
    "        isAdult = row['isAdult']\n",
    "        if isAdult == 1 and 'isAdult' in feature_maps:\n",
    "            # if 'isAdult' in feature_maps:\n",
    "            col_index = feature_maps['isAdult']\n",
    "            row_ind.append(row_index)\n",
    "            col_ind.append(col_index)\n",
    "            data.append(row['isAdult'])\n",
    "\n",
    "        runtimeMinutes = row['runtimeMinutes']\n",
    "        if runtimeMinutes == -1:\n",
    "            if titleType_value in titleType_runtime_minutes_median_map:\n",
    "                runtimeMinutes = titleType_runtime_minutes_median_map[titleType_value]\n",
    "        # row_data['runtimeMinutes'] = runtimeMinutes\n",
    "        if 'runtimeMinutes' in feature_maps:\n",
    "            col_index = feature_maps['runtimeMinutes']\n",
    "            row_ind.append(row_index)\n",
    "            col_ind.append(col_index)\n",
    "            data.append(runtimeMinutes)\n",
    "\n",
    "        # skip genres with values of \\N\n",
    "        if row['genres'] != \"\\\\N\":\n",
    "            genres = row['genres'].split(\",\")\n",
    "            for genre_val in genres:\n",
    "                genre = 'genres={0}'.format(genre_val)\n",
    "                # row_data[genre]=1\n",
    "                if genre in feature_maps:\n",
    "                    col_index = feature_maps[genre]\n",
    "                    row_ind.append(row_index)\n",
    "                    col_ind.append(col_index)\n",
    "                    data.append(1)\n",
    "\n",
    "        count_movie_versions = row['count_movie_versions']\n",
    "        if count_movie_versions == -1:\n",
    "            count_movie_versions = count_movie_version_median\n",
    "\n",
    "        # row_data['count_movie_versions'] = count_movie_versions\n",
    "        if 'count_movie_versions' in feature_maps:\n",
    "            col_index = feature_maps['count_movie_versions']\n",
    "            row_ind.append(row_index)\n",
    "            col_ind.append(col_index)\n",
    "            data.append(count_movie_versions)\n",
    "\n",
    "        # row_data['principal_cast_count'] = row['principal_cast_count']\n",
    "        if 'principal_cast_count' in feature_maps:\n",
    "            col_index = feature_maps['principal_cast_count']\n",
    "            row_ind.append(row_index)\n",
    "            col_ind.append(col_index)\n",
    "            data.append(row['principal_cast_count'])\n",
    "\n",
    "        directors_list = []\n",
    "        if row['directors'] != \"\\\\N\":\n",
    "            directors = row['directors'].split(\",\")\n",
    "            for i in range(len(directors)):\n",
    "                director_val = directors[i]\n",
    "                directors_list.append(director_val)\n",
    "                director = 'director={0}'.format(director_val)\n",
    "                # row_data[director]=1\n",
    "                if include_principle_id_feature:\n",
    "                    if director in feature_maps:\n",
    "                        col_index = feature_maps[director]\n",
    "                        row_ind.append(row_index)\n",
    "                        col_ind.append(col_index)\n",
    "                        data.append(1)\n",
    "                # now also add the counts for director_1, director_2 fields\n",
    "                director_movie_count = 1\n",
    "                total_movie_count = 1\n",
    "                if director_val in principal_movie_cat_count_map:\n",
    "                    if 'director' in principal_movie_cat_count_map[director_val]:\n",
    "                        director_movie_count = principal_movie_cat_count_map[director_val]['director']\n",
    "                    total_movie_count = principal_movie_cat_count_map[director_val]['total']\n",
    "                director_movie_count_field = \"director_{0}_movie_cnt\".format(i + 1)\n",
    "                # row_data[director_movie_count_field] = director_movie_count\n",
    "                if director_movie_count_field in feature_maps:\n",
    "                    col_index = feature_maps[director_movie_count_field]\n",
    "                    row_ind.append(row_index)\n",
    "                    col_ind.append(col_index)\n",
    "                    data.append(director_movie_count)\n",
    "\n",
    "                # count of movies this director is involved in (not necessarily in a role of a director)\n",
    "                director_tot_movie_count_field = \"director_{0}_total_movie_cnt\".format(i + 1)\n",
    "                # row_data[director_tot_movie_count_field] = total_movie_count\n",
    "                if director_tot_movie_count_field in feature_maps:\n",
    "                    col_index = feature_maps[director_tot_movie_count_field]\n",
    "                    row_ind.append(row_index)\n",
    "                    col_ind.append(col_index)\n",
    "                    data.append(total_movie_count)\n",
    "\n",
    "        writers_list = []\n",
    "        if row['writers'] != \"\\\\N\":\n",
    "            writers = row['writers'].split(\",\")\n",
    "            for i in range(len(writers)):\n",
    "                writer_val = writers[i]\n",
    "                writers_list.append(writer_val)\n",
    "                writer = 'writer={0}'.format(writer_val)\n",
    "                # row_data[writer]=1\n",
    "                if include_principle_id_feature:\n",
    "                    if writer in feature_maps:\n",
    "                        col_index = feature_maps[writer]\n",
    "                        row_ind.append(row_index)\n",
    "                        col_ind.append(col_index)\n",
    "                        data.append(1)\n",
    "\n",
    "                # now also add the counts for writer_1, writer_2 fields\n",
    "                writer_movie_count = 1\n",
    "                total_movie_count = 1\n",
    "                if writer_val in principal_movie_cat_count_map:\n",
    "                    if 'writer' in principal_movie_cat_count_map[writer_val]:\n",
    "                        writer_movie_count = principal_movie_cat_count_map[writer_val]['writer']\n",
    "                    total_movie_count = principal_movie_cat_count_map[writer_val]['total']\n",
    "                writer_movie_count_field = \"writer_{0}_movie_cnt\".format(i + 1)\n",
    "                # row_data[writer_movie_count_field] = writer_movie_count\n",
    "                if writer_movie_count_field in feature_maps:\n",
    "                    col_index = feature_maps[writer_movie_count_field]\n",
    "                    row_ind.append(row_index)\n",
    "                    col_ind.append(col_index)\n",
    "                    data.append(writer_movie_count)\n",
    "\n",
    "                # count of movies this writer is involved in (not necessarily in a role of a writer)\n",
    "                writer_tot_movie_count_field = \"writer_{0}_total_movie_cnt\".format(i + 1)\n",
    "                # row_data[writer_tot_movie_count_field] = total_movie_count\n",
    "                if writer_tot_movie_count_field in feature_maps:\n",
    "                    col_index = feature_maps[writer_tot_movie_count_field]\n",
    "                    row_ind.append(row_index)\n",
    "                    col_ind.append(col_index)\n",
    "                    data.append(total_movie_count)\n",
    "\n",
    "        directors_dict = {director: index for index, director in enumerate(directors_list)}\n",
    "        writers_dict = {writer: index for index, writer in enumerate(writers_list)}\n",
    "\n",
    "        # now get the counts of principle actors\n",
    "        nconst_category_countOfKnownTitles = row['nconst_category_countOfKnownTitles'].strip()\n",
    "        nconst_category_countOfKnownTitles = nconst_category_countOfKnownTitles.split(\" \")\n",
    "        cat_count_map = {}\n",
    "        for record in nconst_category_countOfKnownTitles:\n",
    "            fields = record.split(\"|\")\n",
    "            principal_id = fields[0]\n",
    "            category = fields[1]\n",
    "            countOfKnownTitles = int(fields[2])\n",
    "\n",
    "            # treat actor and actress category equally\n",
    "            if category in ['actor', 'actress']:\n",
    "                category = 'actor'\n",
    "\n",
    "            # check if it is already accounted for earlier\n",
    "            if category == 'director' and principal_id in directors_dict:\n",
    "                # number of movie titles the person/principle is known for\n",
    "                knownTitles = \"{0}_{1}_countKnownTitles\".format(category, directors_dict[principal_id] + 1)\n",
    "                # row_data[knownTitles]=countOfKnownTitles\n",
    "                if knownTitles in feature_maps:\n",
    "                    col_index = feature_maps[knownTitles]\n",
    "                    row_ind.append(row_index)\n",
    "                    col_ind.append(col_index)\n",
    "                    data.append(countOfKnownTitles)\n",
    "                continue\n",
    "\n",
    "            if category == 'writer' and principal_id in writers_dict:\n",
    "                knownTitles = \"{0}_{1}_countKnownTitles\".format(category, writers_dict[principal_id] + 1)\n",
    "                # row_data[knownTitles]=countOfKnownTitles\n",
    "                if knownTitles in feature_maps:\n",
    "                    col_index = feature_maps[knownTitles]\n",
    "                    row_ind.append(row_index)\n",
    "                    col_ind.append(col_index)\n",
    "                    data.append(countOfKnownTitles)\n",
    "                continue\n",
    "\n",
    "            principal = \"{0}={1}\".format(category, principal_id)\n",
    "            # row_data[principal]=1\n",
    "            if include_principle_id_feature:\n",
    "                if principal in feature_maps:\n",
    "                    col_index = feature_maps[principal]\n",
    "                    row_ind.append(row_index)\n",
    "                    col_ind.append(col_index)\n",
    "                    data.append(1)\n",
    "\n",
    "            # set the count for the director and writer categories to the length of their dictionaries\n",
    "            if len(directors_dict) > 0:\n",
    "                cat_count_map['director'] = len(directors_dict)\n",
    "\n",
    "            if len(writers_dict) > 0:\n",
    "                cat_count_map['writer'] = len(writers_dict)\n",
    "\n",
    "            # there can be multiple actors, directors etc.\n",
    "            # so, we enoode their positional information\n",
    "            # positional information can capture that actor appearing before anoter actor is more important\n",
    "            # by giving more weights if principle cast names are mentioned in order of leading actors\n",
    "            if category not in cat_count_map:\n",
    "                cat_count_map[category] = 0\n",
    "            cat_count_map[category] = cat_count_map[category] + 1\n",
    "            priniciple_cat_movie_count = 1\n",
    "            principle_total_movie_count = 1\n",
    "            if principal_id in principal_movie_cat_count_map:\n",
    "                if category in principal_movie_cat_count_map[principal_id]:\n",
    "                    priniciple_cat_movie_count = principal_movie_cat_count_map[principal_id][category]\n",
    "                principle_total_movie_count = principal_movie_cat_count_map[principal_id]['total']\n",
    "            principle_movie_count_field = \"{0}_{1}_movie_cnt\".format(category, cat_count_map[category])\n",
    "\n",
    "            # row_data[principle_movie_count_field] = priniciple_cat_movie_count\n",
    "            if principle_movie_count_field in feature_maps:\n",
    "                col_index = feature_maps[principle_movie_count_field]\n",
    "                row_ind.append(row_index)\n",
    "                col_ind.append(col_index)\n",
    "                data.append(priniciple_cat_movie_count)\n",
    "\n",
    "            # count of movies this writer is involved in (not necessarily in a role of a writer)\n",
    "            principle_tot_movie_count_field = \"{0}_{1}_total_movie_cnt\".format(category, cat_count_map[category])\n",
    "            # row_data[principle_tot_movie_count_field] = principle_total_movie_count\n",
    "            if principle_tot_movie_count_field in feature_maps:\n",
    "                col_index = feature_maps[principle_tot_movie_count_field]\n",
    "                row_ind.append(row_index)\n",
    "                col_ind.append(col_index)\n",
    "                data.append(principle_total_movie_count)\n",
    "\n",
    "            knownTitles = \"{0}_{1}_countKnownTitles\".format(category, cat_count_map[category])\n",
    "            # row_data[knownTitles]=countOfKnownTitles\n",
    "            if knownTitles in feature_maps:\n",
    "                col_index = feature_maps[knownTitles]\n",
    "                row_ind.append(row_index)\n",
    "                col_ind.append(col_index)\n",
    "                data.append(countOfKnownTitles)\n",
    "        row_index = row_index + 1\n",
    "    # create coordinate sparse matrix\n",
    "    return coo_matrix((data, (row_ind, col_ind)), shape=[nrows, ncols])\n",
    "\n",
    "# transform validation and test to feature matrices\n",
    "validation_X = transform_to_features_for_prediction(df_validation_X, feature_maps, principal_movie_cat_count_map,titleType_runtime_minutes_median_map,count_movie_version_median)\n",
    "#print(validation_X.toarray())\n",
    "\n",
    "test_X = transform_to_features_for_prediction(df_test_X, feature_maps, principal_movie_cat_count_map, titleType_runtime_minutes_median_map, count_movie_version_median)\n"
   ]
  },
  {
   "cell_type": "markdown",
   "metadata": {},
   "source": [
    "### 2.2.4 Model Selection\n",
    "1. We will use Linear SVR(LinearSVR) for movie rating prediction task. SVR model is suited for handling sparse features and it also scales up well with the increasing number of training examples.\n",
    "2. We perform gridsearch to select the SVR model with the best parameter estimates. \n",
    "3. We use validation dataset for selecting the best hyper-parameter settings for the SVR model\n",
    "4. We use squared mean error or correlation as the performance metric\n",
    "5. We use the best SVR model to make prediction on the test dataset\n"
   ]
  },
  {
   "cell_type": "code",
   "execution_count": 10,
   "metadata": {
    "collapsed": true
   },
   "outputs": [],
   "source": [
    "from sklearn.svm import LinearSVR\n",
    "from sklearn.metrics import mean_squared_error"
   ]
  },
  {
   "cell_type": "code",
   "execution_count": 11,
   "metadata": {
    "collapsed": false
   },
   "outputs": [
    {
     "name": "stdout",
     "output_type": "stream",
     "text": [
      "Training mse=2.019782280628298, correlation=0.31786078191089473\n",
      "Validation mse:2.689218961759789, cs =0.22845930038451676 for SVR(C=0.01,loss=epsilon_insensitive)\n",
      "Training mse=2.2287796092608545, correlation=0.3121790217477767\n",
      "Validation mse:4.09545147587653, cs =0.19142012841779787 for SVR(C=0.05,loss=epsilon_insensitive)\n",
      "Training mse=10.228238426814773, correlation=0.09383389835400799\n",
      "Validation mse:12.940912667247488, cs =0.08081779070058076 for SVR(C=0.1,loss=epsilon_insensitive)\n",
      "Training mse=9.631089059677935, correlation=0.15542811235570836\n",
      "Validation mse:13.447890779175335, cs =0.11963965606602885 for SVR(C=0.5,loss=epsilon_insensitive)\n",
      "Training mse=34.40624621609693, correlation=0.09559492137839219\n",
      "Validation mse:37.347010458047045, cs =0.08541313436611066 for SVR(C=1,loss=epsilon_insensitive)\n",
      "Training mse=21.289164036257997, correlation=0.03814954003528496\n",
      "Validation mse:23.77820258646899, cs =0.04329141215560482 for SVR(C=10,loss=epsilon_insensitive)\n",
      "Training mse=94.35461177555116, correlation=0.032274541690920935\n",
      "Validation mse:93.19107096552968, cs =0.03366664667979315 for SVR(C=50,loss=epsilon_insensitive)\n",
      "Training mse=82.88776062093523, correlation=0.12170992701076251\n",
      "Validation mse:80.16634840012718, cs =0.10694683632546506 for SVR(C=100,loss=epsilon_insensitive)\n",
      "Training mse=208.08579538861352, correlation=0.09301616742319503\n",
      "Validation mse:210.34844623816576, cs =0.0941883077096501 for SVR(C=500,loss=epsilon_insensitive)\n",
      "Training mse=349.2710937060725, correlation=0.07026658480956993\n",
      "Validation mse:344.7721871311538, cs =0.06809133483299751 for SVR(C=1000,loss=epsilon_insensitive)\n",
      "Training mse=1.7815654833395602, correlation=0.34245994308812683\n",
      "Validation mse:2.8697004667533235, cs =0.17936083281923704 for SVR(C=0.01,loss=squared_epsilon_insensitive)\n",
      "Training mse=2.459209547602828, correlation=0.21376503202823824\n",
      "Validation mse:4.635913408112739, cs =0.1259469577777263 for SVR(C=0.05,loss=squared_epsilon_insensitive)\n",
      "Training mse=3.346908977984938, correlation=0.1979736117282149\n",
      "Validation mse:5.975356368393512, cs =0.13170894524974405 for SVR(C=0.1,loss=squared_epsilon_insensitive)\n",
      "Training mse=17.044539599286217, correlation=0.14521662467488367\n",
      "Validation mse:20.610000588529306, cs =0.11643890699835299 for SVR(C=0.5,loss=squared_epsilon_insensitive)\n",
      "Training mse=36.40679549129578, correlation=-0.016207968248997343\n",
      "Validation mse:37.09964875935181, cs =-0.01661578935668534 for SVR(C=1,loss=squared_epsilon_insensitive)\n",
      "Training mse=43.09846117718346, correlation=0.06209560908155915\n",
      "Validation mse:45.32738234176553, cs =0.06648647401467894 for SVR(C=10,loss=squared_epsilon_insensitive)\n",
      "Training mse=190.0646822377648, correlation=0.002826714967426055\n",
      "Validation mse:178.2320835650321, cs =-0.006409313058902659 for SVR(C=50,loss=squared_epsilon_insensitive)\n",
      "Training mse=380.0520814462145, correlation=-0.10923689954966459\n",
      "Validation mse:369.1698139766628, cs =-0.09603982820469399 for SVR(C=100,loss=squared_epsilon_insensitive)\n",
      "Training mse=135.10832673502046, correlation=0.023397950010774732\n",
      "Validation mse:130.2533700709522, cs =0.0219040492893245 for SVR(C=500,loss=squared_epsilon_insensitive)\n",
      "Training mse=128.27530243255703, correlation=0.08494259480015916\n",
      "Validation mse:142.78347301547626, cs =0.08419408863658781 for SVR(C=1000,loss=squared_epsilon_insensitive)\n",
      "mse:2.689218961759789, cs=0.22845930038451676 for best SVR(C=0.01,loss=epsilon_insensitive) model\n",
      "Test mse=2.498702970554186, correlation=0.24613269206700658\n"
     ]
    }
   ],
   "source": [
    "'''\n",
    "returns SVR model with best hyper-parameter estimates\n",
    "'''\n",
    "\n",
    "def select_best_svr_model(Cs,loss,train_X, train_Y, validation_X, validation_Y):\n",
    "    best_model = None\n",
    "    best_C = 1\n",
    "    best_mse = 99999.\n",
    "    best_corr_score = 0\n",
    "    best_loss = -1\n",
    "    for ls in loss:\n",
    "        for C_val in Cs:\n",
    "            model = LinearSVR(C=C_val,loss=ls,max_iter=5000)\n",
    "            model.fit(train_X, train_Y)\n",
    "            predicted_train_Y = model.predict(train_X)\n",
    "            train_mse = mean_squared_error(train_Y, predicted_train_Y)\n",
    "            train_cs = np.corrcoef(train_Y, predicted_train_Y)[0, 1]\n",
    "            print(\"Training mse={0}, correlation={1}\".format(train_mse, train_cs))\n",
    "\n",
    "            pred_validation_Y = model.predict(validation_X)\n",
    "            mse = mean_squared_error(validation_Y, pred_validation_Y)\n",
    "            cs = np.corrcoef(validation_Y, pred_validation_Y)[0, 1]\n",
    "            print(\"Validation mse:{0}, cs ={1} for SVR(C={2},loss={3})\".format(mse, cs, C_val, ls))\n",
    "            \n",
    "            #if best_model is None or mse < best_mse:\n",
    "            if best_model is None or cs > best_corr_score:\n",
    "                #print(\"mse={0}, best_mse={1}\".format(mse, best_mse))\n",
    "                best_C = C_val\n",
    "                best_loss = ls\n",
    "                best_model = model\n",
    "                best_mse = mse\n",
    "                best_corr_score = cs\n",
    "\n",
    "    print(\"mse:{0}, cs={1} for best SVR(C={2},loss={3}) model\".format(best_mse, best_corr_score, best_C, best_loss))\n",
    "    return best_model\n",
    "\n",
    "# hyper-parameter tuning for SVR model selection\n",
    "Cs = [0.01,0.05,0.1,0.5,1, 10, 50,100, 500, 1000]\n",
    "loss = ['epsilon_insensitive','squared_epsilon_insensitive']\n",
    "\n",
    "best_model = select_best_svr_model(Cs,loss,train_X, df_train_Y.values, validation_X, df_validation_Y.values)\n",
    "\n",
    "# now test using best SVR model on test data\n",
    "pred_test_Y = best_model.predict(test_X)\n",
    "test_mse = mean_squared_error(df_test_Y.values, pred_test_Y)\n",
    "test_cs = np.corrcoef(df_test_Y.values, pred_test_Y)[0, 1]\n",
    "print(\"Test mse={0}, correlation={1}\".format(test_mse, test_cs))"
   ]
  },
  {
   "cell_type": "markdown",
   "metadata": {},
   "source": [
    "# 3. Post processing model prediction output\n",
    "1. movie rating lies between 0 and 10\n",
    "2. so, we can make the output lie within [0.10] using **np.clip** method"
   ]
  },
  {
   "cell_type": "code",
   "execution_count": 12,
   "metadata": {
    "collapsed": false
   },
   "outputs": [
    {
     "name": "stdout",
     "output_type": "stream",
     "text": [
      "7.1 7.250251662930974\n",
      "6.9 7.868083111188266\n",
      "8.3 7.7937816894746526\n",
      "8.1 7.740719374514144\n",
      "6.8 7.37647892374252\n",
      "6.6 8.334453963622488\n",
      "4.2 6.2641081072441285\n",
      "4.9 6.365050204921101\n",
      "5.0 7.049671697669336\n",
      "8.0 7.4090240084475845\n",
      "6.6 6.7774421063132\n",
      "7.8 7.586408142533501\n",
      "5.9 5.93008466418888\n",
      "7.3 7.704183858687229\n",
      "6.7 6.756513215019225\n",
      "5.6 7.762328362119133\n",
      "6.7 8.264100030307485\n",
      "3.8 6.455332759665076\n",
      "5.9 7.768799127998589\n",
      "8.6 8.001106178676235\n"
     ]
    }
   ],
   "source": [
    "for gold_y,pred_y in zip(df_test_Y.values[:20], pred_test_Y[:20]):\n",
    "    print(gold_y,pred_y)"
   ]
  },
  {
   "cell_type": "code",
   "execution_count": 13,
   "metadata": {
    "collapsed": false
   },
   "outputs": [
    {
     "name": "stdout",
     "output_type": "stream",
     "text": [
      "test set correlation:old=0.24613269206700658, adjusted=0.32949058135705794\n",
      "7.1 7.250251662930974\n",
      "6.9 7.868083111188266\n",
      "8.3 7.7937816894746526\n",
      "8.1 7.740719374514144\n",
      "6.8 7.37647892374252\n",
      "6.6 8.334453963622488\n",
      "4.2 6.2641081072441285\n",
      "4.9 6.365050204921101\n",
      "5.0 7.049671697669336\n",
      "8.0 7.4090240084475845\n",
      "6.6 6.7774421063132\n",
      "7.8 7.586408142533501\n",
      "5.9 5.93008466418888\n",
      "7.3 7.704183858687229\n",
      "6.7 6.756513215019225\n",
      "5.6 7.762328362119133\n",
      "6.7 8.264100030307485\n",
      "3.8 6.455332759665076\n",
      "5.9 7.768799127998589\n",
      "8.6 8.001106178676235\n",
      "8.0 4.007294939094763\n",
      "8.1 8.3434569393108\n",
      "4.5 5.821602358478868\n",
      "6.3 6.6477923206522025\n",
      "7.6 10.0\n",
      "9.3 6.892959835290443\n",
      "3.4 6.575816335734569\n",
      "4.8 6.251549766681917\n",
      "6.9 6.867260742140714\n",
      "8.1 7.298879794256834\n",
      "5.8 8.11504453210896\n",
      "7.4 8.405129599820969\n",
      "6.2 6.8704434539265975\n",
      "7.6 7.597316149105967\n",
      "8.7 7.982256796399272\n",
      "6.5 7.3921677284529945\n",
      "7.7 7.294334538320736\n",
      "7.8 10.0\n",
      "7.6 7.660621112336705\n",
      "5.4 6.912648751950504\n",
      "5.5 6.082356998250702\n",
      "8.0 7.7527551850152605\n",
      "7.6 6.319056976235452\n",
      "7.4 8.387209809970534\n",
      "5.9 6.637527781101676\n",
      "7.4 7.707562430554063\n",
      "5.2 7.425763982529693\n",
      "7.5 8.736196475759431\n",
      "9.4 7.135027061976974\n",
      "4.4 6.358982030184867\n"
     ]
    }
   ],
   "source": [
    "#clip predY to 0 and 10\n",
    "new_predY = np.clip(pred_test_Y,0,10)\n",
    "print(\"test set correlation:old={0}, adjusted={1}\".format(test_cs,np.corrcoef(df_test_Y.values, new_predY)[0, 1]))\n",
    "for gold_y,pred_y in zip(df_test_Y.values[:50], new_predY[:50]):\n",
    "    print(gold_y,pred_y)"
   ]
  },
  {
   "cell_type": "markdown",
   "metadata": {},
   "source": [
    "### 3. Plot scatter plot of test and predicted ratings"
   ]
  },
  {
   "cell_type": "code",
   "execution_count": 14,
   "metadata": {
    "collapsed": true
   },
   "outputs": [],
   "source": [
    "%matplotlib inline\n",
    "import matplotlib.pyplot as plt\n",
    "import numpy as np\n"
   ]
  },
  {
   "cell_type": "code",
   "execution_count": 15,
   "metadata": {
    "collapsed": false
   },
   "outputs": [
    {
     "data": {
      "image/png": "[encoded data removed]",
      "text/plain": [
       "<matplotlib.figure.Figure at 0x2eac3373860>"
      ]
     },
     "metadata": {},
     "output_type": "display_data"
    }
   ],
   "source": [
    "predicted_train_Y = best_model.predict(train_X)\n",
    "predicted_train_Y = np.clip(predicted_train_Y,0,10)\n",
    "train_gold_Y = df_train_Y.values\n",
    "\n",
    "predicted_validation_Y = best_model.predict(validation_X)\n",
    "predicted_validation_Y = np.clip(predicted_validation_Y,0,10)\n",
    "validation_gold_Y = df_validation_Y.values\n",
    "\n",
    "predicted_test_Y = best_model.predict(test_X)\n",
    "predicted_test_Y = np.clip(predicted_test_Y,0,10)\n",
    "test_gold_Y = df_test_Y.values\n",
    "\n",
    "fig, axs = plt.subplots(3)\n",
    "fig.suptitle('Correlation between gold and predicted movie ratings')\n",
    "\n",
    "axs[0].scatter(train_gold_Y, predicted_train_Y, c=\"g\")\n",
    "\n",
    "plt.ylabel('Predicted Movie Rating')\n",
    "\n",
    "axs[1].scatter(validation_gold_Y, predicted_validation_Y, c=\"r\")\n",
    "plt.ylabel('Predicted Movie Rating')\n",
    "\n",
    "\n",
    "axs[2].scatter(test_gold_Y, predicted_test_Y, c=\"b\")\n",
    "plt.ylabel('Predicted Movie Rating')\n",
    "plt.xlabel('Expected Movie Rating')\n",
    "plt.show()"
   ]
  },
  {
   "cell_type": "code",
   "execution_count": 16,
   "metadata": {
    "collapsed": false
   },
   "outputs": [],
   "source": [
    "#save the model\n",
    "model_filename = 'imdb_rating_model.pkl'\n",
    "model_filename_output = open(model_filename, 'wb')\n",
    "pickle.dump(best_model, model_filename_output)"
   ]
  }
 ],
 "metadata": {
  "anaconda-cloud": {},
  "kernelspec": {
   "display_name": "Python [conda env:Anaconda3]",
   "language": "python",
   "name": "conda-env-Anaconda3-py"
  },
  "language_info": {
   "codemirror_mode": {
    "name": "ipython",
    "version": 3
   },
   "file_extension": ".py",
   "mimetype": "text/x-python",
   "name": "python",
   "nbconvert_exporter": "python",
   "pygments_lexer": "ipython3",
   "version": "3.5.2"
  }
 },
 "nbformat": 4,
 "nbformat_minor": 1
}
